{
 "cells": [
  {
   "cell_type": "markdown",
   "id": "5dafefb1",
   "metadata": {},
   "source": [
    "# Predicting CLTV and Customer Repeat with Machine Learning for Shopify "
   ]
  },
  {
   "cell_type": "markdown",
   "id": "c0ac2715",
   "metadata": {},
   "source": [
    "#### A Data Science Analysis Project by Benjamin N. Bellman "
   ]
  },
  {
   "attachments": {
    "image.png": {
     "image/png": "[encoded data removed]"
    }
   },
   "cell_type": "markdown",
   "id": "f97af0b2",
   "metadata": {},
   "source": [
    "![image.png](attachment:image.png)"
   ]
  },
  {
   "cell_type": "markdown",
   "id": "b227c7cd",
   "metadata": {},
   "source": [
    "### Project Table of Contents: \n",
    "<br> \n",
    "    \n",
    "**I. INTRODUCTION \\& PRELIMINARY ANALYSIS**\n",
    "- 1. Project Purpose \n",
    "- 2. Loading \\& Previewing Data   \n",
    "- 3. Data Wrangling  \n",
    "- 4. Preliminary EDA \n",
    " \n",
    "**II. DATA WRANGLING**  \n",
    "- 1. Cleaning up data. \n",
    "- 2. Creating 3 separate dataframes.\n",
    "- 3. Creating the final 1 year CLTV Table.\n",
    "\n",
    "**III. EXPLORATORY DATA ANALYSIS**     \n",
    "- 1. Loading an Previewing the New Table  \n",
    "- 2. Exploring relationships of variables on Post First Month Spend \n",
    "\n",
    "**IV. PREPROCESSING AND MODELLING**\n",
    "- 1. Linear Models\n",
    "- 2. Classification Models\n"
   ]
  },
  {
   "cell_type": "markdown",
   "id": "6384f601",
   "metadata": {},
   "source": [
    "## Part 3: PreProcessing and Modelling"
   ]
  },
  {
   "cell_type": "markdown",
   "id": "aaa66348",
   "metadata": {},
   "source": [
    "### Loading our Packages and DataFrame"
   ]
  },
  {
   "cell_type": "code",
   "execution_count": 1,
   "id": "6a7f23f4",
   "metadata": {},
   "outputs": [],
   "source": [
    "## We start by importing the packages we will use.\n",
    "\n",
    "import pandas as pd\n",
    "import numpy as np\n",
    "import matplotlib.pyplot as plt\n",
    "import seaborn as sns\n",
    "\n",
    "import statsmodels.api as sm\n",
    "from statsmodels.graphics.api import abline_plot \n",
    "\n",
    "from sklearn.preprocessing import StandardScaler, LabelEncoder\n",
    "from sklearn.model_selection import train_test_split, GridSearchCV, RandomizedSearchCV\n",
    "from sklearn.linear_model import LinearRegression, LogisticRegression\n",
    "from sklearn.tree import DecisionTreeRegressor, DecisionTreeClassifier, plot_tree, export_graphviz\n",
    "from sklearn.ensemble import RandomForestClassifier,RandomForestRegressor\n",
    "\n",
    "from sklearn.metrics import precision_recall_curve, roc_curve, auc, confusion_matrix, accuracy_score, precision_score\n",
    "from sklearn.metrics import mean_squared_error as mse, r2_score, mean_absolute_error as mae, f1_score, fbeta_score \n",
    "from sklearn.metrics import plot_confusion_matrix,classification_report, balanced_accuracy_score, recall_score\n",
    "\n",
    "from io import StringIO \n",
    "from IPython.display import Image  \n",
    "import pydotplus\n",
    "import graphviz\n",
    "\n",
    "import warnings\n",
    "warnings.filterwarnings('ignore')\n",
    "\n",
    "%matplotlib inline\n",
    "pd.set_option('display.max_columns', None)"
   ]
  },
  {
   "cell_type": "code",
   "execution_count": 2,
   "id": "c202604d",
   "metadata": {
    "scrolled": true
   },
   "outputs": [
    {
     "data": {
      "text/html": [
       "<div>\n",
       "<style scoped>\n",
       "    .dataframe tbody tr th:only-of-type {\n",
       "        vertical-align: middle;\n",
       "    }\n",
       "\n",
       "    .dataframe tbody tr th {\n",
       "        vertical-align: top;\n",
       "    }\n",
       "\n",
       "    .dataframe thead th {\n",
       "        text-align: right;\n",
       "    }\n",
       "</style>\n",
       "<table border=\"1\" class=\"dataframe\">\n",
       "  <thead>\n",
       "    <tr style=\"text-align: right;\">\n",
       "      <th></th>\n",
       "      <th>CustomerID</th>\n",
       "      <th>pfm_spent</th>\n",
       "      <th>fm_nb_orders</th>\n",
       "      <th>fm_nb_items</th>\n",
       "      <th>fm_total_spent</th>\n",
       "      <th>fm_used_coupon</th>\n",
       "      <th>first_order_month</th>\n",
       "      <th>fm_purchased_accessory</th>\n",
       "      <th>first_item_size</th>\n",
       "      <th>accepts_marketing</th>\n",
       "      <th>wealthy_zip</th>\n",
       "      <th>region</th>\n",
       "      <th>first_item_price_range</th>\n",
       "    </tr>\n",
       "  </thead>\n",
       "  <tbody>\n",
       "    <tr>\n",
       "      <th>0</th>\n",
       "      <td>Anonymous13455</td>\n",
       "      <td>1054.80</td>\n",
       "      <td>6</td>\n",
       "      <td>6</td>\n",
       "      <td>253.0</td>\n",
       "      <td>0</td>\n",
       "      <td>7</td>\n",
       "      <td>1</td>\n",
       "      <td>M</td>\n",
       "      <td>0</td>\n",
       "      <td>0</td>\n",
       "      <td>MW</td>\n",
       "      <td>high</td>\n",
       "    </tr>\n",
       "    <tr>\n",
       "      <th>1</th>\n",
       "      <td>Anonymous2142</td>\n",
       "      <td>436.15</td>\n",
       "      <td>1</td>\n",
       "      <td>1</td>\n",
       "      <td>48.0</td>\n",
       "      <td>0</td>\n",
       "      <td>5</td>\n",
       "      <td>0</td>\n",
       "      <td>L</td>\n",
       "      <td>0</td>\n",
       "      <td>0</td>\n",
       "      <td>NE</td>\n",
       "      <td>high</td>\n",
       "    </tr>\n",
       "    <tr>\n",
       "      <th>2</th>\n",
       "      <td>Anonymous4843</td>\n",
       "      <td>856.75</td>\n",
       "      <td>4</td>\n",
       "      <td>6</td>\n",
       "      <td>292.0</td>\n",
       "      <td>0</td>\n",
       "      <td>10</td>\n",
       "      <td>0</td>\n",
       "      <td>S</td>\n",
       "      <td>1</td>\n",
       "      <td>0</td>\n",
       "      <td>W</td>\n",
       "      <td>high</td>\n",
       "    </tr>\n",
       "    <tr>\n",
       "      <th>3</th>\n",
       "      <td>Anonymous11225</td>\n",
       "      <td>614.10</td>\n",
       "      <td>4</td>\n",
       "      <td>4</td>\n",
       "      <td>130.0</td>\n",
       "      <td>0</td>\n",
       "      <td>2</td>\n",
       "      <td>1</td>\n",
       "      <td>No size</td>\n",
       "      <td>1</td>\n",
       "      <td>0</td>\n",
       "      <td>MW</td>\n",
       "      <td>low</td>\n",
       "    </tr>\n",
       "    <tr>\n",
       "      <th>4</th>\n",
       "      <td>Anonymous540</td>\n",
       "      <td>1114.75</td>\n",
       "      <td>1</td>\n",
       "      <td>1</td>\n",
       "      <td>50.0</td>\n",
       "      <td>0</td>\n",
       "      <td>1</td>\n",
       "      <td>0</td>\n",
       "      <td>XS</td>\n",
       "      <td>0</td>\n",
       "      <td>0</td>\n",
       "      <td>W</td>\n",
       "      <td>high</td>\n",
       "    </tr>\n",
       "  </tbody>\n",
       "</table>\n",
       "</div>"
      ],
      "text/plain": [
       "       CustomerID  pfm_spent  fm_nb_orders  fm_nb_items  fm_total_spent  \\\n",
       "0  Anonymous13455    1054.80             6            6           253.0   \n",
       "1   Anonymous2142     436.15             1            1            48.0   \n",
       "2   Anonymous4843     856.75             4            6           292.0   \n",
       "3  Anonymous11225     614.10             4            4           130.0   \n",
       "4    Anonymous540    1114.75             1            1            50.0   \n",
       "\n",
       "   fm_used_coupon  first_order_month  fm_purchased_accessory first_item_size  \\\n",
       "0               0                  7                       1               M   \n",
       "1               0                  5                       0               L   \n",
       "2               0                 10                       0               S   \n",
       "3               0                  2                       1         No size   \n",
       "4               0                  1                       0              XS   \n",
       "\n",
       "   accepts_marketing  wealthy_zip region first_item_price_range  \n",
       "0                  0            0     MW                   high  \n",
       "1                  0            0     NE                   high  \n",
       "2                  1            0      W                   high  \n",
       "3                  1            0     MW                    low  \n",
       "4                  0            0      W                   high  "
      ]
     },
     "execution_count": 2,
     "metadata": {},
     "output_type": "execute_result"
    }
   ],
   "source": [
    "## We Load and preview our customer_cltv dataframe from the previouse chapter \n",
    "customer_cltv = pd.read_csv('.\\..\\cleaned_data_by_month.csv',index_col=0)\n",
    "customer_cltv.head()"
   ]
  },
  {
   "cell_type": "markdown",
   "id": "435d1ad2",
   "metadata": {},
   "source": [
    "## Preprocessing: "
   ]
  },
  {
   "cell_type": "code",
   "execution_count": 3,
   "id": "e0a20e7b",
   "metadata": {},
   "outputs": [],
   "source": [
    "## Drop some error rows (no spending on the first month)\n",
    "customer_cltv = customer_cltv[customer_cltv.loc[:,'fm_total_spent'] > 0] \n",
    "\n",
    "## Drop all non-repeat customers\n",
    "#customer_cltv_drop = customer_cltv_drop[customer_cltv.loc[:,'pfm_spent'] > 0]"
   ]
  },
  {
   "cell_type": "markdown",
   "id": "b65fc573",
   "metadata": {},
   "source": [
    "<br> **Drop variables that we found to be heavily correlated with other or irrelevant through the previous step of EDA**\n",
    "- **fm_nb_items** is highly correlated with fm_total_spent (c=0.94)\n",
    "- **fm_nb_orders** is very unbalanced (~ 95% customers only made 1 order the first month)\n",
    "- **region** was found to be insignificant based on several steps of statistical analysis\n",
    "- **fm_purchased_accessory** is logically redundant with first_item_size\n"
   ]
  },
  {
   "cell_type": "code",
   "execution_count": 4,
   "id": "32167cc4",
   "metadata": {},
   "outputs": [],
   "source": [
    "customer_cltv.drop(columns=['fm_nb_items', 'region', 'fm_nb_orders', 'fm_purchased_accessory'], inplace = True)"
   ]
  },
  {
   "cell_type": "markdown",
   "id": "7b2f21c5",
   "metadata": {},
   "source": [
    "<br> **Modify variables based on findings from EDA**\n",
    "- **first_order_month** can be modified to be 2 categories: February-June vs rest of the year\n",
    "- **first_item size** can be modified to be 2 categories: Large Size and Smaller Sizes"
   ]
  },
  {
   "cell_type": "code",
   "execution_count": 5,
   "id": "6f8983ab",
   "metadata": {},
   "outputs": [
    {
     "data": {
      "text/html": [
       "<div>\n",
       "<style scoped>\n",
       "    .dataframe tbody tr th:only-of-type {\n",
       "        vertical-align: middle;\n",
       "    }\n",
       "\n",
       "    .dataframe tbody tr th {\n",
       "        vertical-align: top;\n",
       "    }\n",
       "\n",
       "    .dataframe thead th {\n",
       "        text-align: right;\n",
       "    }\n",
       "</style>\n",
       "<table border=\"1\" class=\"dataframe\">\n",
       "  <thead>\n",
       "    <tr style=\"text-align: right;\">\n",
       "      <th></th>\n",
       "      <th>CustomerID</th>\n",
       "      <th>pfm_spent</th>\n",
       "      <th>fm_total_spent</th>\n",
       "      <th>fm_used_coupon</th>\n",
       "      <th>accepts_marketing</th>\n",
       "      <th>wealthy_zip</th>\n",
       "      <th>first_item_price_range</th>\n",
       "      <th>first_order_feb_june</th>\n",
       "      <th>large_size</th>\n",
       "    </tr>\n",
       "  </thead>\n",
       "  <tbody>\n",
       "    <tr>\n",
       "      <th>0</th>\n",
       "      <td>Anonymous13455</td>\n",
       "      <td>1054.80</td>\n",
       "      <td>253.0</td>\n",
       "      <td>0</td>\n",
       "      <td>0</td>\n",
       "      <td>0</td>\n",
       "      <td>high</td>\n",
       "      <td>0</td>\n",
       "      <td>1</td>\n",
       "    </tr>\n",
       "    <tr>\n",
       "      <th>1</th>\n",
       "      <td>Anonymous2142</td>\n",
       "      <td>436.15</td>\n",
       "      <td>48.0</td>\n",
       "      <td>0</td>\n",
       "      <td>0</td>\n",
       "      <td>0</td>\n",
       "      <td>high</td>\n",
       "      <td>1</td>\n",
       "      <td>1</td>\n",
       "    </tr>\n",
       "    <tr>\n",
       "      <th>2</th>\n",
       "      <td>Anonymous4843</td>\n",
       "      <td>856.75</td>\n",
       "      <td>292.0</td>\n",
       "      <td>0</td>\n",
       "      <td>1</td>\n",
       "      <td>0</td>\n",
       "      <td>high</td>\n",
       "      <td>0</td>\n",
       "      <td>0</td>\n",
       "    </tr>\n",
       "    <tr>\n",
       "      <th>3</th>\n",
       "      <td>Anonymous11225</td>\n",
       "      <td>614.10</td>\n",
       "      <td>130.0</td>\n",
       "      <td>0</td>\n",
       "      <td>1</td>\n",
       "      <td>0</td>\n",
       "      <td>low</td>\n",
       "      <td>1</td>\n",
       "      <td>0</td>\n",
       "    </tr>\n",
       "    <tr>\n",
       "      <th>4</th>\n",
       "      <td>Anonymous540</td>\n",
       "      <td>1114.75</td>\n",
       "      <td>50.0</td>\n",
       "      <td>0</td>\n",
       "      <td>0</td>\n",
       "      <td>0</td>\n",
       "      <td>high</td>\n",
       "      <td>0</td>\n",
       "      <td>0</td>\n",
       "    </tr>\n",
       "  </tbody>\n",
       "</table>\n",
       "</div>"
      ],
      "text/plain": [
       "       CustomerID  pfm_spent  fm_total_spent  fm_used_coupon  \\\n",
       "0  Anonymous13455    1054.80           253.0               0   \n",
       "1   Anonymous2142     436.15            48.0               0   \n",
       "2   Anonymous4843     856.75           292.0               0   \n",
       "3  Anonymous11225     614.10           130.0               0   \n",
       "4    Anonymous540    1114.75            50.0               0   \n",
       "\n",
       "   accepts_marketing  wealthy_zip first_item_price_range  \\\n",
       "0                  0            0                   high   \n",
       "1                  0            0                   high   \n",
       "2                  1            0                   high   \n",
       "3                  1            0                    low   \n",
       "4                  0            0                   high   \n",
       "\n",
       "   first_order_feb_june  large_size  \n",
       "0                     0           1  \n",
       "1                     1           1  \n",
       "2                     0           0  \n",
       "3                     1           0  \n",
       "4                     0           0  "
      ]
     },
     "execution_count": 5,
     "metadata": {},
     "output_type": "execute_result"
    }
   ],
   "source": [
    "## First Item Month \n",
    "customer_cltv['first_order_feb_june'] = customer_cltv['first_order_month'].apply(lambda x: x in [2, 3, 4, 5, 6])\n",
    "customer_cltv['first_order_feb_june'].replace({True:1,False:0}, inplace = True)\n",
    "customer_cltv.drop(columns=['first_order_month'], inplace = True)\n",
    "\n",
    "## First Item Size: \n",
    "customer_cltv['large_size'] = customer_cltv['first_item_size'].apply(lambda x: x in ['XL','L','M'])\n",
    "customer_cltv['large_size'].replace({True:1,False:0}, inplace = True)\n",
    "customer_cltv.drop(columns=['first_item_size'], inplace = True)\n",
    "customer_cltv.head()"
   ]
  },
  {
   "cell_type": "markdown",
   "id": "95e7e35c",
   "metadata": {},
   "source": [
    "#### We create dummy variables for our categorical variables."
   ]
  },
  {
   "cell_type": "code",
   "execution_count": 6,
   "id": "5d34d559",
   "metadata": {},
   "outputs": [
    {
     "data": {
      "text/html": [
       "<div>\n",
       "<style scoped>\n",
       "    .dataframe tbody tr th:only-of-type {\n",
       "        vertical-align: middle;\n",
       "    }\n",
       "\n",
       "    .dataframe tbody tr th {\n",
       "        vertical-align: top;\n",
       "    }\n",
       "\n",
       "    .dataframe thead th {\n",
       "        text-align: right;\n",
       "    }\n",
       "</style>\n",
       "<table border=\"1\" class=\"dataframe\">\n",
       "  <thead>\n",
       "    <tr style=\"text-align: right;\">\n",
       "      <th></th>\n",
       "      <th>CustomerID</th>\n",
       "      <th>pfm_spent</th>\n",
       "      <th>fm_total_spent</th>\n",
       "      <th>fm_used_coupon</th>\n",
       "      <th>accepts_marketing</th>\n",
       "      <th>wealthy_zip</th>\n",
       "      <th>first_order_feb_june</th>\n",
       "      <th>large_size</th>\n",
       "      <th>first_item_price_range_low</th>\n",
       "      <th>first_item_price_range_medium</th>\n",
       "    </tr>\n",
       "  </thead>\n",
       "  <tbody>\n",
       "    <tr>\n",
       "      <th>0</th>\n",
       "      <td>Anonymous13455</td>\n",
       "      <td>1054.80</td>\n",
       "      <td>253.0</td>\n",
       "      <td>0</td>\n",
       "      <td>0</td>\n",
       "      <td>0</td>\n",
       "      <td>0</td>\n",
       "      <td>1</td>\n",
       "      <td>0</td>\n",
       "      <td>0</td>\n",
       "    </tr>\n",
       "    <tr>\n",
       "      <th>1</th>\n",
       "      <td>Anonymous2142</td>\n",
       "      <td>436.15</td>\n",
       "      <td>48.0</td>\n",
       "      <td>0</td>\n",
       "      <td>0</td>\n",
       "      <td>0</td>\n",
       "      <td>1</td>\n",
       "      <td>1</td>\n",
       "      <td>0</td>\n",
       "      <td>0</td>\n",
       "    </tr>\n",
       "    <tr>\n",
       "      <th>2</th>\n",
       "      <td>Anonymous4843</td>\n",
       "      <td>856.75</td>\n",
       "      <td>292.0</td>\n",
       "      <td>0</td>\n",
       "      <td>1</td>\n",
       "      <td>0</td>\n",
       "      <td>0</td>\n",
       "      <td>0</td>\n",
       "      <td>0</td>\n",
       "      <td>0</td>\n",
       "    </tr>\n",
       "    <tr>\n",
       "      <th>3</th>\n",
       "      <td>Anonymous11225</td>\n",
       "      <td>614.10</td>\n",
       "      <td>130.0</td>\n",
       "      <td>0</td>\n",
       "      <td>1</td>\n",
       "      <td>0</td>\n",
       "      <td>1</td>\n",
       "      <td>0</td>\n",
       "      <td>1</td>\n",
       "      <td>0</td>\n",
       "    </tr>\n",
       "    <tr>\n",
       "      <th>4</th>\n",
       "      <td>Anonymous540</td>\n",
       "      <td>1114.75</td>\n",
       "      <td>50.0</td>\n",
       "      <td>0</td>\n",
       "      <td>0</td>\n",
       "      <td>0</td>\n",
       "      <td>0</td>\n",
       "      <td>0</td>\n",
       "      <td>0</td>\n",
       "      <td>0</td>\n",
       "    </tr>\n",
       "  </tbody>\n",
       "</table>\n",
       "</div>"
      ],
      "text/plain": [
       "       CustomerID  pfm_spent  fm_total_spent  fm_used_coupon  \\\n",
       "0  Anonymous13455    1054.80           253.0               0   \n",
       "1   Anonymous2142     436.15            48.0               0   \n",
       "2   Anonymous4843     856.75           292.0               0   \n",
       "3  Anonymous11225     614.10           130.0               0   \n",
       "4    Anonymous540    1114.75            50.0               0   \n",
       "\n",
       "   accepts_marketing  wealthy_zip  first_order_feb_june  large_size  \\\n",
       "0                  0            0                     0           1   \n",
       "1                  0            0                     1           1   \n",
       "2                  1            0                     0           0   \n",
       "3                  1            0                     1           0   \n",
       "4                  0            0                     0           0   \n",
       "\n",
       "   first_item_price_range_low  first_item_price_range_medium  \n",
       "0                           0                              0  \n",
       "1                           0                              0  \n",
       "2                           0                              0  \n",
       "3                           1                              0  \n",
       "4                           0                              0  "
      ]
     },
     "execution_count": 6,
     "metadata": {},
     "output_type": "execute_result"
    }
   ],
   "source": [
    "## We create dummy variables for prize range of items. \n",
    "categorical_cols = ['first_item_price_range']\n",
    "dummies_encoded = pd.get_dummies(customer_cltv[categorical_cols].astype(str),drop_first=True)\n",
    "customer_cltv = pd.concat([customer_cltv,dummies_encoded], axis =1)\n",
    "customer_cltv.drop(columns=['first_item_price_range'],inplace = True)\n",
    "customer_cltv.head()"
   ]
  },
  {
   "cell_type": "code",
   "execution_count": 7,
   "id": "7a849434",
   "metadata": {},
   "outputs": [
    {
     "name": "stdout",
     "output_type": "stream",
     "text": [
      "(10590, 8) (10590,)\n"
     ]
    }
   ],
   "source": [
    "## We get our feature variables and target variables\n",
    "X = customer_cltv.drop(columns=['CustomerID','pfm_spent'])\n",
    "y = customer_cltv['pfm_spent']\n",
    "print(X.shape, y.shape)"
   ]
  },
  {
   "cell_type": "code",
   "execution_count": 8,
   "id": "64a03fd9",
   "metadata": {},
   "outputs": [
    {
     "data": {
      "text/html": [
       "<div>\n",
       "<style scoped>\n",
       "    .dataframe tbody tr th:only-of-type {\n",
       "        vertical-align: middle;\n",
       "    }\n",
       "\n",
       "    .dataframe tbody tr th {\n",
       "        vertical-align: top;\n",
       "    }\n",
       "\n",
       "    .dataframe thead th {\n",
       "        text-align: right;\n",
       "    }\n",
       "</style>\n",
       "<table border=\"1\" class=\"dataframe\">\n",
       "  <thead>\n",
       "    <tr style=\"text-align: right;\">\n",
       "      <th></th>\n",
       "      <th>fm_total_spent</th>\n",
       "      <th>fm_used_coupon</th>\n",
       "      <th>accepts_marketing</th>\n",
       "      <th>wealthy_zip</th>\n",
       "      <th>first_order_feb_june</th>\n",
       "      <th>large_size</th>\n",
       "      <th>first_item_price_range_low</th>\n",
       "      <th>first_item_price_range_medium</th>\n",
       "    </tr>\n",
       "  </thead>\n",
       "  <tbody>\n",
       "    <tr>\n",
       "      <th>0</th>\n",
       "      <td>2.992599</td>\n",
       "      <td>0</td>\n",
       "      <td>0</td>\n",
       "      <td>0</td>\n",
       "      <td>0</td>\n",
       "      <td>1</td>\n",
       "      <td>0</td>\n",
       "      <td>0</td>\n",
       "    </tr>\n",
       "    <tr>\n",
       "      <th>1</th>\n",
       "      <td>-0.428265</td>\n",
       "      <td>0</td>\n",
       "      <td>0</td>\n",
       "      <td>0</td>\n",
       "      <td>1</td>\n",
       "      <td>1</td>\n",
       "      <td>0</td>\n",
       "      <td>0</td>\n",
       "    </tr>\n",
       "    <tr>\n",
       "      <th>2</th>\n",
       "      <td>3.643398</td>\n",
       "      <td>0</td>\n",
       "      <td>1</td>\n",
       "      <td>0</td>\n",
       "      <td>0</td>\n",
       "      <td>0</td>\n",
       "      <td>0</td>\n",
       "      <td>0</td>\n",
       "    </tr>\n",
       "    <tr>\n",
       "      <th>3</th>\n",
       "      <td>0.940081</td>\n",
       "      <td>0</td>\n",
       "      <td>1</td>\n",
       "      <td>0</td>\n",
       "      <td>1</td>\n",
       "      <td>0</td>\n",
       "      <td>1</td>\n",
       "      <td>0</td>\n",
       "    </tr>\n",
       "    <tr>\n",
       "      <th>4</th>\n",
       "      <td>-0.394890</td>\n",
       "      <td>0</td>\n",
       "      <td>0</td>\n",
       "      <td>0</td>\n",
       "      <td>0</td>\n",
       "      <td>0</td>\n",
       "      <td>0</td>\n",
       "      <td>0</td>\n",
       "    </tr>\n",
       "  </tbody>\n",
       "</table>\n",
       "</div>"
      ],
      "text/plain": [
       "   fm_total_spent  fm_used_coupon  accepts_marketing  wealthy_zip  \\\n",
       "0        2.992599               0                  0            0   \n",
       "1       -0.428265               0                  0            0   \n",
       "2        3.643398               0                  1            0   \n",
       "3        0.940081               0                  1            0   \n",
       "4       -0.394890               0                  0            0   \n",
       "\n",
       "   first_order_feb_june  large_size  first_item_price_range_low  \\\n",
       "0                     0           1                           0   \n",
       "1                     1           1                           0   \n",
       "2                     0           0                           0   \n",
       "3                     1           0                           1   \n",
       "4                     0           0                           0   \n",
       "\n",
       "   first_item_price_range_medium  \n",
       "0                              0  \n",
       "1                              0  \n",
       "2                              0  \n",
       "3                              0  \n",
       "4                              0  "
      ]
     },
     "execution_count": 8,
     "metadata": {},
     "output_type": "execute_result"
    }
   ],
   "source": [
    "## We use a scaler to scale the feature variables which are not categorical: \n",
    "cols_to_scale = ['fm_total_spent']\n",
    "scaler = StandardScaler()\n",
    "scaler.fit(X[cols_to_scale])\n",
    "\n",
    "X_scaled = scaler.transform(X[cols_to_scale])\n",
    "for ind, col in enumerate(cols_to_scale):\n",
    "    X[col] = X_scaled[:,ind]\n",
    "X.head()"
   ]
  },
  {
   "cell_type": "code",
   "execution_count": 9,
   "id": "15a4612b",
   "metadata": {},
   "outputs": [
    {
     "name": "stdout",
     "output_type": "stream",
     "text": [
      "(7942, 8) (2648, 8) (7942,) (2648,)\n"
     ]
    }
   ],
   "source": [
    "## We split our data into training and test sets\n",
    "X_train, X_test, y_train, y_test = train_test_split(X, y, test_size=0.25, random_state=42)\n",
    "print(X_train.shape, X_test.shape, y_train.shape, y_test.shape)"
   ]
  },
  {
   "cell_type": "markdown",
   "id": "41a69bb8",
   "metadata": {},
   "source": [
    "## I. Linear Models: \n",
    "- Ordinary Linear Regression\n",
    "- Lasso, Ridge Regression - tried but don't bring benefits compared to OLS, because we find reasonable coefficient values without applying penalization.\n",
    "- Elastic Net - not tried, though we would expect the same as above.\n",
    "\n",
    "- Decision Trees\n",
    "- Random Forest\n",
    "- GBM\n",
    "- Light GBM\n",
    "- XGboost\n",
    "- Adaboost\n",
    "- Neural Networks"
   ]
  },
  {
   "cell_type": "markdown",
   "id": "5bbfaebd",
   "metadata": {},
   "source": [
    "## Multiple Linear Regression"
   ]
  },
  {
   "cell_type": "code",
   "execution_count": 10,
   "id": "6688fffc",
   "metadata": {},
   "outputs": [
    {
     "name": "stdout",
     "output_type": "stream",
     "text": [
      "R-squared on training data:  0.0517486395429404\n"
     ]
    }
   ],
   "source": [
    "## We instantiate the linear Regression model and fit to the training data. \n",
    "rModel = LinearRegression()\n",
    "rModel.fit(X_train, y_train)\n",
    "\n",
    "## We make prediction\n",
    "y_pred_lin = rModel.predict(X_test)\n",
    "print(\"R-squared on training data: \", rModel.score(X_train,y_train))"
   ]
  },
  {
   "cell_type": "code",
   "execution_count": 11,
   "id": "c9173873",
   "metadata": {
    "scrolled": false
   },
   "outputs": [
    {
     "data": {
      "image/png": "[encoded data removed]",
      "text/plain": [
       "<Figure size 1008x504 with 1 Axes>"
      ]
     },
     "metadata": {
      "needs_background": "light"
     },
     "output_type": "display_data"
    }
   ],
   "source": [
    "## We visualize the actual values vs the predicted values. \n",
    "plt.figure(figsize=(14,7))\n",
    "plt.scatter(y_test, y_pred_lin)\n",
    "plt.plot([x for x in range(0,300)],[x for x in range(0,300)], color='r', linestyle ='--', \n",
    "         label = 'Points on this line are accurately predicted.')\n",
    "plt.xlabel('Actual values')\n",
    "plt.ylabel('Predicted values')\n",
    "plt.title('Multiple Linear Regression Model Actuals vs Predictions', pad =25, fontsize = 20)\n",
    "plt.xlim(0,300)\n",
    "plt.legend()\n",
    "plt.show()"
   ]
  },
  {
   "cell_type": "code",
   "execution_count": 12,
   "id": "5adca047",
   "metadata": {},
   "outputs": [
    {
     "name": "stdout",
     "output_type": "stream",
     "text": [
      "Mean PFMS: 73.66\n",
      "R Squared - Multiple Regression: 0.075\n",
      "MSE: 7600.259\n",
      "RMSE: 87.179\n",
      "\n",
      "\n",
      "Model coefficients:  [16.35582227  4.41205576  6.68978002 -6.87605842  9.67033794  5.15476419\n",
      " -0.47828881 -2.31495965]\n",
      "Model intercept:  22.190434831643376\n",
      "Coef matrix rank:  8\n",
      "Coef matrix singular values:  [89.13610941 49.48304432 43.82225184 40.07903041 38.03949465 31.92861462\n",
      " 31.36638009 29.49788071]\n"
     ]
    }
   ],
   "source": [
    "## Let's print out some metrics: \n",
    "print('Mean PFMS: ' + str(round(customer_cltv.fm_total_spent.mean(),2)))\n",
    "print('R Squared - Multiple Regression: ' + str(round(r2_score(y_test,y_pred_lin),3)))\n",
    "print('MSE: '+ str(round(mse(y_test,y_pred_lin),3)))\n",
    "print('RMSE: ' +str(round(mse(y_test, y_pred_lin, squared =False),3)))\n",
    "print(\"\\n\")\n",
    "print(\"Model coefficients: \", rModel.coef_) \n",
    "print(\"Model intercept: \", rModel.intercept_)\n",
    "print(\"Coef matrix rank: \", rModel.rank_) \n",
    "print(\"Coef matrix singular values: \", rModel.singular_)"
   ]
  },
  {
   "cell_type": "code",
   "execution_count": 13,
   "id": "abfd75cb",
   "metadata": {},
   "outputs": [
    {
     "data": {
      "text/plain": [
       "{'copy_X': True,\n",
       " 'fit_intercept': True,\n",
       " 'n_jobs': None,\n",
       " 'normalize': 'deprecated',\n",
       " 'positive': False}"
      ]
     },
     "execution_count": 13,
     "metadata": {},
     "output_type": "execute_result"
    }
   ],
   "source": [
    "## Let's get the best parameters for the Linear Regression model. \n",
    "rModel.get_params()"
   ]
  },
  {
   "cell_type": "code",
   "execution_count": 14,
   "id": "97bfcef0",
   "metadata": {},
   "outputs": [
    {
     "data": {
      "text/plain": [
       "GridSearchCV(cv=10, estimator=LinearRegression(), n_jobs=-1,\n",
       "             param_grid={'copy_X': [True, False],\n",
       "                         'fit_intercept': [True, False], 'n_jobs': [-1],\n",
       "                         'positive': [True, False]})"
      ]
     },
     "execution_count": 14,
     "metadata": {},
     "output_type": "execute_result"
    }
   ],
   "source": [
    "## Linear Regression GridParameters:\n",
    "copy_X = [True,False]\n",
    "fit_intercept = [True,False]\n",
    "positive = [True, False]\n",
    "\n",
    "lr_parameter_grid = {'copy_X':copy_X  ,\n",
    "                     'fit_intercept': fit_intercept,\n",
    "                     'n_jobs': [-1],\n",
    "                     'positive': positive}\n",
    "\n",
    "lr_GS = GridSearchCV(estimator = rModel,\n",
    "                              param_grid = lr_parameter_grid, cv =10, n_jobs =-1)\n",
    "\n",
    "lr_GS.fit(X_train, y_train)"
   ]
  },
  {
   "cell_type": "code",
   "execution_count": 15,
   "id": "4aeb6ad9",
   "metadata": {},
   "outputs": [
    {
     "name": "stdout",
     "output_type": "stream",
     "text": [
      "Best Parameters: {'copy_X': True, 'fit_intercept': True, 'n_jobs': -1, 'positive': False}\n",
      "Best Estimator: LinearRegression(n_jobs=-1)\n",
      "Best Score: 0.04724990710401231\n",
      "\n",
      "\n"
     ]
    }
   ],
   "source": [
    "print('Best Parameters: ' + str(lr_GS.best_params_))\n",
    "print('Best Estimator: ' + str(lr_GS.best_estimator_))\n",
    "print('Best Score: ' + str(lr_GS.best_score_))\n",
    "print(\"\\n\")\n",
    "#print('Cross Validation Results: ' + str(lr_GS.cv_results_))"
   ]
  },
  {
   "cell_type": "code",
   "execution_count": 16,
   "id": "73014e3a",
   "metadata": {},
   "outputs": [
    {
     "name": "stdout",
     "output_type": "stream",
     "text": [
      "R-squared on training data:  0.05067640951529584\n",
      "R-squared on training data:  0.07435276585192685\n"
     ]
    }
   ],
   "source": [
    "rModel2 = LinearRegression(copy_X= True, fit_intercept= True, n_jobs= -1, positive= True)\n",
    "rModel2.fit(X_train, y_train)\n",
    "\n",
    "## We make prediction\n",
    "y_pred_lin2 = rModel2.predict(X_test)\n",
    "print(\"R-squared on training data: \", rModel2.score(X_train,y_train))\n",
    "print(\"R-squared on training data: \", rModel2.score(X_test,y_test))"
   ]
  },
  {
   "cell_type": "markdown",
   "id": "85b7029d",
   "metadata": {},
   "source": [
    "## Random Forest Regressor"
   ]
  },
  {
   "cell_type": "code",
   "execution_count": 17,
   "id": "c09685d2",
   "metadata": {},
   "outputs": [
    {
     "data": {
      "image/png": "[encoded data removed]",
      "text/plain": [
       "<Figure size 1008x576 with 1 Axes>"
      ]
     },
     "metadata": {
      "needs_background": "light"
     },
     "output_type": "display_data"
    }
   ],
   "source": [
    "## Prior to making the Random Forest Regressor, let's try and find the optimal depth: \n",
    "\n",
    "max_depths = range(1,21)\n",
    "training_error = []\n",
    "for max_depth in max_depths:\n",
    "    model_1 = RandomForestRegressor(max_depth = max_depth)\n",
    "    model_1.fit(X,y)\n",
    "    training_error.append(mse(y_train,model_1.predict(X_train)))\n",
    "\n",
    "## We append the MSEs for each max_depth tested for the testing test.\n",
    "testing_error=[]\n",
    "for max_depth in max_depths:\n",
    "    model_2 = RandomForestRegressor(max_depth = max_depth)\n",
    "    model_2.fit(X_train,y_train)\n",
    "    testing_error.append(mse(y_test,model_2.predict(X_test)))\n",
    "\n",
    "## Since random_state is not always active, we may get a different result each time. \n",
    "## Thus, we store the testing error in errors, create an index, and start the index at 1 since we will use this to return\n",
    "## the x for the MSE (y intercept) which is the lowest for the testing error. \n",
    "\n",
    "errors = list(enumerate(testing_error,1))\n",
    "\n",
    "## We plot the figures. \n",
    "plt.figure(figsize=((14,8)))\n",
    "plt.plot(max_depths,training_error, c ='b', label='Training Error')\n",
    "plt.plot(max_depths,testing_error, c ='r',label='Testing Error')\n",
    "plt.title(\"As Tree Depth increases, both MSE's decreases but testing's increases after depth \" + \n",
    "          str(min(errors, key = lambda t: t[1])[0]), fontsize=20, pad=20)\n",
    "\n",
    "## The axvline changes for each refesh, this code plots a line through the minimum MSE for the testing error.\n",
    "plt.axvline(x=min(errors, key = lambda t: t[1])[0],c='g',marker='3',linestyle='--')\n",
    "plt.annotate('Optimal Depth = ' + str(min(errors, key = lambda t: t[1])[0]),\n",
    "             xy=(min(errors, key = lambda t: t[1])[0] + 0.75,14000))\n",
    "\n",
    "## We label the axes and make our graph nice. \n",
    "plt.xlabel('Tree Depth')\n",
    "plt.ylabel('MSE')\n",
    "plt.xticks(range(0,21))\n",
    "plt.xlim(1,20)\n",
    "plt.legend()\n",
    "plt.show()"
   ]
  },
  {
   "cell_type": "code",
   "execution_count": 18,
   "id": "865a12af",
   "metadata": {},
   "outputs": [],
   "source": [
    "## We instantiate a Random Forest Regressor and fit it to the training and testing data. We make predictions for y.\n",
    "rfg = RandomForestRegressor(max_depth =4 , random_state = 42)\n",
    "rfg.fit(X_train,y_train)\n",
    "y_pred = rfg.predict(X_test)"
   ]
  },
  {
   "cell_type": "code",
   "execution_count": 19,
   "id": "3a3147bf",
   "metadata": {},
   "outputs": [
    {
     "name": "stdout",
     "output_type": "stream",
     "text": [
      "R squared for random forest regressor, on training data:  0.09479529895214456\n",
      "R squared for random forest regressor, on test data:  0.04709397641342372\n"
     ]
    }
   ],
   "source": [
    "## We print out our metrics. \n",
    "print(\"R squared for random forest regressor, on training data: \", rfg.score(X_train, y_train))\n",
    "print(\"R squared for random forest regressor, on test data: \", rfg.score(X_test, y_test))"
   ]
  },
  {
   "cell_type": "code",
   "execution_count": 20,
   "id": "4b95e105",
   "metadata": {},
   "outputs": [
    {
     "data": {
      "text/plain": [
       "GridSearchCV(cv=3,\n",
       "             estimator=RandomForestRegressor(max_depth=4, random_state=42),\n",
       "             n_jobs=-1,\n",
       "             param_grid={'bootstrap': [True, False],\n",
       "                         'max_depth': [2, 4, 6, 8, 10],\n",
       "                         'max_features': ['auto', 'sqrt'],\n",
       "                         'min_samples_leaf': [1, 2, 4],\n",
       "                         'min_samples_split': [2, 5, 10],\n",
       "                         'n_estimators': [10, 30, 50, 100]})"
      ]
     },
     "execution_count": 20,
     "metadata": {},
     "output_type": "execute_result"
    }
   ],
   "source": [
    "## We perform hyperparameter tuning with GridSearchCV where we seek to optimize the RF model. \n",
    "\n",
    "## We take different values for all these parameters. \n",
    "n_estimators = [10,30,50,100]\n",
    "max_features = ['auto', 'sqrt']\n",
    "max_depth = [2,4,6,8,10]\n",
    "min_samples_split = [2, 5, 10]\n",
    "min_samples_leaf = [1, 2, 4]\n",
    "bootstrap = [True, False]\n",
    "\n",
    "## We create a grid which we will be passing in GridSearchCV\n",
    "rf_grid = {'n_estimators': n_estimators,\n",
    "               'max_features': max_features,\n",
    "               'max_depth': max_depth,\n",
    "               'min_samples_split': min_samples_split,\n",
    "               'min_samples_leaf': min_samples_leaf,\n",
    "               'bootstrap': bootstrap}\n",
    "\n",
    "rf_GS = GridSearchCV(estimator = rfg,\n",
    "                              param_grid = rf_grid, cv =3, n_jobs =-1)\n",
    "\n",
    "rf_GS.fit(X_train, y_train)"
   ]
  },
  {
   "cell_type": "code",
   "execution_count": 21,
   "id": "327b41e8",
   "metadata": {},
   "outputs": [
    {
     "data": {
      "text/plain": [
       "{'bootstrap': True,\n",
       " 'max_depth': 6,\n",
       " 'max_features': 'sqrt',\n",
       " 'min_samples_leaf': 2,\n",
       " 'min_samples_split': 5,\n",
       " 'n_estimators': 50}"
      ]
     },
     "execution_count": 21,
     "metadata": {},
     "output_type": "execute_result"
    }
   ],
   "source": [
    "## We get the best parameters. \n",
    "rf_GS.best_params_"
   ]
  },
  {
   "cell_type": "code",
   "execution_count": 22,
   "id": "173a233d",
   "metadata": {},
   "outputs": [],
   "source": [
    "## We re-instantiate the regressor but with the best params obtained. \n",
    "rfg_best = RandomForestRegressor(bootstrap = True, max_depth =4 , max_features = 'auto', min_samples_leaf =1,\n",
    "                            min_samples_split = 5, n_estimators = 100, random_state = 42)\n",
    "rfg_best.fit(X_train,y_train)\n",
    "y_pred_rf_best = rfg.predict(X_test)"
   ]
  },
  {
   "cell_type": "code",
   "execution_count": 23,
   "id": "43553c86",
   "metadata": {},
   "outputs": [
    {
     "data": {
      "image/png": "[encoded data removed]",
      "text/plain": [
       "<Figure size 1008x504 with 1 Axes>"
      ]
     },
     "metadata": {
      "needs_background": "light"
     },
     "output_type": "display_data"
    }
   ],
   "source": [
    "## We visualize the predictions. \n",
    "plt.figure(figsize=(14,7))\n",
    "plt.scatter(y_test, y_pred_rf_best)\n",
    "plt.xlabel('Actual values')\n",
    "plt.ylabel('Predicted values')\n",
    "plt.plot([x for x in range(0,300)],[x for x in range(0,300)], color='r', linestyle='--',\n",
    "        label = 'Points on this line are accurately predicted.')\n",
    "plt.title('Random Forrest Model Actual vs Predicted Values', pad=25, fontsize = 20)\n",
    "plt.xlim(0,300)\n",
    "plt.legend()\n",
    "plt.show()"
   ]
  },
  {
   "cell_type": "code",
   "execution_count": 24,
   "id": "ab06f426",
   "metadata": {},
   "outputs": [
    {
     "name": "stdout",
     "output_type": "stream",
     "text": [
      "Mean PFMS: 73.66\n",
      "R Squared - Multiple Regression: 0.0471\n",
      "MSE: 7832.996\n",
      "RMSE: 88.504\n",
      "\n",
      "\n"
     ]
    }
   ],
   "source": [
    "print('Mean PFMS: ' + str(round(customer_cltv.fm_total_spent.mean(),2)))\n",
    "print('R Squared - Multiple Regression: ' + str(round(r2_score(y_test,y_pred_rf_best),4)))\n",
    "print('MSE: '+ str(round(mse(y_test,y_pred_rf_best),3)))\n",
    "print('RMSE: ' +str(round(mse(y_test, y_pred_rf_best, squared =False),3)))\n",
    "print(\"\\n\")"
   ]
  },
  {
   "cell_type": "code",
   "execution_count": 25,
   "id": "cad2e8cf",
   "metadata": {},
   "outputs": [
    {
     "data": {
      "text/html": [
       "<div>\n",
       "<style scoped>\n",
       "    .dataframe tbody tr th:only-of-type {\n",
       "        vertical-align: middle;\n",
       "    }\n",
       "\n",
       "    .dataframe tbody tr th {\n",
       "        vertical-align: top;\n",
       "    }\n",
       "\n",
       "    .dataframe thead th {\n",
       "        text-align: right;\n",
       "    }\n",
       "</style>\n",
       "<table border=\"1\" class=\"dataframe\">\n",
       "  <thead>\n",
       "    <tr style=\"text-align: right;\">\n",
       "      <th></th>\n",
       "      <th>Feature Importance</th>\n",
       "    </tr>\n",
       "  </thead>\n",
       "  <tbody>\n",
       "    <tr>\n",
       "      <th>fm_total_spent</th>\n",
       "      <td>0.812489</td>\n",
       "    </tr>\n",
       "    <tr>\n",
       "      <th>first_order_feb_june</th>\n",
       "      <td>0.051906</td>\n",
       "    </tr>\n",
       "    <tr>\n",
       "      <th>large_size</th>\n",
       "      <td>0.040246</td>\n",
       "    </tr>\n",
       "    <tr>\n",
       "      <th>fm_used_coupon</th>\n",
       "      <td>0.030549</td>\n",
       "    </tr>\n",
       "    <tr>\n",
       "      <th>accepts_marketing</th>\n",
       "      <td>0.028023</td>\n",
       "    </tr>\n",
       "    <tr>\n",
       "      <th>wealthy_zip</th>\n",
       "      <td>0.018182</td>\n",
       "    </tr>\n",
       "    <tr>\n",
       "      <th>first_item_price_range_medium</th>\n",
       "      <td>0.010565</td>\n",
       "    </tr>\n",
       "    <tr>\n",
       "      <th>first_item_price_range_low</th>\n",
       "      <td>0.008039</td>\n",
       "    </tr>\n",
       "  </tbody>\n",
       "</table>\n",
       "</div>"
      ],
      "text/plain": [
       "                               Feature Importance\n",
       "fm_total_spent                           0.812489\n",
       "first_order_feb_june                     0.051906\n",
       "large_size                               0.040246\n",
       "fm_used_coupon                           0.030549\n",
       "accepts_marketing                        0.028023\n",
       "wealthy_zip                              0.018182\n",
       "first_item_price_range_medium            0.010565\n",
       "first_item_price_range_low               0.008039"
      ]
     },
     "execution_count": 25,
     "metadata": {},
     "output_type": "execute_result"
    }
   ],
   "source": [
    "## We can get the most important features\n",
    "features = pd.DataFrame(rfg.feature_importances_, index = X.columns, \n",
    "                        columns=['Feature Importance']).sort_values('Feature Importance',ascending=False)\n",
    "features"
   ]
  },
  {
   "cell_type": "code",
   "execution_count": 26,
   "id": "79c01979",
   "metadata": {},
   "outputs": [
    {
     "data": {
      "image/png": "[encoded data removed]",
      "text/plain": [
       "<Figure size 720x360 with 1 Axes>"
      ]
     },
     "metadata": {
      "needs_background": "light"
     },
     "output_type": "display_data"
    }
   ],
   "source": [
    "## We can visualize the feature importance: \n",
    "plt.figure(figsize=(10,5))\n",
    "sns.color_palette(\"magma\", as_cmap=True)\n",
    "sns.barplot(y = features.index, x = features['Feature Importance'],palette='magma')\n",
    "plt.title('Feature importance in the Random Forest Model', pad = 20, fontsize = 15)\n",
    "plt.show()"
   ]
  },
  {
   "cell_type": "code",
   "execution_count": 27,
   "id": "0046f713",
   "metadata": {},
   "outputs": [
    {
     "name": "stdout",
     "output_type": "stream",
     "text": [
      "LinearRegression(n_jobs=-1, positive=True) Performance: \n",
      "R Squared : 0.074\n",
      "MSE: 7608.926\n",
      "RMSE: 87.229\n",
      "MAE: 43.957\n",
      "Average Errors: 43.95748284308302\n",
      "\n",
      "\n",
      "RandomForestRegressor(max_depth=4, min_samples_split=5, random_state=42) Performance: \n",
      "R Squared : 0.047\n",
      "MSE: 7835.691\n",
      "RMSE: 88.519\n",
      "MAE: 44.281\n",
      "Average Errors: 44.280808334293795\n",
      "\n",
      "\n",
      "RF Improvement on Simple Model: 1.48%\n"
     ]
    }
   ],
   "source": [
    "## We can evaluate our two models. \n",
    "def evaluate_model(model):\n",
    "    model.fit(X_train,y_train)\n",
    "    y_pred = model.predict(X_test)\n",
    "    errors = abs(np.array(y_test) - y_pred)\n",
    "    r2 = round(r2_score(y_test,y_pred),3)\n",
    "    MSE = round(mse(y_test,y_pred),3)\n",
    "    RMSE = round(mse(y_test, y_pred, squared =False),3)\n",
    "    MAE = round(mae(y_test, y_pred),3)\n",
    "    print('{} Performance: '.format(model))\n",
    "    print('R Squared : ' + str(r2))\n",
    "    print('MSE: '+ str(MSE))\n",
    "    print('RMSE: ' +str(RMSE))\n",
    "    print('MAE: ' +str(MAE))\n",
    "    print(('Average Errors: ' + str(np.mean(errors))))\n",
    "    print(\"\\n\")\n",
    "    return RMSE\n",
    "\n",
    "Reg_evaluation = evaluate_model(rModel2)\n",
    "RF_Evaluation = evaluate_model(rfg_best)\n",
    "print(str(\"RF Improvement on Simple Model: \" + str(round(((RF_Evaluation-Reg_evaluation) / Reg_evaluation)*100,2))) + \"%\")"
   ]
  },
  {
   "cell_type": "markdown",
   "id": "544f43c3",
   "metadata": {},
   "source": [
    "## Conclusions : "
   ]
  },
  {
   "cell_type": "code",
   "execution_count": null,
   "id": "d778a2e5",
   "metadata": {},
   "outputs": [],
   "source": []
  },
  {
   "cell_type": "code",
   "execution_count": null,
   "id": "f7798008",
   "metadata": {},
   "outputs": [],
   "source": []
  },
  {
   "cell_type": "code",
   "execution_count": null,
   "id": "a772c905",
   "metadata": {},
   "outputs": [],
   "source": []
  },
  {
   "cell_type": "code",
   "execution_count": null,
   "id": "3174b2bd",
   "metadata": {},
   "outputs": [],
   "source": []
  },
  {
   "cell_type": "code",
   "execution_count": null,
   "id": "608bdb0b",
   "metadata": {},
   "outputs": [],
   "source": []
  },
  {
   "cell_type": "markdown",
   "id": "8d7f3bfc",
   "metadata": {},
   "source": [
    "## 2. Classification Models\n",
    "- In the previous models, our target feature was **continuous**. We will be treating pwf as a **discrete**.\n",
    "- We will create a new target column."
   ]
  },
  {
   "cell_type": "code",
   "execution_count": 28,
   "id": "64a3f505",
   "metadata": {},
   "outputs": [],
   "source": [
    "## Classification "
   ]
  },
  {
   "cell_type": "code",
   "execution_count": 29,
   "id": "9f7f6f6a",
   "metadata": {},
   "outputs": [
    {
     "ename": "NameError",
     "evalue": "name 'customer_cltv_drop' is not defined",
     "output_type": "error",
     "traceback": [
      "\u001b[1;31m---------------------------------------------------------------------------\u001b[0m",
      "\u001b[1;31mNameError\u001b[0m                                 Traceback (most recent call last)",
      "\u001b[1;32m~\\AppData\\Local\\Temp/ipykernel_2160/62788114.py\u001b[0m in \u001b[0;36m<module>\u001b[1;34m\u001b[0m\n\u001b[0;32m      1\u001b[0m \u001b[1;31m## We create a new table and add a new target variable: pfm_return\u001b[0m\u001b[1;33m\u001b[0m\u001b[1;33m\u001b[0m\u001b[0m\n\u001b[1;32m----> 2\u001b[1;33m \u001b[0mcustomer_cltv_cls\u001b[0m \u001b[1;33m=\u001b[0m \u001b[0mcustomer_cltv_drop\u001b[0m\u001b[1;33m\u001b[0m\u001b[1;33m\u001b[0m\u001b[0m\n\u001b[0m\u001b[0;32m      3\u001b[0m \u001b[0mcustomer_cltv_cls\u001b[0m\u001b[1;33m[\u001b[0m\u001b[1;34m'pfm_return'\u001b[0m\u001b[1;33m]\u001b[0m \u001b[1;33m=\u001b[0m \u001b[0mnp\u001b[0m\u001b[1;33m.\u001b[0m\u001b[0mwhere\u001b[0m\u001b[1;33m(\u001b[0m\u001b[0mcustomer_cltv_cls\u001b[0m\u001b[1;33m[\u001b[0m\u001b[1;34m'pfm_spent'\u001b[0m\u001b[1;33m]\u001b[0m \u001b[1;33m>\u001b[0m \u001b[1;36m0\u001b[0m\u001b[1;33m,\u001b[0m\u001b[1;36m1\u001b[0m\u001b[1;33m,\u001b[0m\u001b[1;36m0\u001b[0m\u001b[1;33m)\u001b[0m\u001b[1;33m\u001b[0m\u001b[1;33m\u001b[0m\u001b[0m\n\u001b[0;32m      4\u001b[0m \u001b[1;33m\u001b[0m\u001b[0m\n\u001b[0;32m      5\u001b[0m \u001b[1;31m## We recreate the dummy variables and drop the original columns\u001b[0m\u001b[1;33m\u001b[0m\u001b[1;33m\u001b[0m\u001b[0m\n",
      "\u001b[1;31mNameError\u001b[0m: name 'customer_cltv_drop' is not defined"
     ]
    }
   ],
   "source": [
    "## We create a new table and add a new target variable: pfm_return\n",
    "customer_cltv_cls = customer_cltv_drop\n",
    "customer_cltv_cls['pfm_return'] = np.where(customer_cltv_cls['pfm_spent'] > 0,1,0)\n",
    "\n",
    "## We recreate the dummy variables and drop the original columns\n",
    "categorical_cols = ['first_item_size','first_item_price_range']\n",
    "dummies_encoded = pd.get_dummies(customer_cltv_cls[categorical_cols].astype(str),drop_first=True)\n",
    "customer_cltv_encoded = pd.concat([customer_cltv_cls,dummies_encoded], axis =1)\n",
    "customer_cltv_encoded.drop(columns=['first_item_size','first_item_price_range','pfm_spent'],inplace = True)\n",
    "\n",
    "## We preview the amount of post first month customers and the first few rows of our new dataframe.\n",
    "print('Distribution of PFM repeat: ')\n",
    "print(customer_cltv_encoded.pfm_return.value_counts())\n",
    "print(\"\\n\")\n",
    "print('Proportion of Post First Month Repeat Customers: ' + \n",
    "      str(round(customer_cltv_drop[customer_cltv_drop['pfm_spent'] > 0]['pfm_spent'].count()\n",
    "        / customer_cltv_drop['pfm_spent'].count(),2)))\n",
    "customer_cltv_encoded.head()"
   ]
  },
  {
   "cell_type": "code",
   "execution_count": null,
   "id": "d03d8503",
   "metadata": {},
   "outputs": [],
   "source": [
    "## We recreate our target and feature variables which we will feed into different models and print their shape.\n",
    "X = customer_cltv_encoded.drop(columns=['CustomerID','pfm_return'])\n",
    "y = customer_cltv_encoded['pfm_return']\n",
    "print(X.shape,y.shape)\n",
    "X.head()"
   ]
  },
  {
   "cell_type": "code",
   "execution_count": null,
   "id": "e515be62",
   "metadata": {},
   "outputs": [],
   "source": [
    "## We split the data in training and testing sets.\n",
    "X_train, X_test , y_train, y_test = train_test_split(X,y, test_size =0.25, random_state =1234)\n",
    "print(X_train.shape,X_test.shape,y_train.shape,y_test.shape)"
   ]
  },
  {
   "cell_type": "markdown",
   "id": "7d4c590f",
   "metadata": {},
   "source": [
    "## Logistic Regression "
   ]
  },
  {
   "cell_type": "code",
   "execution_count": null,
   "id": "d91350e1",
   "metadata": {},
   "outputs": [],
   "source": [
    "## We instantiate a logistic regression model and use GridSearchCV to find the best parameters. \n",
    "'''\n",
    "log_reg = LogisticRegression()\n",
    "param_grid = {'C': [0.001, 0.01, 0.1, 1, 10, 100, 1000],\n",
    "             'l1_ratio': [0,.5,1]\n",
    "             }\n",
    "lr_cv = GridSearchCV(log_reg, param_grid, cv=10, scoring='roc_auc')\n",
    "lr_cv.fit(X,y)\n",
    "lr_cv.best_estimator_\n",
    "'''\n",
    "# We get the result: 'LogisticRegression(C=10, l1_ratio=0) '"
   ]
  },
  {
   "cell_type": "code",
   "execution_count": null,
   "id": "17248282",
   "metadata": {},
   "outputs": [],
   "source": [
    "## With the best parameters, we re-instantiate the model, fit and predict the probabilities. \n",
    "log_reg = LogisticRegression(C=10)\n",
    "log_reg.fit(X_train, y_train)\n",
    "\n",
    "## We predict the probabilities of s\n",
    "y_pred = log_reg.predict(X_test)\n",
    "y_pred = pd.Series(y_pred)\n",
    "\n",
    "## We visualize the prediction that the Logistic Regression Gives us. \n",
    "y_pred.value_counts()"
   ]
  },
  {
   "cell_type": "code",
   "execution_count": null,
   "id": "fe34c062",
   "metadata": {},
   "outputs": [],
   "source": [
    "y_pred = log_reg.predict_proba(X_test)[:,1]\n",
    "log_fpr, log_tpr, threshold = roc_curve(y_test,y_pred)\n",
    "log_auc = auc(log_fpr, log_tpr)\n",
    "print(log_auc)"
   ]
  },
  {
   "cell_type": "markdown",
   "id": "f2c6e13d",
   "metadata": {},
   "source": [
    "## Random Forests:"
   ]
  },
  {
   "cell_type": "code",
   "execution_count": null,
   "id": "fd490e81",
   "metadata": {},
   "outputs": [],
   "source": [
    "# We instantiate the RandomForestClassifier and use GridSearch for best hyperparameters\n",
    "'''\n",
    "rfc = RandomForestClassifier(random_state = 1234)\n",
    "param_grid = { \n",
    "    'n_estimators': [10, 25, 50, 75, 100],\n",
    "    'max_features': [None, 'auto', 'log2'],\n",
    "    'max_depth' : list(range(0,10)),\n",
    "}\n",
    "rfc_cv = GridSearchCV(rfc, param_grid, cv=10, scoring='roc_auc')\n",
    "\n",
    "rfc_cv.fit(X,y)\n",
    "rfc_cv.best_estimator_\n",
    "'''\n",
    "## The findings for the above cell (if all customers) is: ' RandomForestClassifier(max_depth=4, n_estimators=10) '\n",
    "## The findings for the above cell (if pfm > 0 ) is: ' RandomForestClassifier(max_depth=10, n_estimators=25) '"
   ]
  },
  {
   "cell_type": "code",
   "execution_count": null,
   "id": "39cf2c30",
   "metadata": {},
   "outputs": [],
   "source": [
    "## With the best parameters, we re-instantiate the model, fit and predict the probabilities. \n",
    "rfc = RandomForestClassifier(max_depth=4, n_estimators=10)\n",
    "rfc.fit(X_train, y_train)\n",
    "\n",
    "y_pred = rfc.predict_proba(X_test)[:,1]\n",
    "y_predict = rfc.predict(X_test)\n",
    "y_predict"
   ]
  },
  {
   "cell_type": "code",
   "execution_count": null,
   "id": "87f35072",
   "metadata": {},
   "outputs": [],
   "source": [
    "rfc_fpr, rfc_tpr, threshold = roc_curve(y_test, y_pred)\n",
    "auc_rfc = auc(rfc_fpr, rfc_tpr)\n",
    "print(auc_rfc)"
   ]
  },
  {
   "cell_type": "code",
   "execution_count": null,
   "id": "a7e2ccd4",
   "metadata": {},
   "outputs": [],
   "source": [
    "## We visualize the feature importance for the Random Forest Model\n",
    "fi_rfc = pd.DataFrame(rfc.feature_importances_, index = X_train.columns, \n",
    "                      columns=['importance']).sort_values('importance', ascending=False)\n",
    "fi_rfc"
   ]
  },
  {
   "cell_type": "code",
   "execution_count": null,
   "id": "d2fd2c73",
   "metadata": {
    "scrolled": false
   },
   "outputs": [],
   "source": [
    "## We plot the visualization importance. \n",
    "plt.plot(fi_rfc.importance)\n",
    "plt.xticks(rotation=90)\n",
    "plt.ylabel('Feature Importance')\n",
    "plt.title('Most important Features', pad =25)\n",
    "plt.show()"
   ]
  },
  {
   "cell_type": "code",
   "execution_count": null,
   "id": "4d9d7cc3",
   "metadata": {},
   "outputs": [],
   "source": [
    "## We plot the ROC and visualize the AUC of our classification models\n",
    "fig, heat = plt.subplots(figsize = (15,15))\n",
    "plt.plot(rfc_fpr, rfc_tpr, marker='.', color='green', label='Random Forest %f' % auc_rfc)\n",
    "plt.plot(log_fpr, log_tpr, marker='.', color='red', label='Logistic Regression %f' % log_auc)\n",
    "\n",
    "# We plot a line that goes shows when FPR = TPR\n",
    "lims = [np.min([0.0, 0.0]),  \n",
    "        np.max([1.0, 1.0])]\n",
    "plt.plot(lims, lims, 'k-', alpha=0.75, zorder=0, c='b', linestyle ='--')\n",
    "\n",
    "## We label the axes and give a title. \n",
    "plt.xlabel('False Positive Rate')\n",
    "plt.ylabel('True Positive Rate')\n",
    "plt.title('ROC Curve of Classification Models', pad =25)\n",
    "plt.legend()\n",
    "plt.savefig('auc_comp.png')\n",
    "plt.show()"
   ]
  }
 ],
 "metadata": {
  "kernelspec": {
   "display_name": "Python 3 (ipykernel)",
   "language": "python",
   "name": "python3"
  },
  "language_info": {
   "codemirror_mode": {
    "name": "ipython",
    "version": 3
   },
   "file_extension": ".py",
   "mimetype": "text/x-python",
   "name": "python",
   "nbconvert_exporter": "python",
   "pygments_lexer": "ipython3",
   "version": "3.9.9"
  }
 },
 "nbformat": 4,
 "nbformat_minor": 5
}
