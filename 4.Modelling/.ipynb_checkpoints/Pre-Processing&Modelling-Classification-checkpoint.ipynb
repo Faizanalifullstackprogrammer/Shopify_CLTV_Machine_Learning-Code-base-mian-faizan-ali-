{
 "cells": [
  {
   "cell_type": "markdown",
   "id": "5dafefb1",
   "metadata": {},
   "source": [
    "# Predicting CLTV and Customer Repeat with Machine Learning for Shopify "
   ]
  },
  {
   "cell_type": "markdown",
   "id": "c0ac2715",
   "metadata": {},
   "source": [
    "#### A Data Science Analysis Project by Benjamin N. Bellman "
   ]
  },
  {
   "attachments": {
    "image.png": {
     "image/png": "[encoded data removed]"
    }
   },
   "cell_type": "markdown",
   "id": "f97af0b2",
   "metadata": {},
   "source": [
    "![image.png](attachment:image.png)"
   ]
  },
  {
   "cell_type": "markdown",
   "id": "b227c7cd",
   "metadata": {},
   "source": [
    "### Project Table of Contents: \n",
    "<br> \n",
    "    \n",
    "**I. INTRODUCTION \\& PRELIMINARY ANALYSIS**\n",
    "- 1. Project Purpose \n",
    "- 2. Loading \\& Previewing Data   \n",
    "- 3. Data Wrangling  \n",
    "- 4. Preliminary EDA \n",
    " \n",
    "**II. DATA WRANGLING**  \n",
    "- 1. Cleaning up data. \n",
    "- 2. Creating 3 separate dataframes.\n",
    "- 3. Creating the final 1 year CLTV Table.\n",
    "\n",
    "**III. EXPLORATORY DATA ANALYSIS**     \n",
    "- 1. Loading an Previewing the New Table  \n",
    "- 2. Exploring relationships of variables on Post First Week Spend \n",
    "\n",
    "**IV. PREPROCESSING AND MODELLING**\n",
    "- 1. Linear Models\n",
    "- 2. Classification Models\n"
   ]
  },
  {
   "cell_type": "markdown",
   "id": "6384f601",
   "metadata": {},
   "source": [
    "## Part 3: PreProcessing and Modelling"
   ]
  },
  {
   "cell_type": "markdown",
   "id": "aaa66348",
   "metadata": {},
   "source": [
    "### Loading our Packages and DataFrame"
   ]
  },
  {
   "cell_type": "code",
   "execution_count": 1,
   "id": "6a7f23f4",
   "metadata": {},
   "outputs": [],
   "source": [
    "## We start by importing the packages we will use.\n",
    "\n",
    "import pandas as pd\n",
    "import numpy as np\n",
    "import matplotlib.pyplot as plt\n",
    "import seaborn as sns\n",
    "\n",
    "import statsmodels.api as sm\n",
    "from statsmodels.graphics.api import abline_plot \n",
    "\n",
    "from sklearn.preprocessing import StandardScaler, LabelEncoder\n",
    "from sklearn.model_selection import train_test_split, GridSearchCV, RandomizedSearchCV\n",
    "from sklearn.linear_model import LinearRegression, LogisticRegression, SGDClassifier\n",
    "from sklearn.neighbors import KNeighborsClassifier\n",
    "from sklearn.naive_bayes import GaussianNB\n",
    "from sklearn.svm import SVC\n",
    "from sklearn.tree import DecisionTreeRegressor, DecisionTreeClassifier, plot_tree, export_graphviz\n",
    "from sklearn.ensemble import RandomForestClassifier,RandomForestRegressor, GradientBoostingClassifier\n",
    "\n",
    "from sklearn.metrics import precision_recall_curve, roc_curve, auc, confusion_matrix, accuracy_score, precision_score\n",
    "from sklearn.metrics import mean_squared_error as mse, r2_score, mean_absolute_error as mae, f1_score, fbeta_score \n",
    "from sklearn.metrics import plot_confusion_matrix,classification_report, balanced_accuracy_score, recall_score\n",
    "from sklearn.metrics import roc_auc_score\n",
    "\n",
    "from io import StringIO \n",
    "from IPython.display import Image  \n",
    "import pydotplus\n",
    "import graphviz\n",
    "\n",
    "import warnings\n",
    "warnings.filterwarnings('ignore')\n",
    "\n",
    "%matplotlib inline\n",
    "pd.set_option('display.max_columns', None)"
   ]
  },
  {
   "cell_type": "code",
   "execution_count": 2,
   "id": "c202604d",
   "metadata": {
    "scrolled": true
   },
   "outputs": [
    {
     "data": {
      "text/html": [
       "<div>\n",
       "<style scoped>\n",
       "    .dataframe tbody tr th:only-of-type {\n",
       "        vertical-align: middle;\n",
       "    }\n",
       "\n",
       "    .dataframe tbody tr th {\n",
       "        vertical-align: top;\n",
       "    }\n",
       "\n",
       "    .dataframe thead th {\n",
       "        text-align: right;\n",
       "    }\n",
       "</style>\n",
       "<table border=\"1\" class=\"dataframe\">\n",
       "  <thead>\n",
       "    <tr style=\"text-align: right;\">\n",
       "      <th></th>\n",
       "      <th>CustomerID</th>\n",
       "      <th>pfw_spent</th>\n",
       "      <th>fw_nb_orders</th>\n",
       "      <th>fw_nb_items</th>\n",
       "      <th>fw_total_spent</th>\n",
       "      <th>fw_used_coupon</th>\n",
       "      <th>first_order_month</th>\n",
       "      <th>fw_purchased_accessory</th>\n",
       "      <th>first_item_size</th>\n",
       "      <th>accepts_marketing</th>\n",
       "      <th>wealthy_zip</th>\n",
       "      <th>region</th>\n",
       "      <th>first_item_price_range</th>\n",
       "    </tr>\n",
       "  </thead>\n",
       "  <tbody>\n",
       "    <tr>\n",
       "      <th>0</th>\n",
       "      <td>Anonymous13455</td>\n",
       "      <td>1257.80</td>\n",
       "      <td>1</td>\n",
       "      <td>1</td>\n",
       "      <td>50.0</td>\n",
       "      <td>0</td>\n",
       "      <td>6</td>\n",
       "      <td>0</td>\n",
       "      <td>M</td>\n",
       "      <td>0</td>\n",
       "      <td>0</td>\n",
       "      <td>MW</td>\n",
       "      <td>high</td>\n",
       "    </tr>\n",
       "    <tr>\n",
       "      <th>1</th>\n",
       "      <td>Anonymous2142</td>\n",
       "      <td>436.15</td>\n",
       "      <td>1</td>\n",
       "      <td>1</td>\n",
       "      <td>48.0</td>\n",
       "      <td>0</td>\n",
       "      <td>5</td>\n",
       "      <td>0</td>\n",
       "      <td>L</td>\n",
       "      <td>0</td>\n",
       "      <td>0</td>\n",
       "      <td>NE</td>\n",
       "      <td>high</td>\n",
       "    </tr>\n",
       "    <tr>\n",
       "      <th>2</th>\n",
       "      <td>Anonymous4843</td>\n",
       "      <td>1052.75</td>\n",
       "      <td>2</td>\n",
       "      <td>2</td>\n",
       "      <td>96.0</td>\n",
       "      <td>0</td>\n",
       "      <td>10</td>\n",
       "      <td>0</td>\n",
       "      <td>S</td>\n",
       "      <td>1</td>\n",
       "      <td>0</td>\n",
       "      <td>W</td>\n",
       "      <td>high</td>\n",
       "    </tr>\n",
       "    <tr>\n",
       "      <th>3</th>\n",
       "      <td>Anonymous11225</td>\n",
       "      <td>728.10</td>\n",
       "      <td>1</td>\n",
       "      <td>1</td>\n",
       "      <td>16.0</td>\n",
       "      <td>0</td>\n",
       "      <td>1</td>\n",
       "      <td>1</td>\n",
       "      <td>No size</td>\n",
       "      <td>0</td>\n",
       "      <td>0</td>\n",
       "      <td>MW</td>\n",
       "      <td>low</td>\n",
       "    </tr>\n",
       "    <tr>\n",
       "      <th>4</th>\n",
       "      <td>Anonymous540</td>\n",
       "      <td>1114.75</td>\n",
       "      <td>1</td>\n",
       "      <td>1</td>\n",
       "      <td>50.0</td>\n",
       "      <td>0</td>\n",
       "      <td>1</td>\n",
       "      <td>0</td>\n",
       "      <td>XS</td>\n",
       "      <td>0</td>\n",
       "      <td>0</td>\n",
       "      <td>W</td>\n",
       "      <td>high</td>\n",
       "    </tr>\n",
       "  </tbody>\n",
       "</table>\n",
       "</div>"
      ],
      "text/plain": [
       "       CustomerID  pfw_spent  fw_nb_orders  fw_nb_items  fw_total_spent  \\\n",
       "0  Anonymous13455    1257.80             1            1            50.0   \n",
       "1   Anonymous2142     436.15             1            1            48.0   \n",
       "2   Anonymous4843    1052.75             2            2            96.0   \n",
       "3  Anonymous11225     728.10             1            1            16.0   \n",
       "4    Anonymous540    1114.75             1            1            50.0   \n",
       "\n",
       "   fw_used_coupon  first_order_month  fw_purchased_accessory first_item_size  \\\n",
       "0               0                  6                       0               M   \n",
       "1               0                  5                       0               L   \n",
       "2               0                 10                       0               S   \n",
       "3               0                  1                       1         No size   \n",
       "4               0                  1                       0              XS   \n",
       "\n",
       "   accepts_marketing  wealthy_zip region first_item_price_range  \n",
       "0                  0            0     MW                   high  \n",
       "1                  0            0     NE                   high  \n",
       "2                  1            0      W                   high  \n",
       "3                  0            0     MW                    low  \n",
       "4                  0            0      W                   high  "
      ]
     },
     "execution_count": 2,
     "metadata": {},
     "output_type": "execute_result"
    }
   ],
   "source": [
    "## We Load and preview our customer_cltv dataframe from the previouse chapter \n",
    "customer_cltv = pd.read_csv('.\\..\\cleaned_data.csv',index_col=0)\n",
    "customer_cltv.head()"
   ]
  },
  {
   "cell_type": "markdown",
   "id": "435d1ad2",
   "metadata": {},
   "source": [
    "## Preprocessing: "
   ]
  },
  {
   "cell_type": "code",
   "execution_count": 3,
   "id": "e0a20e7b",
   "metadata": {},
   "outputs": [],
   "source": [
    "## Drop some error rows (no spending on the first week)\n",
    "customer_cltv = customer_cltv[customer_cltv.loc[:,'fw_total_spent'] > 0] \n",
    "\n",
    "## Drop all non-repeat customers\n",
    "#customer_cltv_drop = customer_cltv_drop[customer_cltv.loc[:,'pfw_spent'] > 0]"
   ]
  },
  {
   "cell_type": "code",
   "execution_count": 4,
   "id": "10beed34",
   "metadata": {},
   "outputs": [
    {
     "data": {
      "text/html": [
       "<div>\n",
       "<style scoped>\n",
       "    .dataframe tbody tr th:only-of-type {\n",
       "        vertical-align: middle;\n",
       "    }\n",
       "\n",
       "    .dataframe tbody tr th {\n",
       "        vertical-align: top;\n",
       "    }\n",
       "\n",
       "    .dataframe thead th {\n",
       "        text-align: right;\n",
       "    }\n",
       "</style>\n",
       "<table border=\"1\" class=\"dataframe\">\n",
       "  <thead>\n",
       "    <tr style=\"text-align: right;\">\n",
       "      <th></th>\n",
       "      <th>CustomerID</th>\n",
       "      <th>fw_nb_orders</th>\n",
       "      <th>fw_nb_items</th>\n",
       "      <th>fw_total_spent</th>\n",
       "      <th>fw_used_coupon</th>\n",
       "      <th>first_order_month</th>\n",
       "      <th>fw_purchased_accessory</th>\n",
       "      <th>first_item_size</th>\n",
       "      <th>accepts_marketing</th>\n",
       "      <th>wealthy_zip</th>\n",
       "      <th>region</th>\n",
       "      <th>first_item_price_range</th>\n",
       "      <th>repeat</th>\n",
       "    </tr>\n",
       "  </thead>\n",
       "  <tbody>\n",
       "    <tr>\n",
       "      <th>0</th>\n",
       "      <td>Anonymous13455</td>\n",
       "      <td>1</td>\n",
       "      <td>1</td>\n",
       "      <td>50.0</td>\n",
       "      <td>0</td>\n",
       "      <td>6</td>\n",
       "      <td>0</td>\n",
       "      <td>M</td>\n",
       "      <td>0</td>\n",
       "      <td>0</td>\n",
       "      <td>MW</td>\n",
       "      <td>high</td>\n",
       "      <td>1</td>\n",
       "    </tr>\n",
       "    <tr>\n",
       "      <th>1</th>\n",
       "      <td>Anonymous2142</td>\n",
       "      <td>1</td>\n",
       "      <td>1</td>\n",
       "      <td>48.0</td>\n",
       "      <td>0</td>\n",
       "      <td>5</td>\n",
       "      <td>0</td>\n",
       "      <td>L</td>\n",
       "      <td>0</td>\n",
       "      <td>0</td>\n",
       "      <td>NE</td>\n",
       "      <td>high</td>\n",
       "      <td>1</td>\n",
       "    </tr>\n",
       "    <tr>\n",
       "      <th>2</th>\n",
       "      <td>Anonymous4843</td>\n",
       "      <td>2</td>\n",
       "      <td>2</td>\n",
       "      <td>96.0</td>\n",
       "      <td>0</td>\n",
       "      <td>10</td>\n",
       "      <td>0</td>\n",
       "      <td>S</td>\n",
       "      <td>1</td>\n",
       "      <td>0</td>\n",
       "      <td>W</td>\n",
       "      <td>high</td>\n",
       "      <td>1</td>\n",
       "    </tr>\n",
       "    <tr>\n",
       "      <th>3</th>\n",
       "      <td>Anonymous11225</td>\n",
       "      <td>1</td>\n",
       "      <td>1</td>\n",
       "      <td>16.0</td>\n",
       "      <td>0</td>\n",
       "      <td>1</td>\n",
       "      <td>1</td>\n",
       "      <td>No size</td>\n",
       "      <td>0</td>\n",
       "      <td>0</td>\n",
       "      <td>MW</td>\n",
       "      <td>low</td>\n",
       "      <td>1</td>\n",
       "    </tr>\n",
       "    <tr>\n",
       "      <th>4</th>\n",
       "      <td>Anonymous540</td>\n",
       "      <td>1</td>\n",
       "      <td>1</td>\n",
       "      <td>50.0</td>\n",
       "      <td>0</td>\n",
       "      <td>1</td>\n",
       "      <td>0</td>\n",
       "      <td>XS</td>\n",
       "      <td>0</td>\n",
       "      <td>0</td>\n",
       "      <td>W</td>\n",
       "      <td>high</td>\n",
       "      <td>1</td>\n",
       "    </tr>\n",
       "  </tbody>\n",
       "</table>\n",
       "</div>"
      ],
      "text/plain": [
       "       CustomerID  fw_nb_orders  fw_nb_items  fw_total_spent  fw_used_coupon  \\\n",
       "0  Anonymous13455             1            1            50.0               0   \n",
       "1   Anonymous2142             1            1            48.0               0   \n",
       "2   Anonymous4843             2            2            96.0               0   \n",
       "3  Anonymous11225             1            1            16.0               0   \n",
       "4    Anonymous540             1            1            50.0               0   \n",
       "\n",
       "   first_order_month  fw_purchased_accessory first_item_size  \\\n",
       "0                  6                       0               M   \n",
       "1                  5                       0               L   \n",
       "2                 10                       0               S   \n",
       "3                  1                       1         No size   \n",
       "4                  1                       0              XS   \n",
       "\n",
       "   accepts_marketing  wealthy_zip region first_item_price_range  repeat  \n",
       "0                  0            0     MW                   high       1  \n",
       "1                  0            0     NE                   high       1  \n",
       "2                  1            0      W                   high       1  \n",
       "3                  0            0     MW                    low       1  \n",
       "4                  0            0      W                   high       1  "
      ]
     },
     "execution_count": 4,
     "metadata": {},
     "output_type": "execute_result"
    }
   ],
   "source": [
    "## We change the pfw_spent column and create a new target column: repeat\n",
    "customer_cltv['repeat'] = np.where(customer_cltv['pfw_spent'] > 0,1,0)\n",
    "customer_cltv.drop(columns='pfw_spent',inplace=True)\n",
    "customer_cltv.head()"
   ]
  },
  {
   "cell_type": "markdown",
   "id": "b65fc573",
   "metadata": {},
   "source": [
    "<br> **Drop variables that we found to be heavily correlated with other or irrelevant through the previous step of EDA**\n",
    "- **fw_nb_items** is highly correlated with fw_total_spent (c=0.94)\n",
    "- **fw_nb_orders** is very unbalanced (~ 95% customers only made 1 order the first week)\n",
    "- **region** was found to be insignificant based on several steps of statistical analysis\n",
    "- **fw_purchased_accessory** is logically redundant with first_item_size\n"
   ]
  },
  {
   "cell_type": "code",
   "execution_count": 5,
   "id": "32167cc4",
   "metadata": {},
   "outputs": [],
   "source": [
    "customer_cltv.drop(columns=['fw_nb_items', 'region', 'fw_nb_orders', 'fw_purchased_accessory'], inplace = True)"
   ]
  },
  {
   "cell_type": "markdown",
   "id": "7b2f21c5",
   "metadata": {},
   "source": [
    "<br> **Modify variables based on findings from EDA**\n",
    "- **first_order_month** can be modified to be 2 categories: February-June vs rest of the year\n",
    "- **first_item size** can be modified to be 2 categories: Large Size and Smaller Sizes"
   ]
  },
  {
   "cell_type": "code",
   "execution_count": 6,
   "id": "6f8983ab",
   "metadata": {},
   "outputs": [
    {
     "data": {
      "text/html": [
       "<div>\n",
       "<style scoped>\n",
       "    .dataframe tbody tr th:only-of-type {\n",
       "        vertical-align: middle;\n",
       "    }\n",
       "\n",
       "    .dataframe tbody tr th {\n",
       "        vertical-align: top;\n",
       "    }\n",
       "\n",
       "    .dataframe thead th {\n",
       "        text-align: right;\n",
       "    }\n",
       "</style>\n",
       "<table border=\"1\" class=\"dataframe\">\n",
       "  <thead>\n",
       "    <tr style=\"text-align: right;\">\n",
       "      <th></th>\n",
       "      <th>CustomerID</th>\n",
       "      <th>fw_total_spent</th>\n",
       "      <th>fw_used_coupon</th>\n",
       "      <th>accepts_marketing</th>\n",
       "      <th>wealthy_zip</th>\n",
       "      <th>first_item_price_range</th>\n",
       "      <th>repeat</th>\n",
       "      <th>first_order_feb_june</th>\n",
       "      <th>large_size</th>\n",
       "    </tr>\n",
       "  </thead>\n",
       "  <tbody>\n",
       "    <tr>\n",
       "      <th>0</th>\n",
       "      <td>Anonymous13455</td>\n",
       "      <td>50.0</td>\n",
       "      <td>0</td>\n",
       "      <td>0</td>\n",
       "      <td>0</td>\n",
       "      <td>high</td>\n",
       "      <td>1</td>\n",
       "      <td>1</td>\n",
       "      <td>1</td>\n",
       "    </tr>\n",
       "    <tr>\n",
       "      <th>1</th>\n",
       "      <td>Anonymous2142</td>\n",
       "      <td>48.0</td>\n",
       "      <td>0</td>\n",
       "      <td>0</td>\n",
       "      <td>0</td>\n",
       "      <td>high</td>\n",
       "      <td>1</td>\n",
       "      <td>1</td>\n",
       "      <td>1</td>\n",
       "    </tr>\n",
       "    <tr>\n",
       "      <th>2</th>\n",
       "      <td>Anonymous4843</td>\n",
       "      <td>96.0</td>\n",
       "      <td>0</td>\n",
       "      <td>1</td>\n",
       "      <td>0</td>\n",
       "      <td>high</td>\n",
       "      <td>1</td>\n",
       "      <td>0</td>\n",
       "      <td>0</td>\n",
       "    </tr>\n",
       "    <tr>\n",
       "      <th>3</th>\n",
       "      <td>Anonymous11225</td>\n",
       "      <td>16.0</td>\n",
       "      <td>0</td>\n",
       "      <td>0</td>\n",
       "      <td>0</td>\n",
       "      <td>low</td>\n",
       "      <td>1</td>\n",
       "      <td>0</td>\n",
       "      <td>0</td>\n",
       "    </tr>\n",
       "    <tr>\n",
       "      <th>4</th>\n",
       "      <td>Anonymous540</td>\n",
       "      <td>50.0</td>\n",
       "      <td>0</td>\n",
       "      <td>0</td>\n",
       "      <td>0</td>\n",
       "      <td>high</td>\n",
       "      <td>1</td>\n",
       "      <td>0</td>\n",
       "      <td>0</td>\n",
       "    </tr>\n",
       "  </tbody>\n",
       "</table>\n",
       "</div>"
      ],
      "text/plain": [
       "       CustomerID  fw_total_spent  fw_used_coupon  accepts_marketing  \\\n",
       "0  Anonymous13455            50.0               0                  0   \n",
       "1   Anonymous2142            48.0               0                  0   \n",
       "2   Anonymous4843            96.0               0                  1   \n",
       "3  Anonymous11225            16.0               0                  0   \n",
       "4    Anonymous540            50.0               0                  0   \n",
       "\n",
       "   wealthy_zip first_item_price_range  repeat  first_order_feb_june  \\\n",
       "0            0                   high       1                     1   \n",
       "1            0                   high       1                     1   \n",
       "2            0                   high       1                     0   \n",
       "3            0                    low       1                     0   \n",
       "4            0                   high       1                     0   \n",
       "\n",
       "   large_size  \n",
       "0           1  \n",
       "1           1  \n",
       "2           0  \n",
       "3           0  \n",
       "4           0  "
      ]
     },
     "execution_count": 6,
     "metadata": {},
     "output_type": "execute_result"
    }
   ],
   "source": [
    "## First Item Month \n",
    "customer_cltv['first_order_feb_june'] = customer_cltv['first_order_month'].apply(lambda x: x in [2, 3, 4, 5, 6])\n",
    "customer_cltv['first_order_feb_june'].replace({True:1,False:0}, inplace = True)\n",
    "customer_cltv.drop(columns=['first_order_month'], inplace = True)\n",
    "\n",
    "## First Item Size: \n",
    "customer_cltv['large_size'] = customer_cltv['first_item_size'].apply(lambda x: x in ['XL','L','M'])\n",
    "customer_cltv['large_size'].replace({True:1,False:0}, inplace = True)\n",
    "customer_cltv.drop(columns=['first_item_size'], inplace = True)\n",
    "customer_cltv.head()"
   ]
  },
  {
   "cell_type": "markdown",
   "id": "95e7e35c",
   "metadata": {},
   "source": [
    "#### We create dummy variables for our categorical variables."
   ]
  },
  {
   "cell_type": "code",
   "execution_count": 7,
   "id": "5d34d559",
   "metadata": {},
   "outputs": [
    {
     "data": {
      "text/html": [
       "<div>\n",
       "<style scoped>\n",
       "    .dataframe tbody tr th:only-of-type {\n",
       "        vertical-align: middle;\n",
       "    }\n",
       "\n",
       "    .dataframe tbody tr th {\n",
       "        vertical-align: top;\n",
       "    }\n",
       "\n",
       "    .dataframe thead th {\n",
       "        text-align: right;\n",
       "    }\n",
       "</style>\n",
       "<table border=\"1\" class=\"dataframe\">\n",
       "  <thead>\n",
       "    <tr style=\"text-align: right;\">\n",
       "      <th></th>\n",
       "      <th>CustomerID</th>\n",
       "      <th>fw_total_spent</th>\n",
       "      <th>fw_used_coupon</th>\n",
       "      <th>accepts_marketing</th>\n",
       "      <th>wealthy_zip</th>\n",
       "      <th>repeat</th>\n",
       "      <th>first_order_feb_june</th>\n",
       "      <th>large_size</th>\n",
       "      <th>first_item_price_range_low</th>\n",
       "      <th>first_item_price_range_medium</th>\n",
       "    </tr>\n",
       "  </thead>\n",
       "  <tbody>\n",
       "    <tr>\n",
       "      <th>0</th>\n",
       "      <td>Anonymous13455</td>\n",
       "      <td>50.0</td>\n",
       "      <td>0</td>\n",
       "      <td>0</td>\n",
       "      <td>0</td>\n",
       "      <td>1</td>\n",
       "      <td>1</td>\n",
       "      <td>1</td>\n",
       "      <td>0</td>\n",
       "      <td>0</td>\n",
       "    </tr>\n",
       "    <tr>\n",
       "      <th>1</th>\n",
       "      <td>Anonymous2142</td>\n",
       "      <td>48.0</td>\n",
       "      <td>0</td>\n",
       "      <td>0</td>\n",
       "      <td>0</td>\n",
       "      <td>1</td>\n",
       "      <td>1</td>\n",
       "      <td>1</td>\n",
       "      <td>0</td>\n",
       "      <td>0</td>\n",
       "    </tr>\n",
       "    <tr>\n",
       "      <th>2</th>\n",
       "      <td>Anonymous4843</td>\n",
       "      <td>96.0</td>\n",
       "      <td>0</td>\n",
       "      <td>1</td>\n",
       "      <td>0</td>\n",
       "      <td>1</td>\n",
       "      <td>0</td>\n",
       "      <td>0</td>\n",
       "      <td>0</td>\n",
       "      <td>0</td>\n",
       "    </tr>\n",
       "    <tr>\n",
       "      <th>3</th>\n",
       "      <td>Anonymous11225</td>\n",
       "      <td>16.0</td>\n",
       "      <td>0</td>\n",
       "      <td>0</td>\n",
       "      <td>0</td>\n",
       "      <td>1</td>\n",
       "      <td>0</td>\n",
       "      <td>0</td>\n",
       "      <td>1</td>\n",
       "      <td>0</td>\n",
       "    </tr>\n",
       "    <tr>\n",
       "      <th>4</th>\n",
       "      <td>Anonymous540</td>\n",
       "      <td>50.0</td>\n",
       "      <td>0</td>\n",
       "      <td>0</td>\n",
       "      <td>0</td>\n",
       "      <td>1</td>\n",
       "      <td>0</td>\n",
       "      <td>0</td>\n",
       "      <td>0</td>\n",
       "      <td>0</td>\n",
       "    </tr>\n",
       "  </tbody>\n",
       "</table>\n",
       "</div>"
      ],
      "text/plain": [
       "       CustomerID  fw_total_spent  fw_used_coupon  accepts_marketing  \\\n",
       "0  Anonymous13455            50.0               0                  0   \n",
       "1   Anonymous2142            48.0               0                  0   \n",
       "2   Anonymous4843            96.0               0                  1   \n",
       "3  Anonymous11225            16.0               0                  0   \n",
       "4    Anonymous540            50.0               0                  0   \n",
       "\n",
       "   wealthy_zip  repeat  first_order_feb_june  large_size  \\\n",
       "0            0       1                     1           1   \n",
       "1            0       1                     1           1   \n",
       "2            0       1                     0           0   \n",
       "3            0       1                     0           0   \n",
       "4            0       1                     0           0   \n",
       "\n",
       "   first_item_price_range_low  first_item_price_range_medium  \n",
       "0                           0                              0  \n",
       "1                           0                              0  \n",
       "2                           0                              0  \n",
       "3                           1                              0  \n",
       "4                           0                              0  "
      ]
     },
     "execution_count": 7,
     "metadata": {},
     "output_type": "execute_result"
    }
   ],
   "source": [
    "## We create dummy variables for prize range of items. \n",
    "categorical_cols = ['first_item_price_range']\n",
    "dummies_encoded = pd.get_dummies(customer_cltv[categorical_cols].astype(str),drop_first=True)\n",
    "customer_cltv = pd.concat([customer_cltv,dummies_encoded], axis =1)\n",
    "customer_cltv.drop(columns=['first_item_price_range'],inplace = True)\n",
    "customer_cltv.head()"
   ]
  },
  {
   "cell_type": "code",
   "execution_count": 8,
   "id": "7a849434",
   "metadata": {},
   "outputs": [
    {
     "name": "stdout",
     "output_type": "stream",
     "text": [
      "(10590, 8) (10590,)\n"
     ]
    }
   ],
   "source": [
    "## We get our feature variables and target variables\n",
    "X = customer_cltv.drop(columns=['CustomerID','repeat'])\n",
    "y = customer_cltv['repeat']\n",
    "print(X.shape, y.shape)"
   ]
  },
  {
   "cell_type": "code",
   "execution_count": 9,
   "id": "64a03fd9",
   "metadata": {
    "scrolled": true
   },
   "outputs": [
    {
     "data": {
      "text/html": [
       "<div>\n",
       "<style scoped>\n",
       "    .dataframe tbody tr th:only-of-type {\n",
       "        vertical-align: middle;\n",
       "    }\n",
       "\n",
       "    .dataframe tbody tr th {\n",
       "        vertical-align: top;\n",
       "    }\n",
       "\n",
       "    .dataframe thead th {\n",
       "        text-align: right;\n",
       "    }\n",
       "</style>\n",
       "<table border=\"1\" class=\"dataframe\">\n",
       "  <thead>\n",
       "    <tr style=\"text-align: right;\">\n",
       "      <th></th>\n",
       "      <th>fw_total_spent</th>\n",
       "      <th>fw_used_coupon</th>\n",
       "      <th>accepts_marketing</th>\n",
       "      <th>wealthy_zip</th>\n",
       "      <th>first_order_feb_june</th>\n",
       "      <th>large_size</th>\n",
       "      <th>first_item_price_range_low</th>\n",
       "      <th>first_item_price_range_medium</th>\n",
       "    </tr>\n",
       "  </thead>\n",
       "  <tbody>\n",
       "    <tr>\n",
       "      <th>0</th>\n",
       "      <td>-0.347324</td>\n",
       "      <td>0</td>\n",
       "      <td>0</td>\n",
       "      <td>0</td>\n",
       "      <td>1</td>\n",
       "      <td>1</td>\n",
       "      <td>0</td>\n",
       "      <td>0</td>\n",
       "    </tr>\n",
       "    <tr>\n",
       "      <th>1</th>\n",
       "      <td>-0.389530</td>\n",
       "      <td>0</td>\n",
       "      <td>0</td>\n",
       "      <td>0</td>\n",
       "      <td>1</td>\n",
       "      <td>1</td>\n",
       "      <td>0</td>\n",
       "      <td>0</td>\n",
       "    </tr>\n",
       "    <tr>\n",
       "      <th>2</th>\n",
       "      <td>0.623424</td>\n",
       "      <td>0</td>\n",
       "      <td>1</td>\n",
       "      <td>0</td>\n",
       "      <td>0</td>\n",
       "      <td>0</td>\n",
       "      <td>0</td>\n",
       "      <td>0</td>\n",
       "    </tr>\n",
       "    <tr>\n",
       "      <th>3</th>\n",
       "      <td>-1.064833</td>\n",
       "      <td>0</td>\n",
       "      <td>0</td>\n",
       "      <td>0</td>\n",
       "      <td>0</td>\n",
       "      <td>0</td>\n",
       "      <td>1</td>\n",
       "      <td>0</td>\n",
       "    </tr>\n",
       "    <tr>\n",
       "      <th>4</th>\n",
       "      <td>-0.347324</td>\n",
       "      <td>0</td>\n",
       "      <td>0</td>\n",
       "      <td>0</td>\n",
       "      <td>0</td>\n",
       "      <td>0</td>\n",
       "      <td>0</td>\n",
       "      <td>0</td>\n",
       "    </tr>\n",
       "  </tbody>\n",
       "</table>\n",
       "</div>"
      ],
      "text/plain": [
       "   fw_total_spent  fw_used_coupon  accepts_marketing  wealthy_zip  \\\n",
       "0       -0.347324               0                  0            0   \n",
       "1       -0.389530               0                  0            0   \n",
       "2        0.623424               0                  1            0   \n",
       "3       -1.064833               0                  0            0   \n",
       "4       -0.347324               0                  0            0   \n",
       "\n",
       "   first_order_feb_june  large_size  first_item_price_range_low  \\\n",
       "0                     1           1                           0   \n",
       "1                     1           1                           0   \n",
       "2                     0           0                           0   \n",
       "3                     0           0                           1   \n",
       "4                     0           0                           0   \n",
       "\n",
       "   first_item_price_range_medium  \n",
       "0                              0  \n",
       "1                              0  \n",
       "2                              0  \n",
       "3                              0  \n",
       "4                              0  "
      ]
     },
     "execution_count": 9,
     "metadata": {},
     "output_type": "execute_result"
    }
   ],
   "source": [
    "## We use a scaler to scale the feature variables which are not categorical: \n",
    "cols_to_scale = ['fw_total_spent']\n",
    "scaler = StandardScaler()\n",
    "scaler.fit(X[cols_to_scale])\n",
    "\n",
    "X_scaled = scaler.transform(X[cols_to_scale])\n",
    "for ind, col in enumerate(cols_to_scale):\n",
    "    X[col] = X_scaled[:,ind]\n",
    "X.head()"
   ]
  },
  {
   "cell_type": "code",
   "execution_count": 10,
   "id": "15a4612b",
   "metadata": {},
   "outputs": [
    {
     "name": "stdout",
     "output_type": "stream",
     "text": [
      "(7942, 8) (2648, 8) (7942,) (2648,)\n"
     ]
    }
   ],
   "source": [
    "## We split our data into training and test sets\n",
    "X_train, X_test, y_train, y_test = train_test_split(X, y, test_size=0.25, random_state=42)\n",
    "print(X_train.shape, X_test.shape, y_train.shape, y_test.shape)"
   ]
  },
  {
   "cell_type": "markdown",
   "id": "8d7f3bfc",
   "metadata": {},
   "source": [
    "## 2. Classification Models\n",
    "- In the previous models, our target feature was **continuous**. We will be treating pwf as a **discrete**.\n",
    "- We will create a new target column."
   ]
  },
  {
   "cell_type": "markdown",
   "id": "7d4c590f",
   "metadata": {},
   "source": [
    "## Logistic Regression "
   ]
  },
  {
   "cell_type": "code",
   "execution_count": 11,
   "id": "d91350e1",
   "metadata": {},
   "outputs": [
    {
     "name": "stdout",
     "output_type": "stream",
     "text": [
      "Best Estimator:LogisticRegression(C=0.01, l1_ratio=0)\n",
      "Best Params:{'C': 0.01, 'l1_ratio': 0, 'penalty': 'l2'}\n",
      "Best Score:0.5954477808783644\n"
     ]
    }
   ],
   "source": [
    "## We instantiate a logistic regression model and use GridSearchCV to find the best parameters. \n",
    "log_reg = LogisticRegression()\n",
    "param_grid = {'C': [0.001, 0.01, 0.1, 1, 10, 100, 1000],\n",
    "             'l1_ratio': [0,.5,1],\n",
    "             'penalty':['none','l1','l2','elasticnet']\n",
    "             }\n",
    "lr_cv = GridSearchCV(log_reg, param_grid, cv=10, scoring='roc_auc')\n",
    "lr_cv.fit(X_train,y_train)\n",
    "\n",
    "print('Best Estimator:' +str(lr_cv.best_estimator_))\n",
    "print('Best Params:' +str(lr_cv.best_params_))\n",
    "print('Best Score:' +str(lr_cv.best_score_))\n",
    "# We get the result: 'LogisticRegression(C=10, l1_ratio=0) '"
   ]
  },
  {
   "cell_type": "code",
   "execution_count": 12,
   "id": "17248282",
   "metadata": {},
   "outputs": [
    {
     "data": {
      "text/plain": [
       "0    2631\n",
       "1      17\n",
       "dtype: int64"
      ]
     },
     "execution_count": 12,
     "metadata": {},
     "output_type": "execute_result"
    }
   ],
   "source": [
    "## With the best parameters, we re-instantiate the model, fit and predict the probabilities. \n",
    "best_lreg = LogisticRegression(C = 0.01, l1_ratio= 0, penalty = 'l2')\n",
    "best_lreg.fit(X_train, y_train)\n",
    "\n",
    "## We predict the probabilities of s\n",
    "y_pred_best_lreg = best_lreg.predict(X_test)\n",
    "y_pred_best_lreg = pd.Series(y_pred_best_lreg)\n",
    "\n",
    "## We visualize the prediction that the Logistic Regression Gives us. \n",
    "y_pred_best_lreg.value_counts()"
   ]
  },
  {
   "cell_type": "code",
   "execution_count": 13,
   "id": "9218e275",
   "metadata": {},
   "outputs": [
    {
     "data": {
      "image/png": "[encoded data removed]",
      "text/plain": [
       "<Figure size 432x288 with 2 Axes>"
      ]
     },
     "metadata": {
      "needs_background": "light"
     },
     "output_type": "display_data"
    },
    {
     "name": "stdout",
     "output_type": "stream",
     "text": [
      "Actual Data: [0 0 1 ... 0 0 1]\n",
      "\n",
      "\n",
      "Model Predictions: 0       0\n",
      "1       0\n",
      "2       0\n",
      "3       0\n",
      "4       0\n",
      "       ..\n",
      "2643    0\n",
      "2644    0\n",
      "2645    0\n",
      "2646    0\n",
      "2647    0\n",
      "Length: 2648, dtype: int32\n",
      "\n",
      "\n",
      "Accuracy Score: 0.724320241691843\n",
      "Precision Score: 0.6470588235294118\n",
      "Recall Score: 0.014965986394557823\n",
      "F1 Score: 0.029255319148936167\n"
     ]
    }
   ],
   "source": [
    "## We plot the confusion Matrix\n",
    "plot_confusion_matrix(best_lreg, X_test,y_test)\n",
    "plt.title('Confusion Matrix of Test Data', pad =25)\n",
    "plt.show()\n",
    "\n",
    "## We evaluate the metrics of the confusion Matrix: \n",
    "accuracy_log  = accuracy_score(y_test,y_pred_best_lreg)\n",
    "precision_log = precision_score(y_test,y_pred_best_lreg)\n",
    "recall_log = recall_score(y_test,y_pred_best_lreg)\n",
    "f1_log = f1_score(y_test,y_pred_best_lreg)\n",
    "print(\"Actual Data: \" +str(np.array(y_test)))\n",
    "print(\"\\n\")\n",
    "print(\"Model Predictions: \" +str(y_pred_best_lreg))\n",
    "print(\"\\n\")\n",
    "print(\"Accuracy Score: \" + str(accuracy_log))\n",
    "print(\"Precision Score: \" +str(precision_log))\n",
    "print(\"Recall Score: \" +str(recall_log))\n",
    "print(\"F1 Score: \" +str(f1_log))"
   ]
  },
  {
   "cell_type": "markdown",
   "id": "f2c6e13d",
   "metadata": {},
   "source": [
    "## Random Forests:"
   ]
  },
  {
   "cell_type": "code",
   "execution_count": 14,
   "id": "47a28853",
   "metadata": {},
   "outputs": [
    {
     "data": {
      "image/png": "[encoded data removed]",
      "text/plain": [
       "<Figure size 1008x504 with 1 Axes>"
      ]
     },
     "metadata": {
      "needs_background": "light"
     },
     "output_type": "display_data"
    }
   ],
   "source": [
    "## Prior to using GridSeachCV, we can see the effect of n_estimators on testing accuracy. \n",
    "scores =[]\n",
    "for k in range(1, 200):\n",
    "    rfc = RandomForestClassifier(n_estimators=k)\n",
    "    rfc.fit(X_train, y_train)\n",
    "    y_pred_rf = rfc.predict(X_test)\n",
    "    scores.append(accuracy_score(y_test, y_pred_rf))\n",
    "\n",
    "# plot the relationship between K and testing accuracy\n",
    "plt.figure(figsize=(14,7))\n",
    "plt.plot(range(1, 200), scores, color ='g', linestyle ='--')\n",
    "plt.xlabel('N Estimator Value in RF Model')\n",
    "plt.ylabel('Testing Accuracy')\n",
    "plt.title('Testing Accuracy across multiple n_estimator values', fontsize = 25, pad =20)\n",
    "plt.show()\n",
    "## Code inspired from: https://stackoverflow.com/questions/60768008/how-to-choose-n-estimators-in-randomforestclassifier"
   ]
  },
  {
   "cell_type": "code",
   "execution_count": 63,
   "id": "a22214a1",
   "metadata": {},
   "outputs": [
    {
     "data": {
      "text/plain": [
       "0    2356\n",
       "1     292\n",
       "dtype: int64"
      ]
     },
     "execution_count": 63,
     "metadata": {},
     "output_type": "execute_result"
    }
   ],
   "source": [
    "rfc = RandomForestClassifier(random_state = 42)\n",
    "rfc.fit(X_train, y_train)\n",
    "\n",
    "y_pred_rfc = rfc.predict(X_test)\n",
    "y_pred_rfc = pd.Series(y_pred_rfc)\n",
    "\n",
    "## We visualize the prediction that the Logistic Regression Gives us. \n",
    "y_pred_rfc.value_counts()"
   ]
  },
  {
   "cell_type": "code",
   "execution_count": 64,
   "id": "5af8b1d0",
   "metadata": {},
   "outputs": [
    {
     "data": {
      "image/png": "[encoded data removed]",
      "text/plain": [
       "<Figure size 432x288 with 2 Axes>"
      ]
     },
     "metadata": {
      "needs_background": "light"
     },
     "output_type": "display_data"
    },
    {
     "name": "stdout",
     "output_type": "stream",
     "text": [
      "Actual Data: [0 0 1 ... 0 0 1]\n",
      "\n",
      "\n",
      "Model Predictions: 0       0\n",
      "1       0\n",
      "2       1\n",
      "3       0\n",
      "4       0\n",
      "       ..\n",
      "2643    0\n",
      "2644    0\n",
      "2645    0\n",
      "2646    0\n",
      "2647    0\n",
      "Length: 2648, dtype: int32\n",
      "\n",
      "\n",
      "Accuracy Score: 0.6846676737160121\n",
      "Precision Score: 0.3287671232876712\n",
      "Recall Score: 0.1306122448979592\n",
      "F1 Score: 0.18695228821811102\n"
     ]
    }
   ],
   "source": [
    "plot_confusion_matrix(rfc, X_test,y_test)\n",
    "plt.title('Confusion Matrix of Test Data', pad =25)\n",
    "plt.show()\n",
    "\n",
    "## We evaluate the metrics of the confusion Matrix: \n",
    "accuracy_rfc  = accuracy_score(y_test,y_pred_rfc)\n",
    "precision_rfc = precision_score(y_test,y_pred_rfc)\n",
    "recall_rfc = recall_score(y_test,y_pred_rfc)\n",
    "f1_rfc = f1_score(y_test,y_pred_rfc)\n",
    "print(\"Actual Data: \" +str(np.array(y_test)))\n",
    "print(\"\\n\")\n",
    "print(\"Model Predictions: \" +str(y_pred_rfc))\n",
    "print(\"\\n\")\n",
    "print(\"Accuracy Score: \" + str(accuracy_rfc))\n",
    "print(\"Precision Score: \" +str(precision_rfc))\n",
    "print(\"Recall Score: \" +str(recall_rfc))\n",
    "print(\"F1 Score: \" +str(f1_rfc))"
   ]
  },
  {
   "cell_type": "code",
   "execution_count": 15,
   "id": "fd490e81",
   "metadata": {},
   "outputs": [
    {
     "data": {
      "text/plain": [
       "\"\\nBest Estimator:RandomForestClassifier(bootstrap='False', max_depth=4, max_features='sqrt',\\n                       n_estimators=50, random_state=42)\\nBest Params:{'bootstrap': 'False', 'criterion': 'gini', 'max_depth': 4, 'max_features': 'sqrt', 'n_estimators': 50}\\nBest Score:0.5988629677995277\\n\""
      ]
     },
     "execution_count": 15,
     "metadata": {},
     "output_type": "execute_result"
    }
   ],
   "source": [
    "## We use GridSearchCV to find the best hyperparameters of RandomForest. \n",
    "  \n",
    "'''\n",
    "rfc = RandomForestClassifier(random_state = 42)\n",
    "param_grid = { \n",
    "    'n_estimators': [10, 25, 50, 100, 200],\n",
    "    'max_features': ['sqrt', 'auto', 'log2'],\n",
    "    'criterion': ['gini','entropy'],\n",
    "    'max_depth' : [2,4,6,8],\n",
    "    'bootstrap':['False', 'True']\n",
    "}\n",
    "\n",
    "rfc_GS = GridSearchCV(rfc, param_grid, cv=5, scoring='roc_auc')\n",
    "rfc_GS.fit(X_train,y_train)\n",
    "\n",
    "##Let's look at the results  for Grid Search CV \n",
    "print('Best Estimator:' +str(rfc_GS.best_estimator_))\n",
    "print('Best Params:' +str(rfc_GS.best_params_))\n",
    "print('Best Score:' +str(rfc_GS.best_score_))\n",
    "'''\n",
    "\n",
    "## The findings for the above is as follows below: \n",
    "\n",
    "'''\n",
    "Best Estimator:RandomForestClassifier(bootstrap='False', max_depth=4, max_features='sqrt',\n",
    "                       n_estimators=50, random_state=42)\n",
    "Best Params:{'bootstrap': 'False', 'criterion': 'gini', 'max_depth': 4, 'max_features': 'sqrt', 'n_estimators': 50}\n",
    "Best Score:0.5988629677995277\n",
    "'''"
   ]
  },
  {
   "cell_type": "code",
   "execution_count": 65,
   "id": "39cf2c30",
   "metadata": {},
   "outputs": [
    {
     "data": {
      "text/plain": [
       "0    2648\n",
       "dtype: int64"
      ]
     },
     "execution_count": 65,
     "metadata": {},
     "output_type": "execute_result"
    }
   ],
   "source": [
    "## With the best parameters, we re-instantiate the model, fit and predict the probabilities. \n",
    "rfc_best = RandomForestClassifier(bootstrap= False, criterion= 'gini', max_depth= 4, \n",
    "                                  max_features= 'sqrt', n_estimators= 50, random_state = 42)\n",
    "rfc_best.fit(X_train, y_train)\n",
    "\n",
    "y_pred_best_rfc = rfc_best.predict(X_test)\n",
    "y_pred_best_rfc = pd.Series(y_pred_best_rfc)\n",
    "\n",
    "## We visualize the prediction that the Logistic Regression Gives us. \n",
    "y_pred_best_rfc.value_counts()"
   ]
  },
  {
   "cell_type": "code",
   "execution_count": 66,
   "id": "312763b8",
   "metadata": {},
   "outputs": [
    {
     "data": {
      "image/png": "[encoded data removed]",
      "text/plain": [
       "<Figure size 432x288 with 2 Axes>"
      ]
     },
     "metadata": {
      "needs_background": "light"
     },
     "output_type": "display_data"
    },
    {
     "name": "stdout",
     "output_type": "stream",
     "text": [
      "Actual Data: [0 0 1 ... 0 0 1]\n",
      "\n",
      "\n",
      "Model Predictions: 0       0\n",
      "1       0\n",
      "2       0\n",
      "3       0\n",
      "4       0\n",
      "       ..\n",
      "2643    0\n",
      "2644    0\n",
      "2645    0\n",
      "2646    0\n",
      "2647    0\n",
      "Length: 2648, dtype: int32\n",
      "\n",
      "\n",
      "Accuracy Score: 0.7224320241691843\n",
      "Precision Score: 0.0\n",
      "Recall Score: 0.0\n",
      "F1 Score: 0.0\n"
     ]
    }
   ],
   "source": [
    "## We plot the confusion Matrix\n",
    "plot_confusion_matrix(rfc_best, X_test,y_test)\n",
    "plt.title('Confusion Matrix of Test Data', pad =25)\n",
    "plt.show()\n",
    "\n",
    "## We evaluate the metrics of the confusion Matrix: \n",
    "accuracy_best_rfc  = accuracy_score(y_test,y_pred_best_rfc)\n",
    "precision_best_rfc = precision_score(y_test,y_pred_best_rfc)\n",
    "recall_best_rfc = recall_score(y_test,y_pred_best_rfc)\n",
    "f1_best_rfc = f1_score(y_test,y_pred_best_rfc)\n",
    "print(\"Actual Data: \" +str(np.array(y_test)))\n",
    "print(\"\\n\")\n",
    "print(\"Model Predictions: \" +str(y_pred_best_rfc))\n",
    "print(\"\\n\")\n",
    "print(\"Accuracy Score: \" + str(accuracy_best_rfc ))\n",
    "print(\"Precision Score: \" +str(precision_best_rfc))\n",
    "print(\"Recall Score: \" +str(recall_best_rfc))\n",
    "print(\"F1 Score: \" +str(f1_best_rfc))"
   ]
  },
  {
   "cell_type": "code",
   "execution_count": 67,
   "id": "a7e2ccd4",
   "metadata": {},
   "outputs": [
    {
     "data": {
      "text/html": [
       "<div>\n",
       "<style scoped>\n",
       "    .dataframe tbody tr th:only-of-type {\n",
       "        vertical-align: middle;\n",
       "    }\n",
       "\n",
       "    .dataframe tbody tr th {\n",
       "        vertical-align: top;\n",
       "    }\n",
       "\n",
       "    .dataframe thead th {\n",
       "        text-align: right;\n",
       "    }\n",
       "</style>\n",
       "<table border=\"1\" class=\"dataframe\">\n",
       "  <thead>\n",
       "    <tr style=\"text-align: right;\">\n",
       "      <th></th>\n",
       "      <th>importance</th>\n",
       "    </tr>\n",
       "  </thead>\n",
       "  <tbody>\n",
       "    <tr>\n",
       "      <th>fw_total_spent</th>\n",
       "      <td>0.830226</td>\n",
       "    </tr>\n",
       "    <tr>\n",
       "      <th>first_order_feb_june</th>\n",
       "      <td>0.031685</td>\n",
       "    </tr>\n",
       "    <tr>\n",
       "      <th>large_size</th>\n",
       "      <td>0.028283</td>\n",
       "    </tr>\n",
       "    <tr>\n",
       "      <th>accepts_marketing</th>\n",
       "      <td>0.027755</td>\n",
       "    </tr>\n",
       "    <tr>\n",
       "      <th>wealthy_zip</th>\n",
       "      <td>0.026279</td>\n",
       "    </tr>\n",
       "    <tr>\n",
       "      <th>fw_used_coupon</th>\n",
       "      <td>0.020648</td>\n",
       "    </tr>\n",
       "    <tr>\n",
       "      <th>first_item_price_range_medium</th>\n",
       "      <td>0.017886</td>\n",
       "    </tr>\n",
       "    <tr>\n",
       "      <th>first_item_price_range_low</th>\n",
       "      <td>0.017237</td>\n",
       "    </tr>\n",
       "  </tbody>\n",
       "</table>\n",
       "</div>"
      ],
      "text/plain": [
       "                               importance\n",
       "fw_total_spent                   0.830226\n",
       "first_order_feb_june             0.031685\n",
       "large_size                       0.028283\n",
       "accepts_marketing                0.027755\n",
       "wealthy_zip                      0.026279\n",
       "fw_used_coupon                   0.020648\n",
       "first_item_price_range_medium    0.017886\n",
       "first_item_price_range_low       0.017237"
      ]
     },
     "execution_count": 67,
     "metadata": {},
     "output_type": "execute_result"
    }
   ],
   "source": [
    "## We visualize the feature importance for the Random Forest Model\n",
    "features = pd.DataFrame(rfc.feature_importances_, index = X_train.columns, \n",
    "                      columns=['importance']).sort_values('importance', ascending=False)\n",
    "features"
   ]
  },
  {
   "cell_type": "code",
   "execution_count": 68,
   "id": "d2fd2c73",
   "metadata": {
    "scrolled": false
   },
   "outputs": [
    {
     "data": {
      "image/png": "[encoded data removed]",
      "text/plain": [
       "<Figure size 720x360 with 1 Axes>"
      ]
     },
     "metadata": {
      "needs_background": "light"
     },
     "output_type": "display_data"
    }
   ],
   "source": [
    "## We plot the visualization importance. \n",
    "plt.figure(figsize=(10,5))\n",
    "sns.color_palette(\"magma\", as_cmap=True)\n",
    "sns.barplot(y = features.index, x = features['importance'],palette='magma')\n",
    "plt.title('Feature importance in the Random Forest Model', pad = 20, fontsize = 15)\n",
    "plt.show()"
   ]
  },
  {
   "cell_type": "code",
   "execution_count": 71,
   "id": "2f639f4d",
   "metadata": {},
   "outputs": [
    {
     "data": {
      "text/html": [
       "<div>\n",
       "<style scoped>\n",
       "    .dataframe tbody tr th:only-of-type {\n",
       "        vertical-align: middle;\n",
       "    }\n",
       "\n",
       "    .dataframe tbody tr th {\n",
       "        vertical-align: top;\n",
       "    }\n",
       "\n",
       "    .dataframe thead th {\n",
       "        text-align: right;\n",
       "    }\n",
       "</style>\n",
       "<table border=\"1\" class=\"dataframe\">\n",
       "  <thead>\n",
       "    <tr style=\"text-align: right;\">\n",
       "      <th></th>\n",
       "      <th>importance</th>\n",
       "    </tr>\n",
       "  </thead>\n",
       "  <tbody>\n",
       "    <tr>\n",
       "      <th>fw_total_spent</th>\n",
       "      <td>0.521267</td>\n",
       "    </tr>\n",
       "    <tr>\n",
       "      <th>first_order_feb_june</th>\n",
       "      <td>0.190310</td>\n",
       "    </tr>\n",
       "    <tr>\n",
       "      <th>large_size</th>\n",
       "      <td>0.129377</td>\n",
       "    </tr>\n",
       "    <tr>\n",
       "      <th>first_item_price_range_low</th>\n",
       "      <td>0.060412</td>\n",
       "    </tr>\n",
       "    <tr>\n",
       "      <th>fw_used_coupon</th>\n",
       "      <td>0.032608</td>\n",
       "    </tr>\n",
       "    <tr>\n",
       "      <th>accepts_marketing</th>\n",
       "      <td>0.030929</td>\n",
       "    </tr>\n",
       "    <tr>\n",
       "      <th>wealthy_zip</th>\n",
       "      <td>0.022596</td>\n",
       "    </tr>\n",
       "    <tr>\n",
       "      <th>first_item_price_range_medium</th>\n",
       "      <td>0.012501</td>\n",
       "    </tr>\n",
       "  </tbody>\n",
       "</table>\n",
       "</div>"
      ],
      "text/plain": [
       "                               importance\n",
       "fw_total_spent                   0.521267\n",
       "first_order_feb_june             0.190310\n",
       "large_size                       0.129377\n",
       "first_item_price_range_low       0.060412\n",
       "fw_used_coupon                   0.032608\n",
       "accepts_marketing                0.030929\n",
       "wealthy_zip                      0.022596\n",
       "first_item_price_range_medium    0.012501"
      ]
     },
     "execution_count": 71,
     "metadata": {},
     "output_type": "execute_result"
    }
   ],
   "source": [
    "features_best = pd.DataFrame(rfc_best.feature_importances_, index = X_train.columns, \n",
    "                      columns=['importance']).sort_values('importance', ascending=False)\n",
    "features_best"
   ]
  },
  {
   "cell_type": "code",
   "execution_count": 73,
   "id": "5f090cbd",
   "metadata": {},
   "outputs": [
    {
     "data": {
      "image/png": "[encoded data removed]",
      "text/plain": [
       "<Figure size 720x360 with 1 Axes>"
      ]
     },
     "metadata": {
      "needs_background": "light"
     },
     "output_type": "display_data"
    }
   ],
   "source": [
    "## We plot the visualization importance. \n",
    "plt.figure(figsize=(10,5))\n",
    "sns.color_palette(\"magma\", as_cmap=True)\n",
    "sns.barplot(y = features_best.index, x = features_best['importance'],palette='magma')\n",
    "plt.title('Feature importance in the Random Forest Model', pad = 20, fontsize = 15)\n",
    "plt.show()"
   ]
  },
  {
   "cell_type": "markdown",
   "id": "c5caffbc",
   "metadata": {},
   "source": [
    "## Gradient Boosting:"
   ]
  },
  {
   "cell_type": "code",
   "execution_count": 19,
   "id": "af5b4809",
   "metadata": {},
   "outputs": [
    {
     "data": {
      "text/plain": [
       "\"\\nBest Estimator:GradientBoostingClassifier(loss='exponential', max_depth=2, n_estimators=20, random_state=42)\\nBest Params:{'criterion': 'friedman_mse', 'loss': 'exponential', 'max_depth': 2, 'n_estimators': 20}\\nBest Score:0.5972483890365966\\n\""
      ]
     },
     "execution_count": 19,
     "metadata": {},
     "output_type": "execute_result"
    }
   ],
   "source": [
    "## We use GridSearchCV to find the best hyperparameters for Gradient Boosting\n",
    "\n",
    "'''\n",
    "gbc = GradientBoostingClassifier(random_state = 42)\n",
    "param_grid = { \n",
    "    'loss': ['exponential','deviance'],\n",
    "    'n_estimators': [1,2,5,10,20,100],\n",
    "    'criterion': ['friedman_mse', 'squared_error', 'mse', 'mae'],\n",
    "    'max_depth' : [2,6,8,10],\n",
    "}\n",
    "\n",
    "gbc_GS = GridSearchCV(gbc, param_grid, cv=5, scoring='roc_auc')\n",
    "gbc_GS.fit(X_train,y_train)\n",
    "\n",
    "##Let's look at the results  for Grid Search CV \n",
    "print('Best Estimator:' +str(gbc_GS.best_estimator_))\n",
    "print('Best Params:' +str(gbc_GS.best_params_))\n",
    "print('Best Score:' +str(gbc_GS.best_score_))\n",
    "\n",
    "'''\n",
    "## The findings for the above is as follows below: \n",
    "'''\n",
    "Best Estimator:GradientBoostingClassifier(loss='exponential', max_depth=2, n_estimators=20, random_state=42)\n",
    "Best Params:{'criterion': 'friedman_mse', 'loss': 'exponential', 'max_depth': 2, 'n_estimators': 20}\n",
    "Best Score:0.5972483890365966\n",
    "'''"
   ]
  },
  {
   "cell_type": "code",
   "execution_count": 33,
   "id": "1cfe8ac4",
   "metadata": {},
   "outputs": [
    {
     "data": {
      "text/plain": [
       "0    2648\n",
       "dtype: int64"
      ]
     },
     "execution_count": 33,
     "metadata": {},
     "output_type": "execute_result"
    }
   ],
   "source": [
    "## We  fit the Predictor.\n",
    "gbc_best = GradientBoostingClassifier(criterion= 'friedman_mse', max_depth= 2, \n",
    "                                      max_features= 'sqrt', n_estimators= 20, loss ='exponential',random_state = 42)\n",
    "gbc_best.fit(X_train, y_train)\n",
    "\n",
    "y_pred_best_gbc = gbc_best.predict(X_test)\n",
    "y_pred_best_gbc = pd.Series(y_pred_best_gbc)\n",
    "\n",
    "## We visualize the prediction that the Logistic Regression Gives us. \n",
    "y_pred_best_gbc.value_counts()"
   ]
  },
  {
   "cell_type": "code",
   "execution_count": 34,
   "id": "050e9fd0",
   "metadata": {},
   "outputs": [
    {
     "data": {
      "image/png": "[encoded data removed]",
      "text/plain": [
       "<Figure size 432x288 with 2 Axes>"
      ]
     },
     "metadata": {
      "needs_background": "light"
     },
     "output_type": "display_data"
    },
    {
     "name": "stdout",
     "output_type": "stream",
     "text": [
      "Actual Data: [0 0 1 ... 0 0 1]\n",
      "\n",
      "\n",
      "Model Predictions: 0       0\n",
      "1       0\n",
      "2       0\n",
      "3       0\n",
      "4       0\n",
      "       ..\n",
      "2643    0\n",
      "2644    0\n",
      "2645    0\n",
      "2646    0\n",
      "2647    0\n",
      "Length: 2648, dtype: int32\n",
      "\n",
      "\n",
      "Accuracy Score: 0.7224320241691843\n",
      "Precision Score: 0.0\n",
      "Recall Score: 0.0\n",
      "F1 Score: 0.0\n"
     ]
    }
   ],
   "source": [
    "## We plot the confusion Matrix\n",
    "plot_confusion_matrix(gbc_best, X_test,y_test)\n",
    "plt.title('Confusion Matrix of Test Data', pad =25)\n",
    "plt.show()\n",
    "\n",
    "## We evaluate the metrics of the confusion Matrix: \n",
    "accuracy_gbc  = accuracy_score(y_test,y_pred_best_gbc)\n",
    "precision_gbc = precision_score(y_test,y_pred_best_gbc)\n",
    "recall_gbc = recall_score(y_test,y_pred_best_gbc)\n",
    "f1_gbc = f1_score(y_test,y_pred_best_gbc)\n",
    "print(\"Actual Data: \" +str(np.array(y_test)))\n",
    "print(\"\\n\")\n",
    "print(\"Model Predictions: \" +str(y_pred_best_gbc))\n",
    "print(\"\\n\")\n",
    "print(\"Accuracy Score: \" + str(accuracy_gbc))\n",
    "print(\"Precision Score: \" +str(precision_gbc))\n",
    "print(\"Recall Score: \" +str(recall_gbc))\n",
    "print(\"F1 Score: \" +str(f1_gbc))"
   ]
  },
  {
   "cell_type": "markdown",
   "id": "bf14dd53",
   "metadata": {},
   "source": [
    "## SVC"
   ]
  },
  {
   "cell_type": "code",
   "execution_count": 54,
   "id": "59435de8",
   "metadata": {},
   "outputs": [
    {
     "name": "stdout",
     "output_type": "stream",
     "text": [
      "Actual Data: [0 0 1 ... 0 0 1]\n",
      "\n",
      "\n",
      "Model Predictions: [0 0 0 ... 0 0 0]\n",
      "\n",
      "\n",
      "Accuracy Score: 0.7220543806646526\n",
      "Precision Score: 0.4666666666666667\n",
      "Recall Score: 0.009523809523809525\n"
     ]
    }
   ],
   "source": [
    "## Support Vector Machines \n",
    "svc = SVC(probability = True)\n",
    "svc.fit(X_train,y_train)\n",
    "\n",
    "y_pred_svc = svc.predict(X_test)\n",
    "accuracy_svc = accuracy_score(y_test,y_pred_svc )\n",
    "precision_svc = precision_score(y_test,y_pred_svc )\n",
    "recall_svc = recall_score(y_test,y_pred_svc )\n",
    "\n",
    "print(\"Actual Data: \" + str(np.array(y_test)))\n",
    "print(\"\\n\")\n",
    "print(\"Model Predictions: \" +str(y_pred_svc ))\n",
    "print(\"\\n\")\n",
    "print(\"Accuracy Score: \" +str(accuracy_svc) )\n",
    "print(\"Precision Score: \" +str(precision_svc) )\n",
    "print(\"Recall Score: \" +str(recall_svc) )"
   ]
  },
  {
   "cell_type": "code",
   "execution_count": 55,
   "id": "7e7850b7",
   "metadata": {
    "scrolled": true
   },
   "outputs": [
    {
     "data": {
      "image/png": "[encoded data removed]",
      "text/plain": [
       "<Figure size 432x288 with 2 Axes>"
      ]
     },
     "metadata": {
      "needs_background": "light"
     },
     "output_type": "display_data"
    }
   ],
   "source": [
    "plot_confusion_matrix(svc, X_test,y_test)\n",
    "plt.title('Confusion Matrix of Test Data', pad =25)\n",
    "plt.show()"
   ]
  },
  {
   "cell_type": "code",
   "execution_count": 56,
   "id": "0586b724",
   "metadata": {},
   "outputs": [
    {
     "data": {
      "text/plain": [
       "\"\\nBest Estimator:SVC(C=0.1, gamma=0.0001, random_state=42)\\nBest Params:{'C': 0.1, 'gamma': 0.0001, 'kernel': 'rbf'}\\nBest Score:0.5905049897034444\\n\""
      ]
     },
     "execution_count": 56,
     "metadata": {},
     "output_type": "execute_result"
    }
   ],
   "source": [
    "## We get the best parameters for svc\n",
    "'''\n",
    "svc = SVC(random_state = 42)\n",
    "param_grid = {'C': [0.1, 1, 10, 100, 1000],\n",
    "              'gamma': [1, 0.1, 0.01, 0.001, 0.0001],\n",
    "              'kernel': ['rbf']\n",
    "             }\n",
    "\n",
    "svc_GS = GridSearchCV(svc, param_grid, scoring='roc_auc')\n",
    "svc_GS.fit(X_train,y_train)\n",
    "\n",
    "##Let's look at the results  for Grid Search CV \n",
    "print('Best Estimator:' +str(svc_GS.best_estimator_))\n",
    "print('Best Params:' +str(svc_GS.best_params_))\n",
    "print('Best Score:' +str(svc_GS.best_score_))\n",
    "'''\n",
    "\n",
    "## This is the result of GridSearchCV (takes close to 30 min to run): \n",
    "'''\n",
    "Best Estimator:SVC(C=0.1, gamma=0.0001, random_state=42)\n",
    "Best Params:{'C': 0.1, 'gamma': 0.0001, 'kernel': 'rbf'}\n",
    "Best Score:0.5905049897034444\n",
    "'''"
   ]
  },
  {
   "cell_type": "code",
   "execution_count": 57,
   "id": "d49ee241",
   "metadata": {},
   "outputs": [
    {
     "name": "stdout",
     "output_type": "stream",
     "text": [
      "Actual Data: [0 0 1 ... 0 0 1]\n",
      "\n",
      "\n",
      "Model Predictions: [0 0 0 ... 0 0 0]\n",
      "\n",
      "\n",
      "Accuracy Score: 0.7220543806646526\n",
      "Precision Score: 0.0\n",
      "Recall Score: 0.0\n"
     ]
    },
    {
     "data": {
      "image/png": "[encoded data removed]",
      "text/plain": [
       "<Figure size 432x288 with 2 Axes>"
      ]
     },
     "metadata": {
      "needs_background": "light"
     },
     "output_type": "display_data"
    }
   ],
   "source": [
    "## We re-instantiate svc with the best parameters \n",
    "svc_best = SVC(C=0.1, gamma=0.0001, kernel = 'rbf',random_state = 42, probability = True)\n",
    "svc_best.fit(X_train, y_train)\n",
    "y_pred_best_svc = svc_best.predict(X_test)\n",
    "\n",
    "accuracy_best_svc = accuracy_score(y_test,y_pred_svc)\n",
    "precision_best_svc = precision_score(y_test,y_pred_best_svc)\n",
    "recall_best_svc = recall_score(y_test,y_pred_best_svc)\n",
    "\n",
    "print(\"Actual Data: \" + str(np.array(y_test)))\n",
    "print(\"\\n\")\n",
    "print(\"Model Predictions: \" +str(y_pred_best_svc))\n",
    "print(\"\\n\")\n",
    "print(\"Accuracy Score: \" +str(accuracy_best_svc))\n",
    "print(\"Precision Score: \" +str(precision_best_svc))\n",
    "print(\"Recall Score: \" +str(recall_best_svc))\n",
    "\n",
    "plot_confusion_matrix(svc_best, X_test,y_test)\n",
    "plt.title('Confusion Matrix of Test Data', pad =25)\n",
    "plt.show()"
   ]
  },
  {
   "cell_type": "code",
   "execution_count": 58,
   "id": "3d64a92a",
   "metadata": {},
   "outputs": [
    {
     "name": "stdout",
     "output_type": "stream",
     "text": [
      "0.5950879858209901\n"
     ]
    },
    {
     "ename": "ValueError",
     "evalue": "Only one class present in y_true. ROC AUC score is not defined in that case.",
     "output_type": "error",
     "traceback": [
      "\u001b[1;31m---------------------------------------------------------------------------\u001b[0m",
      "\u001b[1;31mValueError\u001b[0m                                Traceback (most recent call last)",
      "\u001b[1;32m~\\AppData\\Local\\Temp/ipykernel_7516/3350729346.py\u001b[0m in \u001b[0;36m<module>\u001b[1;34m\u001b[0m\n\u001b[0;32m      1\u001b[0m \u001b[0mprint\u001b[0m\u001b[1;33m(\u001b[0m\u001b[0mroc_auc_score\u001b[0m\u001b[1;33m(\u001b[0m\u001b[0my_pred_svc\u001b[0m\u001b[1;33m,\u001b[0m\u001b[0my_test\u001b[0m\u001b[1;33m)\u001b[0m\u001b[1;33m)\u001b[0m\u001b[1;33m\u001b[0m\u001b[1;33m\u001b[0m\u001b[0m\n\u001b[1;32m----> 2\u001b[1;33m \u001b[0mprint\u001b[0m\u001b[1;33m(\u001b[0m\u001b[0mroc_auc_score\u001b[0m\u001b[1;33m(\u001b[0m\u001b[0my_pred_best_svc\u001b[0m\u001b[1;33m,\u001b[0m\u001b[0my_test\u001b[0m\u001b[1;33m)\u001b[0m\u001b[1;33m)\u001b[0m\u001b[1;33m\u001b[0m\u001b[1;33m\u001b[0m\u001b[0m\n\u001b[0m",
      "\u001b[1;32m~\\AppData\\Local\\Packages\\PythonSoftwareFoundation.Python.3.9_qbz5n2kfra8p0\\LocalCache\\local-packages\\Python39\\site-packages\\sklearn\\metrics\\_ranking.py\u001b[0m in \u001b[0;36mroc_auc_score\u001b[1;34m(y_true, y_score, average, sample_weight, max_fpr, multi_class, labels)\u001b[0m\n\u001b[0;32m    564\u001b[0m         \u001b[0mlabels\u001b[0m \u001b[1;33m=\u001b[0m \u001b[0mnp\u001b[0m\u001b[1;33m.\u001b[0m\u001b[0munique\u001b[0m\u001b[1;33m(\u001b[0m\u001b[0my_true\u001b[0m\u001b[1;33m)\u001b[0m\u001b[1;33m\u001b[0m\u001b[1;33m\u001b[0m\u001b[0m\n\u001b[0;32m    565\u001b[0m         \u001b[0my_true\u001b[0m \u001b[1;33m=\u001b[0m \u001b[0mlabel_binarize\u001b[0m\u001b[1;33m(\u001b[0m\u001b[0my_true\u001b[0m\u001b[1;33m,\u001b[0m \u001b[0mclasses\u001b[0m\u001b[1;33m=\u001b[0m\u001b[0mlabels\u001b[0m\u001b[1;33m)\u001b[0m\u001b[1;33m[\u001b[0m\u001b[1;33m:\u001b[0m\u001b[1;33m,\u001b[0m \u001b[1;36m0\u001b[0m\u001b[1;33m]\u001b[0m\u001b[1;33m\u001b[0m\u001b[1;33m\u001b[0m\u001b[0m\n\u001b[1;32m--> 566\u001b[1;33m         return _average_binary_score(\n\u001b[0m\u001b[0;32m    567\u001b[0m             \u001b[0mpartial\u001b[0m\u001b[1;33m(\u001b[0m\u001b[0m_binary_roc_auc_score\u001b[0m\u001b[1;33m,\u001b[0m \u001b[0mmax_fpr\u001b[0m\u001b[1;33m=\u001b[0m\u001b[0mmax_fpr\u001b[0m\u001b[1;33m)\u001b[0m\u001b[1;33m,\u001b[0m\u001b[1;33m\u001b[0m\u001b[1;33m\u001b[0m\u001b[0m\n\u001b[0;32m    568\u001b[0m             \u001b[0my_true\u001b[0m\u001b[1;33m,\u001b[0m\u001b[1;33m\u001b[0m\u001b[1;33m\u001b[0m\u001b[0m\n",
      "\u001b[1;32m~\\AppData\\Local\\Packages\\PythonSoftwareFoundation.Python.3.9_qbz5n2kfra8p0\\LocalCache\\local-packages\\Python39\\site-packages\\sklearn\\metrics\\_base.py\u001b[0m in \u001b[0;36m_average_binary_score\u001b[1;34m(binary_metric, y_true, y_score, average, sample_weight)\u001b[0m\n\u001b[0;32m     73\u001b[0m \u001b[1;33m\u001b[0m\u001b[0m\n\u001b[0;32m     74\u001b[0m     \u001b[1;32mif\u001b[0m \u001b[0my_type\u001b[0m \u001b[1;33m==\u001b[0m \u001b[1;34m\"binary\"\u001b[0m\u001b[1;33m:\u001b[0m\u001b[1;33m\u001b[0m\u001b[1;33m\u001b[0m\u001b[0m\n\u001b[1;32m---> 75\u001b[1;33m         \u001b[1;32mreturn\u001b[0m \u001b[0mbinary_metric\u001b[0m\u001b[1;33m(\u001b[0m\u001b[0my_true\u001b[0m\u001b[1;33m,\u001b[0m \u001b[0my_score\u001b[0m\u001b[1;33m,\u001b[0m \u001b[0msample_weight\u001b[0m\u001b[1;33m=\u001b[0m\u001b[0msample_weight\u001b[0m\u001b[1;33m)\u001b[0m\u001b[1;33m\u001b[0m\u001b[1;33m\u001b[0m\u001b[0m\n\u001b[0m\u001b[0;32m     76\u001b[0m \u001b[1;33m\u001b[0m\u001b[0m\n\u001b[0;32m     77\u001b[0m     \u001b[0mcheck_consistent_length\u001b[0m\u001b[1;33m(\u001b[0m\u001b[0my_true\u001b[0m\u001b[1;33m,\u001b[0m \u001b[0my_score\u001b[0m\u001b[1;33m,\u001b[0m \u001b[0msample_weight\u001b[0m\u001b[1;33m)\u001b[0m\u001b[1;33m\u001b[0m\u001b[1;33m\u001b[0m\u001b[0m\n",
      "\u001b[1;32m~\\AppData\\Local\\Packages\\PythonSoftwareFoundation.Python.3.9_qbz5n2kfra8p0\\LocalCache\\local-packages\\Python39\\site-packages\\sklearn\\metrics\\_ranking.py\u001b[0m in \u001b[0;36m_binary_roc_auc_score\u001b[1;34m(y_true, y_score, sample_weight, max_fpr)\u001b[0m\n\u001b[0;32m    335\u001b[0m     \u001b[1;34m\"\"\"Binary roc auc score.\"\"\"\u001b[0m\u001b[1;33m\u001b[0m\u001b[1;33m\u001b[0m\u001b[0m\n\u001b[0;32m    336\u001b[0m     \u001b[1;32mif\u001b[0m \u001b[0mlen\u001b[0m\u001b[1;33m(\u001b[0m\u001b[0mnp\u001b[0m\u001b[1;33m.\u001b[0m\u001b[0munique\u001b[0m\u001b[1;33m(\u001b[0m\u001b[0my_true\u001b[0m\u001b[1;33m)\u001b[0m\u001b[1;33m)\u001b[0m \u001b[1;33m!=\u001b[0m \u001b[1;36m2\u001b[0m\u001b[1;33m:\u001b[0m\u001b[1;33m\u001b[0m\u001b[1;33m\u001b[0m\u001b[0m\n\u001b[1;32m--> 337\u001b[1;33m         raise ValueError(\n\u001b[0m\u001b[0;32m    338\u001b[0m             \u001b[1;34m\"Only one class present in y_true. ROC AUC score \"\u001b[0m\u001b[1;33m\u001b[0m\u001b[1;33m\u001b[0m\u001b[0m\n\u001b[0;32m    339\u001b[0m             \u001b[1;34m\"is not defined in that case.\"\u001b[0m\u001b[1;33m\u001b[0m\u001b[1;33m\u001b[0m\u001b[0m\n",
      "\u001b[1;31mValueError\u001b[0m: Only one class present in y_true. ROC AUC score is not defined in that case."
     ]
    }
   ],
   "source": [
    "print(roc_auc_score(y_pred_svc,y_test))\n",
    "print(roc_auc_score(y_pred_best_svc,y_test))"
   ]
  },
  {
   "cell_type": "markdown",
   "id": "baa7f7eb",
   "metadata": {},
   "source": [
    "## K-Nearest Neighbors"
   ]
  },
  {
   "cell_type": "code",
   "execution_count": null,
   "id": "2c836db2",
   "metadata": {},
   "outputs": [],
   "source": [
    "knn = KNeighborsClassifier(n_neighbors =15)\n",
    "knn.fit(X_train,  y_train)\n",
    "y_pred = knn.predict(X_test)"
   ]
  },
  {
   "cell_type": "code",
   "execution_count": null,
   "id": "3dd03b59",
   "metadata": {},
   "outputs": [],
   "source": []
  },
  {
   "cell_type": "markdown",
   "id": "b12562ba",
   "metadata": {},
   "source": [
    "## Naive Bayes"
   ]
  },
  {
   "cell_type": "code",
   "execution_count": null,
   "id": "04c2e130",
   "metadata": {},
   "outputs": [],
   "source": [
    "nb = GaussianNB()\n",
    "nb.fit(X_train,y_train)\n",
    "y_pred = nb.predict(X_test)"
   ]
  },
  {
   "cell_type": "code",
   "execution_count": null,
   "id": "3c6efdaa",
   "metadata": {},
   "outputs": [],
   "source": []
  },
  {
   "cell_type": "markdown",
   "id": "32d17744",
   "metadata": {},
   "source": [
    "## Stochastic Gradient Descent"
   ]
  },
  {
   "cell_type": "code",
   "execution_count": null,
   "id": "2af6b162",
   "metadata": {},
   "outputs": [],
   "source": [
    "sgd = SGDCClassifier()\n",
    "sgd.fit(X_train,y_train)\n",
    "y_pred = sgd.predict(X_test)"
   ]
  },
  {
   "cell_type": "code",
   "execution_count": null,
   "id": "de9f1733",
   "metadata": {},
   "outputs": [],
   "source": []
  },
  {
   "cell_type": "markdown",
   "id": "f39a2470",
   "metadata": {},
   "source": [
    "## Plotting ROC and AUC"
   ]
  },
  {
   "cell_type": "code",
   "execution_count": 23,
   "id": "dda8c238",
   "metadata": {},
   "outputs": [
    {
     "name": "stdout",
     "output_type": "stream",
     "text": [
      "SVC AUC: 0.535\n"
     ]
    }
   ],
   "source": [
    "y_predict_svc = svc.decision_function(X_test)\n",
    "svc_fpr, svc_tpr, threshold = roc_curve(y_test, y_predict_svc)\n",
    "auc_svc = auc(svc_fpr, svc_tpr)\n",
    "print('SVC AUC: ' + str(round(auc_svc,3)))"
   ]
  },
  {
   "cell_type": "code",
   "execution_count": 24,
   "id": "0be9489b",
   "metadata": {},
   "outputs": [
    {
     "name": "stdout",
     "output_type": "stream",
     "text": [
      "Logistic Regression AUC: 0.586\n",
      "Gradient Boosting AUC: 0.596\n",
      "0.5861026062280636\n"
     ]
    }
   ],
   "source": [
    "## Getting the AUC for our different models: \n",
    "y_predict_log = best_lreg.decision_function(X_test)\n",
    "log_fpr, log_tpr, threshold = roc_curve(y_test,y_predict_log)\n",
    "auc_log = auc(log_fpr,log_tpr)\n",
    "print('Logistic Regression AUC: ' + str(round(auc_log,3)))\n",
    "\n",
    "#y_predict_rfc = rfc_best.decision_function(X_test)\n",
    "#rfc_fpr, rfc_tpr, threshold = roc_curve(y_test, y_predict_best_rfc)\n",
    "#auc_rfc = auc(rfc_fpr, rfc_tpr)\n",
    "#print(auc_rfc)\n",
    "\n",
    "y_predict_best_gb = gbc_best.decision_function(X_test)\n",
    "gb_fpr, gb_tpr, threshold = roc_curve(y_test, y_predict_best_gb)\n",
    "auc_gb = auc(gb_fpr, gb_tpr)\n",
    "print('Gradient Boosting AUC: ' + str(round(auc_gb,3)))\n",
    "\n",
    "\n",
    "y_pred_best_lreg = best_lreg.predict_proba(X_test)[:,1]\n",
    "log_fpr, log_tpr, threshold = roc_curve(y_test,y_pred_best_lreg)\n",
    "log_auc = auc(log_fpr, log_tpr)\n",
    "print(log_auc)"
   ]
  },
  {
   "cell_type": "code",
   "execution_count": 75,
   "id": "937b95e0",
   "metadata": {},
   "outputs": [
    {
     "data": {
      "image/png": "[encoded data removed]",
      "text/plain": [
       "<Figure size 1080x720 with 1 Axes>"
      ]
     },
     "metadata": {
      "needs_background": "light"
     },
     "output_type": "display_data"
    }
   ],
   "source": [
    "## We plot the ROC and AUC \n",
    "names = [\"Gradient Boosting\",\"Random Forest\",\"Logistic Regression\",\"Normal_RF\"]\n",
    "clfs = [gbc_best,rfc_best,best_lreg,rfc]\n",
    "\n",
    "## Parameters for the plotting \n",
    "linestyles =['-',':','--',':']\n",
    "colors = ['r','m','dodgerblue','g']\n",
    "\n",
    "plt.figure(figsize=(15,10))\n",
    "counter = 0\n",
    "for name,clf in zip(names,clfs):\n",
    "    clf.fit(X_train,y_train)\n",
    "    y_proba = clf.predict_proba(X_test)[:,1]\n",
    "    #print(\"Roc AUC:\"+name, roc_auc_score(y_test, clf.predict_proba(X_test)[:,1],average='macro')) ## Can uncomment\n",
    "    fpr, tpr, thresholds = roc_curve(y_test, y_proba)\n",
    "    plt.plot(fpr, tpr, label=name+ ' (auc: %0.3f)' %roc_auc_score(y_test, clf.predict_proba(X_test)[:,1],average='macro'),\n",
    "             linestyle=linestyles[counter], c=colors[counter])\n",
    "    counter += 1\n",
    "## Plot a straight line that goes throug\n",
    "lims = [np.min([0.0, 0.0]),  np.max([1.0, 1.0])]\n",
    "plt.plot(lims, lims, 'k-', alpha=0.75, zorder=0, c='g', linestyle ='--')\n",
    "\n",
    "plt.xlabel('False positive rate -->', fontsize = 15)\n",
    "plt.ylabel('True positive rate -->', fontsize = 15)\n",
    "plt.title('ROC curve for the different Classification Models', pad =15, fontsize = 25)\n",
    "plt.legend(loc='best')\n",
    "plt.savefig('roc_auc_classification.png')\n",
    "plt.show()  "
   ]
  },
  {
   "cell_type": "code",
   "execution_count": null,
   "id": "3d37e9fc",
   "metadata": {},
   "outputs": [],
   "source": []
  }
 ],
 "metadata": {
  "kernelspec": {
   "display_name": "Python 3 (ipykernel)",
   "language": "python",
   "name": "python3"
  },
  "language_info": {
   "codemirror_mode": {
    "name": "ipython",
    "version": 3
   },
   "file_extension": ".py",
   "mimetype": "text/x-python",
   "name": "python",
   "nbconvert_exporter": "python",
   "pygments_lexer": "ipython3",
   "version": "3.9.9"
  }
 },
 "nbformat": 4,
 "nbformat_minor": 5
}
