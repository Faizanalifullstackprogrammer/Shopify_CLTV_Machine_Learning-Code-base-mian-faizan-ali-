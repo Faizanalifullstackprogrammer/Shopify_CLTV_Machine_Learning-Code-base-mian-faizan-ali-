{
 "cells": [
  {
   "cell_type": "markdown",
   "id": "23ba0fd0",
   "metadata": {},
   "source": [
    "# How to predict CLTV for Shopify Stores with Machine Learning."
   ]
  },
  {
   "cell_type": "markdown",
   "id": "b227c7cd",
   "metadata": {},
   "source": [
    "### Table of Contents: \n",
    "\n",
    "<br> **I. INTRODUCTION \\& PRELIMINARY ANALYSIS**\n",
    "- 1. Project Purpose \n",
    "- 2. Loading \\& Previewing Data   \n",
    "- 3. Data Wrangling  \n",
    "- 4. Preliminary EDA \n",
    " \n",
    "**II. DATA WRANGLING**  \n",
    "- 1. Cleaning up data. \n",
    "- 2. Creating 3 separate dataframes.\n",
    "- 3. Creating the final 1 year CLTV Table.\n",
    "\n",
    "**III. EXPLORATORY DATA ANALYSIS**     \n",
    "- 1. Loading an Previewing the New Table  \n",
    "- 2. Exploring relationships of variables on Post First Week Spend \n",
    "\n",
    "<font color='blue'>**IV. PREPROCESSING AND MODELLING** </font> \n",
    "- 1. Linear Models\n",
    "- 2. Classification Models\n"
   ]
  },
  {
   "cell_type": "markdown",
   "id": "6384f601",
   "metadata": {},
   "source": [
    "### Part 3: PreProcessing and Modelling"
   ]
  },
  {
   "cell_type": "markdown",
   "id": "aaa66348",
   "metadata": {},
   "source": [
    "### Loading our Packages and DataFrame"
   ]
  },
  {
   "cell_type": "code",
   "execution_count": 1,
   "id": "6a7f23f4",
   "metadata": {},
   "outputs": [],
   "source": [
    "## We start by importing the appropriate packages which we will want to use. \n",
    "import warnings\n",
    "from io import StringIO  \n",
    "import pydotplus\n",
    "import graphviz\n",
    "from IPython.display import Image  \n",
    "\n",
    "import pandas as pd\n",
    "import numpy as np\n",
    "import matplotlib.pyplot as plt\n",
    "import seaborn as sns\n",
    "\n",
    "import statsmodels.api as sm\n",
    "from statsmodels.graphics.api import abline_plot \n",
    "\n",
    "from sklearn.preprocessing import StandardScaler\n",
    "from sklearn.linear_model import LogisticRegression, LinearRegression\n",
    "from sklearn.tree import DecisionTreeRegressor,DecisionTreeClassifier,plot_tree,export_graphviz\n",
    "from sklearn.ensemble import RandomForestClassifier,RandomForestRegressor\n",
    "from sklearn.model_selection import train_test_split, GridSearchCV, RandomizedSearchCV\n",
    "\n",
    "from sklearn.metrics import precision_recall_curve, roc_curve, auc, confusion_matrix, accuracy_score, precision_score\n",
    "from sklearn.metrics import mean_squared_error, r2_score, mean_absolute_error, f1_score, fbeta_score, classification_report\n",
    "from sklearn.metrics import plot_confusion_matrix , balanced_accuracy_score, recall_score\n",
    "\n",
    "%matplotlib inline\n",
    "pd.set_option('display.max_columns', None)\n",
    "warnings.filterwarnings('ignore')"
   ]
  },
  {
   "cell_type": "code",
   "execution_count": 2,
   "id": "c202604d",
   "metadata": {
    "scrolled": true
   },
   "outputs": [
    {
     "data": {
      "text/html": [
       "<div>\n",
       "<style scoped>\n",
       "    .dataframe tbody tr th:only-of-type {\n",
       "        vertical-align: middle;\n",
       "    }\n",
       "\n",
       "    .dataframe tbody tr th {\n",
       "        vertical-align: top;\n",
       "    }\n",
       "\n",
       "    .dataframe thead th {\n",
       "        text-align: right;\n",
       "    }\n",
       "</style>\n",
       "<table border=\"1\" class=\"dataframe\">\n",
       "  <thead>\n",
       "    <tr style=\"text-align: right;\">\n",
       "      <th></th>\n",
       "      <th>CustomerID</th>\n",
       "      <th>pfw_spent</th>\n",
       "      <th>fw_nb_orders</th>\n",
       "      <th>fw_nb_items</th>\n",
       "      <th>fw_total_spent</th>\n",
       "      <th>fw_used_coupon</th>\n",
       "      <th>first_order_month</th>\n",
       "      <th>fw_purchased_accessory</th>\n",
       "      <th>first_item_size</th>\n",
       "      <th>accepts_marketing</th>\n",
       "      <th>wealthy_zip</th>\n",
       "      <th>region</th>\n",
       "      <th>first_item_price_range</th>\n",
       "    </tr>\n",
       "  </thead>\n",
       "  <tbody>\n",
       "    <tr>\n",
       "      <th>0</th>\n",
       "      <td>Anonymous13455</td>\n",
       "      <td>1257.80</td>\n",
       "      <td>1</td>\n",
       "      <td>1</td>\n",
       "      <td>50.0</td>\n",
       "      <td>0</td>\n",
       "      <td>6</td>\n",
       "      <td>0</td>\n",
       "      <td>M</td>\n",
       "      <td>0</td>\n",
       "      <td>0</td>\n",
       "      <td>MW</td>\n",
       "      <td>high</td>\n",
       "    </tr>\n",
       "    <tr>\n",
       "      <th>1</th>\n",
       "      <td>Anonymous2142</td>\n",
       "      <td>436.15</td>\n",
       "      <td>1</td>\n",
       "      <td>1</td>\n",
       "      <td>48.0</td>\n",
       "      <td>0</td>\n",
       "      <td>5</td>\n",
       "      <td>0</td>\n",
       "      <td>L</td>\n",
       "      <td>0</td>\n",
       "      <td>0</td>\n",
       "      <td>NE</td>\n",
       "      <td>high</td>\n",
       "    </tr>\n",
       "    <tr>\n",
       "      <th>2</th>\n",
       "      <td>Anonymous4843</td>\n",
       "      <td>1052.75</td>\n",
       "      <td>2</td>\n",
       "      <td>2</td>\n",
       "      <td>96.0</td>\n",
       "      <td>0</td>\n",
       "      <td>10</td>\n",
       "      <td>0</td>\n",
       "      <td>S</td>\n",
       "      <td>1</td>\n",
       "      <td>0</td>\n",
       "      <td>W</td>\n",
       "      <td>high</td>\n",
       "    </tr>\n",
       "    <tr>\n",
       "      <th>3</th>\n",
       "      <td>Anonymous11225</td>\n",
       "      <td>728.10</td>\n",
       "      <td>1</td>\n",
       "      <td>1</td>\n",
       "      <td>16.0</td>\n",
       "      <td>0</td>\n",
       "      <td>1</td>\n",
       "      <td>1</td>\n",
       "      <td>No size</td>\n",
       "      <td>0</td>\n",
       "      <td>0</td>\n",
       "      <td>MW</td>\n",
       "      <td>low</td>\n",
       "    </tr>\n",
       "    <tr>\n",
       "      <th>4</th>\n",
       "      <td>Anonymous540</td>\n",
       "      <td>1114.75</td>\n",
       "      <td>1</td>\n",
       "      <td>1</td>\n",
       "      <td>50.0</td>\n",
       "      <td>0</td>\n",
       "      <td>1</td>\n",
       "      <td>0</td>\n",
       "      <td>XS</td>\n",
       "      <td>0</td>\n",
       "      <td>0</td>\n",
       "      <td>W</td>\n",
       "      <td>high</td>\n",
       "    </tr>\n",
       "  </tbody>\n",
       "</table>\n",
       "</div>"
      ],
      "text/plain": [
       "       CustomerID  pfw_spent  fw_nb_orders  fw_nb_items  fw_total_spent  \\\n",
       "0  Anonymous13455    1257.80             1            1            50.0   \n",
       "1   Anonymous2142     436.15             1            1            48.0   \n",
       "2   Anonymous4843    1052.75             2            2            96.0   \n",
       "3  Anonymous11225     728.10             1            1            16.0   \n",
       "4    Anonymous540    1114.75             1            1            50.0   \n",
       "\n",
       "   fw_used_coupon  first_order_month  fw_purchased_accessory first_item_size  \\\n",
       "0               0                  6                       0               M   \n",
       "1               0                  5                       0               L   \n",
       "2               0                 10                       0               S   \n",
       "3               0                  1                       1         No size   \n",
       "4               0                  1                       0              XS   \n",
       "\n",
       "   accepts_marketing  wealthy_zip region first_item_price_range  \n",
       "0                  0            0     MW                   high  \n",
       "1                  0            0     NE                   high  \n",
       "2                  1            0      W                   high  \n",
       "3                  0            0     MW                    low  \n",
       "4                  0            0      W                   high  "
      ]
     },
     "execution_count": 2,
     "metadata": {},
     "output_type": "execute_result"
    }
   ],
   "source": [
    "## We Load and preview our customer_cltv dataframe from the previouse chapter \n",
    "customer_cltv = pd.read_csv('.\\..\\cleaned_data.csv',index_col=0)\n",
    "customer_cltv.head()"
   ]
  },
  {
   "cell_type": "markdown",
   "id": "435d1ad2",
   "metadata": {},
   "source": [
    "## Preprocessing: "
   ]
  },
  {
   "cell_type": "code",
   "execution_count": 3,
   "id": "e0a20e7b",
   "metadata": {},
   "outputs": [],
   "source": [
    "## Drop some error rows (no spending on the first week)\n",
    "customer_cltv_drop = customer_cltv[customer_cltv.loc[:,'fw_total_spent'] > 0] \n",
    "\n",
    "## Drop all non-repeat customers\n",
    "#customer_cltv_drop = customer_cltv_drop[customer_cltv.loc[:,'pfw_spent'] > 0]"
   ]
  },
  {
   "cell_type": "markdown",
   "id": "b65fc573",
   "metadata": {},
   "source": [
    "<br> **Drop vriables that we found to be heavily correlated with other or irrelevant through the previous step of EDA**\n",
    "- fw_nb_items is highly correlated with fw_total_spent (c=0.94)\n",
    "- fw_nb_orders is very unbalanced (~ 95% customers only made 1 order the first week)\n",
    "- region was found to be insignificant based on several steps of statistical analysis\n",
    "- fw_purchased_accessory is logically redundant with first_item_size\n"
   ]
  },
  {
   "cell_type": "code",
   "execution_count": 4,
   "id": "32167cc4",
   "metadata": {},
   "outputs": [],
   "source": [
    "customer_cltv_drop.drop(columns=['fw_nb_items', 'region', 'fw_nb_orders', 'fw_purchased_accessory'], inplace = True)"
   ]
  },
  {
   "cell_type": "markdown",
   "id": "7b2f21c5",
   "metadata": {},
   "source": [
    "<br> **Modify variables based on findings from EDA**\n",
    "- first_order_month can be modified to be 2 categories: February-June vs rest of the year"
   ]
  },
  {
   "cell_type": "code",
   "execution_count": 5,
   "id": "6f8983ab",
   "metadata": {},
   "outputs": [],
   "source": [
    "customer_cltv_drop['first_order_feb_june'] = customer_cltv_drop['first_order_month'].apply(lambda x: x in [2, 3, 4, 5, 6])\n",
    "customer_cltv_drop.drop(columns=['first_order_month'], inplace = True)"
   ]
  },
  {
   "cell_type": "markdown",
   "id": "95e7e35c",
   "metadata": {},
   "source": [
    "#### We create dummy variables for our categorical variables."
   ]
  },
  {
   "cell_type": "code",
   "execution_count": 6,
   "id": "5d34d559",
   "metadata": {},
   "outputs": [
    {
     "data": {
      "text/html": [
       "<div>\n",
       "<style scoped>\n",
       "    .dataframe tbody tr th:only-of-type {\n",
       "        vertical-align: middle;\n",
       "    }\n",
       "\n",
       "    .dataframe tbody tr th {\n",
       "        vertical-align: top;\n",
       "    }\n",
       "\n",
       "    .dataframe thead th {\n",
       "        text-align: right;\n",
       "    }\n",
       "</style>\n",
       "<table border=\"1\" class=\"dataframe\">\n",
       "  <thead>\n",
       "    <tr style=\"text-align: right;\">\n",
       "      <th></th>\n",
       "      <th>CustomerID</th>\n",
       "      <th>pfw_spent</th>\n",
       "      <th>fw_total_spent</th>\n",
       "      <th>fw_used_coupon</th>\n",
       "      <th>accepts_marketing</th>\n",
       "      <th>wealthy_zip</th>\n",
       "      <th>first_order_feb_june</th>\n",
       "      <th>first_item_size_M</th>\n",
       "      <th>first_item_size_No size</th>\n",
       "      <th>first_item_size_S</th>\n",
       "      <th>first_item_size_XL</th>\n",
       "      <th>first_item_size_XS</th>\n",
       "      <th>first_item_price_range_low</th>\n",
       "      <th>first_item_price_range_medium</th>\n",
       "    </tr>\n",
       "  </thead>\n",
       "  <tbody>\n",
       "    <tr>\n",
       "      <th>0</th>\n",
       "      <td>Anonymous13455</td>\n",
       "      <td>1257.80</td>\n",
       "      <td>50.0</td>\n",
       "      <td>0</td>\n",
       "      <td>0</td>\n",
       "      <td>0</td>\n",
       "      <td>True</td>\n",
       "      <td>1</td>\n",
       "      <td>0</td>\n",
       "      <td>0</td>\n",
       "      <td>0</td>\n",
       "      <td>0</td>\n",
       "      <td>0</td>\n",
       "      <td>0</td>\n",
       "    </tr>\n",
       "    <tr>\n",
       "      <th>1</th>\n",
       "      <td>Anonymous2142</td>\n",
       "      <td>436.15</td>\n",
       "      <td>48.0</td>\n",
       "      <td>0</td>\n",
       "      <td>0</td>\n",
       "      <td>0</td>\n",
       "      <td>True</td>\n",
       "      <td>0</td>\n",
       "      <td>0</td>\n",
       "      <td>0</td>\n",
       "      <td>0</td>\n",
       "      <td>0</td>\n",
       "      <td>0</td>\n",
       "      <td>0</td>\n",
       "    </tr>\n",
       "    <tr>\n",
       "      <th>2</th>\n",
       "      <td>Anonymous4843</td>\n",
       "      <td>1052.75</td>\n",
       "      <td>96.0</td>\n",
       "      <td>0</td>\n",
       "      <td>1</td>\n",
       "      <td>0</td>\n",
       "      <td>False</td>\n",
       "      <td>0</td>\n",
       "      <td>0</td>\n",
       "      <td>1</td>\n",
       "      <td>0</td>\n",
       "      <td>0</td>\n",
       "      <td>0</td>\n",
       "      <td>0</td>\n",
       "    </tr>\n",
       "    <tr>\n",
       "      <th>3</th>\n",
       "      <td>Anonymous11225</td>\n",
       "      <td>728.10</td>\n",
       "      <td>16.0</td>\n",
       "      <td>0</td>\n",
       "      <td>0</td>\n",
       "      <td>0</td>\n",
       "      <td>False</td>\n",
       "      <td>0</td>\n",
       "      <td>1</td>\n",
       "      <td>0</td>\n",
       "      <td>0</td>\n",
       "      <td>0</td>\n",
       "      <td>1</td>\n",
       "      <td>0</td>\n",
       "    </tr>\n",
       "    <tr>\n",
       "      <th>4</th>\n",
       "      <td>Anonymous540</td>\n",
       "      <td>1114.75</td>\n",
       "      <td>50.0</td>\n",
       "      <td>0</td>\n",
       "      <td>0</td>\n",
       "      <td>0</td>\n",
       "      <td>False</td>\n",
       "      <td>0</td>\n",
       "      <td>0</td>\n",
       "      <td>0</td>\n",
       "      <td>0</td>\n",
       "      <td>1</td>\n",
       "      <td>0</td>\n",
       "      <td>0</td>\n",
       "    </tr>\n",
       "  </tbody>\n",
       "</table>\n",
       "</div>"
      ],
      "text/plain": [
       "       CustomerID  pfw_spent  fw_total_spent  fw_used_coupon  \\\n",
       "0  Anonymous13455    1257.80            50.0               0   \n",
       "1   Anonymous2142     436.15            48.0               0   \n",
       "2   Anonymous4843    1052.75            96.0               0   \n",
       "3  Anonymous11225     728.10            16.0               0   \n",
       "4    Anonymous540    1114.75            50.0               0   \n",
       "\n",
       "   accepts_marketing  wealthy_zip  first_order_feb_june  first_item_size_M  \\\n",
       "0                  0            0                  True                  1   \n",
       "1                  0            0                  True                  0   \n",
       "2                  1            0                 False                  0   \n",
       "3                  0            0                 False                  0   \n",
       "4                  0            0                 False                  0   \n",
       "\n",
       "   first_item_size_No size  first_item_size_S  first_item_size_XL  \\\n",
       "0                        0                  0                   0   \n",
       "1                        0                  0                   0   \n",
       "2                        0                  1                   0   \n",
       "3                        1                  0                   0   \n",
       "4                        0                  0                   0   \n",
       "\n",
       "   first_item_size_XS  first_item_price_range_low  \\\n",
       "0                   0                           0   \n",
       "1                   0                           0   \n",
       "2                   0                           0   \n",
       "3                   0                           1   \n",
       "4                   1                           0   \n",
       "\n",
       "   first_item_price_range_medium  \n",
       "0                              0  \n",
       "1                              0  \n",
       "2                              0  \n",
       "3                              0  \n",
       "4                              0  "
      ]
     },
     "execution_count": 6,
     "metadata": {},
     "output_type": "execute_result"
    }
   ],
   "source": [
    "categorical_cols = ['first_item_size','first_item_price_range']\n",
    "dummies_encoded = pd.get_dummies(customer_cltv_drop[categorical_cols].astype(str),drop_first=True)\n",
    "customer_cltv_encoded = pd.concat([customer_cltv_drop,dummies_encoded], axis =1)\n",
    "customer_cltv_encoded.drop(columns=['first_item_size','first_item_price_range'],\n",
    "                   inplace = True)\n",
    "\n",
    "## We preview our table\n",
    "customer_cltv_encoded.head(5)"
   ]
  },
  {
   "cell_type": "code",
   "execution_count": 7,
   "id": "7a849434",
   "metadata": {},
   "outputs": [
    {
     "name": "stdout",
     "output_type": "stream",
     "text": [
      "(10590, 12) (10590,)\n"
     ]
    }
   ],
   "source": [
    "## We get our feature variables and target variables\n",
    "X = customer_cltv_encoded.drop(columns=['CustomerID','pfw_spent'])\n",
    "y = customer_cltv_encoded['pfw_spent']\n",
    "print(X.shape, y.shape)"
   ]
  },
  {
   "cell_type": "code",
   "execution_count": 8,
   "id": "64a03fd9",
   "metadata": {},
   "outputs": [
    {
     "data": {
      "text/html": [
       "<div>\n",
       "<style scoped>\n",
       "    .dataframe tbody tr th:only-of-type {\n",
       "        vertical-align: middle;\n",
       "    }\n",
       "\n",
       "    .dataframe tbody tr th {\n",
       "        vertical-align: top;\n",
       "    }\n",
       "\n",
       "    .dataframe thead th {\n",
       "        text-align: right;\n",
       "    }\n",
       "</style>\n",
       "<table border=\"1\" class=\"dataframe\">\n",
       "  <thead>\n",
       "    <tr style=\"text-align: right;\">\n",
       "      <th></th>\n",
       "      <th>fw_total_spent</th>\n",
       "      <th>fw_used_coupon</th>\n",
       "      <th>accepts_marketing</th>\n",
       "      <th>wealthy_zip</th>\n",
       "      <th>first_order_feb_june</th>\n",
       "      <th>first_item_size_M</th>\n",
       "      <th>first_item_size_No size</th>\n",
       "      <th>first_item_size_S</th>\n",
       "      <th>first_item_size_XL</th>\n",
       "      <th>first_item_size_XS</th>\n",
       "      <th>first_item_price_range_low</th>\n",
       "      <th>first_item_price_range_medium</th>\n",
       "    </tr>\n",
       "  </thead>\n",
       "  <tbody>\n",
       "    <tr>\n",
       "      <th>0</th>\n",
       "      <td>-0.347324</td>\n",
       "      <td>0</td>\n",
       "      <td>0</td>\n",
       "      <td>0</td>\n",
       "      <td>True</td>\n",
       "      <td>1</td>\n",
       "      <td>0</td>\n",
       "      <td>0</td>\n",
       "      <td>0</td>\n",
       "      <td>0</td>\n",
       "      <td>0</td>\n",
       "      <td>0</td>\n",
       "    </tr>\n",
       "    <tr>\n",
       "      <th>1</th>\n",
       "      <td>-0.389530</td>\n",
       "      <td>0</td>\n",
       "      <td>0</td>\n",
       "      <td>0</td>\n",
       "      <td>True</td>\n",
       "      <td>0</td>\n",
       "      <td>0</td>\n",
       "      <td>0</td>\n",
       "      <td>0</td>\n",
       "      <td>0</td>\n",
       "      <td>0</td>\n",
       "      <td>0</td>\n",
       "    </tr>\n",
       "    <tr>\n",
       "      <th>2</th>\n",
       "      <td>0.623424</td>\n",
       "      <td>0</td>\n",
       "      <td>1</td>\n",
       "      <td>0</td>\n",
       "      <td>False</td>\n",
       "      <td>0</td>\n",
       "      <td>0</td>\n",
       "      <td>1</td>\n",
       "      <td>0</td>\n",
       "      <td>0</td>\n",
       "      <td>0</td>\n",
       "      <td>0</td>\n",
       "    </tr>\n",
       "    <tr>\n",
       "      <th>3</th>\n",
       "      <td>-1.064833</td>\n",
       "      <td>0</td>\n",
       "      <td>0</td>\n",
       "      <td>0</td>\n",
       "      <td>False</td>\n",
       "      <td>0</td>\n",
       "      <td>1</td>\n",
       "      <td>0</td>\n",
       "      <td>0</td>\n",
       "      <td>0</td>\n",
       "      <td>1</td>\n",
       "      <td>0</td>\n",
       "    </tr>\n",
       "    <tr>\n",
       "      <th>4</th>\n",
       "      <td>-0.347324</td>\n",
       "      <td>0</td>\n",
       "      <td>0</td>\n",
       "      <td>0</td>\n",
       "      <td>False</td>\n",
       "      <td>0</td>\n",
       "      <td>0</td>\n",
       "      <td>0</td>\n",
       "      <td>0</td>\n",
       "      <td>1</td>\n",
       "      <td>0</td>\n",
       "      <td>0</td>\n",
       "    </tr>\n",
       "  </tbody>\n",
       "</table>\n",
       "</div>"
      ],
      "text/plain": [
       "   fw_total_spent  fw_used_coupon  accepts_marketing  wealthy_zip  \\\n",
       "0       -0.347324               0                  0            0   \n",
       "1       -0.389530               0                  0            0   \n",
       "2        0.623424               0                  1            0   \n",
       "3       -1.064833               0                  0            0   \n",
       "4       -0.347324               0                  0            0   \n",
       "\n",
       "   first_order_feb_june  first_item_size_M  first_item_size_No size  \\\n",
       "0                  True                  1                        0   \n",
       "1                  True                  0                        0   \n",
       "2                 False                  0                        0   \n",
       "3                 False                  0                        1   \n",
       "4                 False                  0                        0   \n",
       "\n",
       "   first_item_size_S  first_item_size_XL  first_item_size_XS  \\\n",
       "0                  0                   0                   0   \n",
       "1                  0                   0                   0   \n",
       "2                  1                   0                   0   \n",
       "3                  0                   0                   0   \n",
       "4                  0                   0                   1   \n",
       "\n",
       "   first_item_price_range_low  first_item_price_range_medium  \n",
       "0                           0                              0  \n",
       "1                           0                              0  \n",
       "2                           0                              0  \n",
       "3                           1                              0  \n",
       "4                           0                              0  "
      ]
     },
     "execution_count": 8,
     "metadata": {},
     "output_type": "execute_result"
    }
   ],
   "source": [
    "## We use a scaler to scale the feature variables which are not categorical: \n",
    "cols_to_scale = ['fw_total_spent']\n",
    "scaler = StandardScaler().fit(X[cols_to_scale])\n",
    "X_scaled = scaler.transform(X[cols_to_scale])\n",
    "for ind, col in enumerate(cols_to_scale):\n",
    "    X[col] = X_scaled[:,ind]\n",
    "X.head()"
   ]
  },
  {
   "cell_type": "code",
   "execution_count": 9,
   "id": "15a4612b",
   "metadata": {},
   "outputs": [
    {
     "name": "stdout",
     "output_type": "stream",
     "text": [
      "(7942, 12) (2648, 12) (7942,) (2648,)\n"
     ]
    }
   ],
   "source": [
    "## We split our data into training and test sets\n",
    "X_train, X_test, y_train, y_test = train_test_split(X, y, test_size=0.25, random_state=42)\n",
    "print(X_train.shape, X_test.shape, y_train.shape, y_test.shape)"
   ]
  },
  {
   "cell_type": "markdown",
   "id": "41a69bb8",
   "metadata": {},
   "source": [
    "## I. Linear Models: \n",
    "- Ordinary Linear Regression\n",
    "- Lasso, Ridge Regression - tried but don't bring benefits compared to OLS, because we find reasonable coefficient values without applying penalization.\n",
    "- Elastic Net - not tried, though we would expect the same as above.\n",
    "\n",
    "- Decision Trees\n",
    "- Random Forest\n",
    "- GBM\n",
    "- Light GBM\n",
    "- XGboost\n",
    "- Adaboost\n",
    "- Neural Networks"
   ]
  },
  {
   "cell_type": "markdown",
   "id": "5bbfaebd",
   "metadata": {},
   "source": [
    "## Multiple Linear Regression"
   ]
  },
  {
   "cell_type": "code",
   "execution_count": 30,
   "id": "6688fffc",
   "metadata": {},
   "outputs": [
    {
     "data": {
      "text/plain": [
       "LinearRegression(normalize=False)"
      ]
     },
     "execution_count": 30,
     "metadata": {},
     "output_type": "execute_result"
    }
   ],
   "source": [
    "## We instantiate the linear Regression model and fit to the training data. \n",
    "rModel = LinearRegression(normalize = False)\n",
    "rModel.fit(X_train, y_train)"
   ]
  },
  {
   "cell_type": "code",
   "execution_count": 31,
   "id": "80fe0a69",
   "metadata": {},
   "outputs": [
    {
     "name": "stdout",
     "output_type": "stream",
     "text": [
      "R-squared on training data:  0.026253154333128248\n",
      "R-squared on test data:  0.019620256235132083\n",
      "\n",
      "\n",
      "Model coefficients:  [ 0.0008582   0.00698465  0.04742701 -0.01149203  0.07292246 -0.03862592\n",
      " -0.10886154 -0.05469822 -0.02919992 -0.06972576 -0.01161603 -0.03568737]\n",
      "Model intercept:  0.23987144692860202\n",
      "Coef matrix rank:  12\n",
      "Coef matrix singular values:  [4252.28592776   51.05699882   46.45822012   44.48837957   39.07057882\n",
      "   34.45398224   32.24005667   31.74404251   31.06744145   24.55740899\n",
      "   20.0937176    12.98823535]\n"
     ]
    }
   ],
   "source": [
    "## We check R squared. \n",
    "print(\"R-squared on training data: \", rModel.score(X_train,y_train))\n",
    "print(\"R-squared on test data: \", rModel.score(X_test,y_test))\n",
    "print(\"\\n\")\n",
    "print(\"Model coefficients: \", rModel.coef_)\n",
    "print(\"Model intercept: \", rModel.intercept_)\n",
    "print(\"Coef matrix rank: \", rModel.rank_)\n",
    "print(\"Coef matrix singular values: \", rModel.singular_)"
   ]
  },
  {
   "cell_type": "code",
   "execution_count": 12,
   "id": "c9173873",
   "metadata": {
    "scrolled": true
   },
   "outputs": [
    {
     "data": {
      "image/png": "[encoded data removed]",
      "text/plain": [
       "<Figure size 432x288 with 1 Axes>"
      ]
     },
     "metadata": {
      "needs_background": "light"
     },
     "output_type": "display_data"
    }
   ],
   "source": [
    "## We visualize the actual values vs the predicted values. \n",
    "y_pred = rModel.predict(X_test)\n",
    "plt.scatter(y_test, y_pred)\n",
    "plt.xlabel('Actual values')\n",
    "plt.ylabel('Predicted values')\n",
    "plt.plot([x for x in range(0,300)],[x for x in range(0,300)], color='r')\n",
    "plt.xlim(0,300)\n",
    "plt.show()"
   ]
  },
  {
   "cell_type": "markdown",
   "id": "85b7029d",
   "metadata": {},
   "source": [
    "## Random Forest Regressor"
   ]
  },
  {
   "cell_type": "code",
   "execution_count": 14,
   "id": "865a12af",
   "metadata": {},
   "outputs": [
    {
     "name": "stdout",
     "output_type": "stream",
     "text": [
      "R squared for random forest regressor, on training data:  0.13771100356279897\n",
      "R squared for random forest regressor, on test data:  0.027094105966355087\n"
     ]
    }
   ],
   "source": [
    "## We instantiate a Random Forest Regressor and fit it to the training and testing data. We make predictions for y.\n",
    "rfg = RandomForestRegressor(n_estimators=100, max_depth=6)\n",
    "rfg.fit(X_train,y_train)\n",
    "y_pred = rfg.predict(X_test)\n",
    "print(\"R squared for random forest regressor, on training data: \", rfg.score(X_train, y_train))\n",
    "print(\"R squared for random forest regressor, on test data: \", rfg.score(X_test, y_test))"
   ]
  },
  {
   "cell_type": "code",
   "execution_count": 15,
   "id": "43553c86",
   "metadata": {},
   "outputs": [
    {
     "data": {
      "image/png": "[encoded data removed]",
      "text/plain": [
       "<Figure size 432x288 with 1 Axes>"
      ]
     },
     "metadata": {
      "needs_background": "light"
     },
     "output_type": "display_data"
    }
   ],
   "source": [
    "## We visualize the predictions. \n",
    "plt.scatter(y_test, y_pred)\n",
    "plt.xlabel('Actual values')\n",
    "plt.ylabel('Predicted values')\n",
    "plt.plot([x for x in range(0,300)],[x for x in range(0,300)], color='r')\n",
    "plt.xlim(0,300)\n",
    "plt.show()"
   ]
  },
  {
   "cell_type": "markdown",
   "id": "8d7f3bfc",
   "metadata": {},
   "source": [
    "## 2. Classification Models\n",
    "- In the previous models, our target feature was **continuous**. We will be treating pwf as a **discrete**.\n",
    "- We will create a new target column."
   ]
  },
  {
   "cell_type": "code",
   "execution_count": 40,
   "id": "9f7f6f6a",
   "metadata": {},
   "outputs": [
    {
     "name": "stdout",
     "output_type": "stream",
     "text": [
      "Distribution of PFW repeat: \n",
      "0    7714\n",
      "1    2876\n",
      "Name: pfw_return, dtype: int64\n",
      "\n",
      "\n",
      "Proportion of Post First Week Repeat Customers: 0.27\n"
     ]
    },
    {
     "data": {
      "text/html": [
       "<div>\n",
       "<style scoped>\n",
       "    .dataframe tbody tr th:only-of-type {\n",
       "        vertical-align: middle;\n",
       "    }\n",
       "\n",
       "    .dataframe tbody tr th {\n",
       "        vertical-align: top;\n",
       "    }\n",
       "\n",
       "    .dataframe thead th {\n",
       "        text-align: right;\n",
       "    }\n",
       "</style>\n",
       "<table border=\"1\" class=\"dataframe\">\n",
       "  <thead>\n",
       "    <tr style=\"text-align: right;\">\n",
       "      <th></th>\n",
       "      <th>CustomerID</th>\n",
       "      <th>fw_total_spent</th>\n",
       "      <th>fw_used_coupon</th>\n",
       "      <th>accepts_marketing</th>\n",
       "      <th>wealthy_zip</th>\n",
       "      <th>first_order_feb_june</th>\n",
       "      <th>pfw_return</th>\n",
       "      <th>first_item_size_M</th>\n",
       "      <th>first_item_size_No size</th>\n",
       "      <th>first_item_size_S</th>\n",
       "      <th>first_item_size_XL</th>\n",
       "      <th>first_item_size_XS</th>\n",
       "      <th>first_item_price_range_low</th>\n",
       "      <th>first_item_price_range_medium</th>\n",
       "    </tr>\n",
       "  </thead>\n",
       "  <tbody>\n",
       "    <tr>\n",
       "      <th>0</th>\n",
       "      <td>Anonymous13455</td>\n",
       "      <td>50.0</td>\n",
       "      <td>0</td>\n",
       "      <td>0</td>\n",
       "      <td>0</td>\n",
       "      <td>True</td>\n",
       "      <td>1</td>\n",
       "      <td>1</td>\n",
       "      <td>0</td>\n",
       "      <td>0</td>\n",
       "      <td>0</td>\n",
       "      <td>0</td>\n",
       "      <td>0</td>\n",
       "      <td>0</td>\n",
       "    </tr>\n",
       "    <tr>\n",
       "      <th>1</th>\n",
       "      <td>Anonymous2142</td>\n",
       "      <td>48.0</td>\n",
       "      <td>0</td>\n",
       "      <td>0</td>\n",
       "      <td>0</td>\n",
       "      <td>True</td>\n",
       "      <td>1</td>\n",
       "      <td>0</td>\n",
       "      <td>0</td>\n",
       "      <td>0</td>\n",
       "      <td>0</td>\n",
       "      <td>0</td>\n",
       "      <td>0</td>\n",
       "      <td>0</td>\n",
       "    </tr>\n",
       "    <tr>\n",
       "      <th>2</th>\n",
       "      <td>Anonymous4843</td>\n",
       "      <td>96.0</td>\n",
       "      <td>0</td>\n",
       "      <td>1</td>\n",
       "      <td>0</td>\n",
       "      <td>False</td>\n",
       "      <td>1</td>\n",
       "      <td>0</td>\n",
       "      <td>0</td>\n",
       "      <td>1</td>\n",
       "      <td>0</td>\n",
       "      <td>0</td>\n",
       "      <td>0</td>\n",
       "      <td>0</td>\n",
       "    </tr>\n",
       "    <tr>\n",
       "      <th>3</th>\n",
       "      <td>Anonymous11225</td>\n",
       "      <td>16.0</td>\n",
       "      <td>0</td>\n",
       "      <td>0</td>\n",
       "      <td>0</td>\n",
       "      <td>False</td>\n",
       "      <td>1</td>\n",
       "      <td>0</td>\n",
       "      <td>1</td>\n",
       "      <td>0</td>\n",
       "      <td>0</td>\n",
       "      <td>0</td>\n",
       "      <td>1</td>\n",
       "      <td>0</td>\n",
       "    </tr>\n",
       "    <tr>\n",
       "      <th>4</th>\n",
       "      <td>Anonymous540</td>\n",
       "      <td>50.0</td>\n",
       "      <td>0</td>\n",
       "      <td>0</td>\n",
       "      <td>0</td>\n",
       "      <td>False</td>\n",
       "      <td>1</td>\n",
       "      <td>0</td>\n",
       "      <td>0</td>\n",
       "      <td>0</td>\n",
       "      <td>0</td>\n",
       "      <td>1</td>\n",
       "      <td>0</td>\n",
       "      <td>0</td>\n",
       "    </tr>\n",
       "  </tbody>\n",
       "</table>\n",
       "</div>"
      ],
      "text/plain": [
       "       CustomerID  fw_total_spent  fw_used_coupon  accepts_marketing  \\\n",
       "0  Anonymous13455            50.0               0                  0   \n",
       "1   Anonymous2142            48.0               0                  0   \n",
       "2   Anonymous4843            96.0               0                  1   \n",
       "3  Anonymous11225            16.0               0                  0   \n",
       "4    Anonymous540            50.0               0                  0   \n",
       "\n",
       "   wealthy_zip  first_order_feb_june  pfw_return  first_item_size_M  \\\n",
       "0            0                  True           1                  1   \n",
       "1            0                  True           1                  0   \n",
       "2            0                 False           1                  0   \n",
       "3            0                 False           1                  0   \n",
       "4            0                 False           1                  0   \n",
       "\n",
       "   first_item_size_No size  first_item_size_S  first_item_size_XL  \\\n",
       "0                        0                  0                   0   \n",
       "1                        0                  0                   0   \n",
       "2                        0                  1                   0   \n",
       "3                        1                  0                   0   \n",
       "4                        0                  0                   0   \n",
       "\n",
       "   first_item_size_XS  first_item_price_range_low  \\\n",
       "0                   0                           0   \n",
       "1                   0                           0   \n",
       "2                   0                           0   \n",
       "3                   0                           1   \n",
       "4                   1                           0   \n",
       "\n",
       "   first_item_price_range_medium  \n",
       "0                              0  \n",
       "1                              0  \n",
       "2                              0  \n",
       "3                              0  \n",
       "4                              0  "
      ]
     },
     "execution_count": 40,
     "metadata": {},
     "output_type": "execute_result"
    }
   ],
   "source": [
    "## We create a new table and add a new target variable: pfw_return\n",
    "customer_cltv_cls = customer_cltv_drop\n",
    "customer_cltv_cls['pfw_return'] = np.where(customer_cltv_cls['pfw_spent'] > 0,1,0)\n",
    "\n",
    "## We recreate the dummy variables and drop the original columns\n",
    "categorical_cols = ['first_item_size','first_item_price_range']\n",
    "dummies_encoded = pd.get_dummies(customer_cltv_cls[categorical_cols].astype(str),drop_first=True)\n",
    "customer_cltv_encoded = pd.concat([customer_cltv_cls,dummies_encoded], axis =1)\n",
    "customer_cltv_encoded.drop(columns=['first_item_size','first_item_price_range','pfw_spent'],inplace = True)\n",
    "\n",
    "## We preview the amount of post first week customers and the first few rows of our new dataframe.\n",
    "print('Distribution of PFW repeat: ')\n",
    "print(customer_cltv_encoded.pfw_return.value_counts())\n",
    "print(\"\\n\")\n",
    "print('Proportion of Post First Week Repeat Customers: ' + str(round(customer_cltv_drop[customer_cltv_drop['pfw_spent'] > 0]['pfw_spent'].count() \n",
    "                                                               / customer_cltv_drop['pfw_spent'].count(),2)))\n",
    "customer_cltv_encoded.head()"
   ]
  },
  {
   "cell_type": "code",
   "execution_count": 41,
   "id": "d03d8503",
   "metadata": {},
   "outputs": [
    {
     "name": "stdout",
     "output_type": "stream",
     "text": [
      "(10590, 12) (10590,)\n"
     ]
    }
   ],
   "source": [
    "## We recreate our target and feature variables which we will feed into different models and print their shape.\n",
    "X = customer_cltv_encoded.drop(columns=['CustomerID','pfw_return'])\n",
    "y = customer_cltv_encoded['pfw_return']\n",
    "print(X.shape,y.shape)"
   ]
  },
  {
   "cell_type": "code",
   "execution_count": 42,
   "id": "e515be62",
   "metadata": {},
   "outputs": [
    {
     "name": "stdout",
     "output_type": "stream",
     "text": [
      "(7942, 12) (2648, 12) (7942,) (2648,)\n"
     ]
    }
   ],
   "source": [
    "## We split the data in training and testing sets.\n",
    "X_train, X_test , y_train, y_test = train_test_split(X,y, test_size =0.25, random_state =1234)\n",
    "print(X_train.shape,X_test.shape,y_train.shape,y_test.shape)"
   ]
  },
  {
   "cell_type": "markdown",
   "id": "7d4c590f",
   "metadata": {},
   "source": [
    "## Logistic Regression "
   ]
  },
  {
   "cell_type": "code",
   "execution_count": 43,
   "id": "d91350e1",
   "metadata": {},
   "outputs": [
    {
     "data": {
      "text/plain": [
       "\"\\nlog_reg = LogisticRegression()\\nparam_grid = {'C': [0.001, 0.01, 0.1, 1, 10, 100, 1000],\\n             'l1_ratio': [0,.5,1]\\n             }\\nlr_cv = GridSearchCV(log_reg, param_grid, cv=10, scoring='roc_auc')\\nlr_cv.fit(X,y)\\nlr_cv.best_estimator_\\n\""
      ]
     },
     "execution_count": 43,
     "metadata": {},
     "output_type": "execute_result"
    }
   ],
   "source": [
    "## We instantiate a logistic regression model and use GridSearchCV to find the best parameters. \n",
    "'''\n",
    "log_reg = LogisticRegression()\n",
    "param_grid = {'C': [0.001, 0.01, 0.1, 1, 10, 100, 1000],\n",
    "             'l1_ratio': [0,.5,1]\n",
    "             }\n",
    "lr_cv = GridSearchCV(log_reg, param_grid, cv=10, scoring='roc_auc')\n",
    "lr_cv.fit(X,y)\n",
    "lr_cv.best_estimator_\n",
    "'''\n",
    "# We get the result: 'LogisticRegression(C=10, l1_ratio=0) '"
   ]
  },
  {
   "cell_type": "code",
   "execution_count": 46,
   "id": "17248282",
   "metadata": {},
   "outputs": [
    {
     "data": {
      "text/plain": [
       "0    2632\n",
       "1      16\n",
       "dtype: int64"
      ]
     },
     "execution_count": 46,
     "metadata": {},
     "output_type": "execute_result"
    }
   ],
   "source": [
    "## With the best parameters, we re-instantiate the model, fit and predict the probabilities. \n",
    "log_reg = LogisticRegression(C=10)\n",
    "log_reg.fit(X_train, y_train)\n",
    "\n",
    "## We predict the probabilities of s\n",
    "y_pred = log_reg.predict(X_test)\n",
    "y_pred = pd.Series(y_pred)\n",
    "\n",
    "## We visualize the prediction that the Logistic Regression Gives us. \n",
    "y_pred.value_counts()"
   ]
  },
  {
   "cell_type": "code",
   "execution_count": 48,
   "id": "fe34c062",
   "metadata": {},
   "outputs": [
    {
     "name": "stdout",
     "output_type": "stream",
     "text": [
      "0.5898561093549088\n"
     ]
    }
   ],
   "source": [
    "y_pred = log_reg.predict_proba(X_test)[:,1]\n",
    "log_fpr, log_tpr, threshold = roc_curve(y_test,y_pred)\n",
    "log_auc = auc(log_fpr, log_tpr)\n",
    "print(log_auc)"
   ]
  },
  {
   "cell_type": "markdown",
   "id": "f2c6e13d",
   "metadata": {},
   "source": [
    "## Random Forests:"
   ]
  },
  {
   "cell_type": "code",
   "execution_count": 23,
   "id": "fd490e81",
   "metadata": {},
   "outputs": [
    {
     "data": {
      "text/plain": [
       "\"\\nrfc = RandomForestClassifier(random_state = 1234)\\nparam_grid = { \\n    'n_estimators': [10, 25, 50, 75, 100],\\n    'max_features': [None, 'auto', 'log2'],\\n    'max_depth' : list(range(0,10)),\\n}\\nrfc_cv = GridSearchCV(rfc, param_grid, cv=10, scoring='roc_auc')\\n\\nrfc_cv.fit(X,y)\\nrfc_cv.best_estimator_\\n\""
      ]
     },
     "execution_count": 23,
     "metadata": {},
     "output_type": "execute_result"
    }
   ],
   "source": [
    "# We instantiate the RandomForestClassifier and use GridSearch for best hyperparameters\n",
    "'''\n",
    "rfc = RandomForestClassifier(random_state = 1234)\n",
    "param_grid = { \n",
    "    'n_estimators': [10, 25, 50, 75, 100],\n",
    "    'max_features': [None, 'auto', 'log2'],\n",
    "    'max_depth' : list(range(0,10)),\n",
    "}\n",
    "rfc_cv = GridSearchCV(rfc, param_grid, cv=10, scoring='roc_auc')\n",
    "\n",
    "rfc_cv.fit(X,y)\n",
    "rfc_cv.best_estimator_\n",
    "'''\n",
    "## The findings for the above cell (if all customers) is: ' RandomForestClassifier(max_depth=4, n_estimators=10) '\n",
    "## The findings for the above cell (if pfw > 0 ) is: ' RandomForestClassifier(max_depth=10, n_estimators=25) '"
   ]
  },
  {
   "cell_type": "code",
   "execution_count": 24,
   "id": "39cf2c30",
   "metadata": {},
   "outputs": [
    {
     "data": {
      "text/plain": [
       "array([0, 0, 0, ..., 0, 0, 0])"
      ]
     },
     "execution_count": 24,
     "metadata": {},
     "output_type": "execute_result"
    }
   ],
   "source": [
    "rfc = RandomForestClassifier(max_depth=4, n_estimators=10)\n",
    "rfc.fit(X_train, y_train)\n",
    "y_pred = rfc.predict_proba(X_test)[:,1]\n",
    "y_predict = rfc.predict(X_test)\n",
    "y_predict"
   ]
  },
  {
   "cell_type": "code",
   "execution_count": 25,
   "id": "87f35072",
   "metadata": {},
   "outputs": [
    {
     "name": "stdout",
     "output_type": "stream",
     "text": [
      "0.5907456511877895\n"
     ]
    }
   ],
   "source": [
    "y_pred = rfc.predict_proba(X_test)[:,1]\n",
    "rfc_fpr, rfc_tpr, threshold = roc_curve(y_test, y_pred)\n",
    "auc_rfc = auc(rfc_fpr, rfc_tpr)\n",
    "print(auc_rfc)"
   ]
  },
  {
   "cell_type": "code",
   "execution_count": 26,
   "id": "a7e2ccd4",
   "metadata": {},
   "outputs": [
    {
     "data": {
      "text/html": [
       "<div>\n",
       "<style scoped>\n",
       "    .dataframe tbody tr th:only-of-type {\n",
       "        vertical-align: middle;\n",
       "    }\n",
       "\n",
       "    .dataframe tbody tr th {\n",
       "        vertical-align: top;\n",
       "    }\n",
       "\n",
       "    .dataframe thead th {\n",
       "        text-align: right;\n",
       "    }\n",
       "</style>\n",
       "<table border=\"1\" class=\"dataframe\">\n",
       "  <thead>\n",
       "    <tr style=\"text-align: right;\">\n",
       "      <th></th>\n",
       "      <th>importance</th>\n",
       "    </tr>\n",
       "  </thead>\n",
       "  <tbody>\n",
       "    <tr>\n",
       "      <th>fw_total_spent</th>\n",
       "      <td>0.500604</td>\n",
       "    </tr>\n",
       "    <tr>\n",
       "      <th>first_order_feb_june</th>\n",
       "      <td>0.182224</td>\n",
       "    </tr>\n",
       "    <tr>\n",
       "      <th>first_item_size_No size</th>\n",
       "      <td>0.103323</td>\n",
       "    </tr>\n",
       "    <tr>\n",
       "      <th>first_item_price_range_low</th>\n",
       "      <td>0.058323</td>\n",
       "    </tr>\n",
       "    <tr>\n",
       "      <th>first_item_price_range_medium</th>\n",
       "      <td>0.037535</td>\n",
       "    </tr>\n",
       "    <tr>\n",
       "      <th>accepts_marketing</th>\n",
       "      <td>0.035595</td>\n",
       "    </tr>\n",
       "    <tr>\n",
       "      <th>wealthy_zip</th>\n",
       "      <td>0.028432</td>\n",
       "    </tr>\n",
       "    <tr>\n",
       "      <th>fw_used_coupon</th>\n",
       "      <td>0.017329</td>\n",
       "    </tr>\n",
       "    <tr>\n",
       "      <th>first_item_size_XL</th>\n",
       "      <td>0.014728</td>\n",
       "    </tr>\n",
       "    <tr>\n",
       "      <th>first_item_size_S</th>\n",
       "      <td>0.009513</td>\n",
       "    </tr>\n",
       "    <tr>\n",
       "      <th>first_item_size_XS</th>\n",
       "      <td>0.009060</td>\n",
       "    </tr>\n",
       "    <tr>\n",
       "      <th>first_item_size_M</th>\n",
       "      <td>0.003335</td>\n",
       "    </tr>\n",
       "  </tbody>\n",
       "</table>\n",
       "</div>"
      ],
      "text/plain": [
       "                               importance\n",
       "fw_total_spent                   0.500604\n",
       "first_order_feb_june             0.182224\n",
       "first_item_size_No size          0.103323\n",
       "first_item_price_range_low       0.058323\n",
       "first_item_price_range_medium    0.037535\n",
       "accepts_marketing                0.035595\n",
       "wealthy_zip                      0.028432\n",
       "fw_used_coupon                   0.017329\n",
       "first_item_size_XL               0.014728\n",
       "first_item_size_S                0.009513\n",
       "first_item_size_XS               0.009060\n",
       "first_item_size_M                0.003335"
      ]
     },
     "execution_count": 26,
     "metadata": {},
     "output_type": "execute_result"
    }
   ],
   "source": [
    "## We visualize the feature importance for the Random Forest Model\n",
    "fi_rfc = pd.DataFrame(rfc.feature_importances_, index = X_train.columns, \n",
    "                      columns=['importance']).sort_values('importance', ascending=False)\n",
    "fi_rfc"
   ]
  },
  {
   "cell_type": "code",
   "execution_count": 27,
   "id": "2354fbe5",
   "metadata": {
    "scrolled": false
   },
   "outputs": [
    {
     "data": {
      "image/png": "[encoded data removed]",
      "text/plain": [
       "<Figure size 432x288 with 1 Axes>"
      ]
     },
     "metadata": {
      "needs_background": "light"
     },
     "output_type": "display_data"
    }
   ],
   "source": [
    "## We plot the visualization importance. \n",
    "plt.plot(fi_rfc.importance)\n",
    "plt.xticks(rotation=90)\n",
    "plt.show()"
   ]
  },
  {
   "cell_type": "code",
   "execution_count": 28,
   "id": "4d9d7cc3",
   "metadata": {},
   "outputs": [
    {
     "data": {
      "image/png": "[encoded data removed]",
      "text/plain": [
       "<Figure size 1080x1080 with 1 Axes>"
      ]
     },
     "metadata": {
      "needs_background": "light"
     },
     "output_type": "display_data"
    }
   ],
   "source": [
    "## We plot the ROC and visualize the AUC of our classification models\n",
    "fig, heat = plt.subplots(figsize = (15,15))\n",
    "plt.plot(rfc_fpr, rfc_tpr, marker='.', color='green', label='Random Forest %f' % auc_rfc)\n",
    "plt.plot(log_fpr, log_tpr, marker='.', color='red', label='Logistic Regression %f' % log_auc)\n",
    "\n",
    "# We plot a line that goes shows when FPR = TPR\n",
    "lims = [np.min([0.0, 0.0]),  \n",
    "        np.max([1.0, 1.0])]\n",
    "plt.plot(lims, lims, 'k-', alpha=0.75, zorder=0, c='b', linestyle ='--')\n",
    "\n",
    "## We label the axes and give a title. \n",
    "plt.xlabel('False Positive Rate')\n",
    "plt.ylabel('True Positive Rate')\n",
    "plt.title('ROC Curve of Classification Models', pad =25)\n",
    "plt.legend()\n",
    "plt.savefig('auc_comp.png')\n",
    "plt.show()"
   ]
  }
 ],
 "metadata": {
  "kernelspec": {
   "display_name": "Python 3 (ipykernel)",
   "language": "python",
   "name": "python3"
  },
  "language_info": {
   "codemirror_mode": {
    "name": "ipython",
    "version": 3
   },
   "file_extension": ".py",
   "mimetype": "text/x-python",
   "name": "python",
   "nbconvert_exporter": "python",
   "pygments_lexer": "ipython3",
   "version": "3.9.9"
  }
 },
 "nbformat": 4,
 "nbformat_minor": 5
}
