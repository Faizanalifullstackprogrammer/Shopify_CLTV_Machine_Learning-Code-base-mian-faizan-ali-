{
 "cells": [
  {
   "cell_type": "markdown",
   "id": "5dafefb1",
   "metadata": {},
   "source": [
    "# Predicting CLTV and Customer Repeat with Machine Learning for Shopify "
   ]
  },
  {
   "cell_type": "markdown",
   "id": "c0ac2715",
   "metadata": {},
   "source": [
    "#### A Data Science Project by Benjamin N. Bellman "
   ]
  },
  {
   "cell_type": "markdown",
   "id": "74f6ab2e",
   "metadata": {},
   "source": [
    "![image.png](../../../Images/LTV_Modelling.png)"
   ]
  },
  {
   "cell_type": "markdown",
   "id": "b227c7cd",
   "metadata": {},
   "source": [
    "### Project Table of Contents: \n",
    "<br> \n",
    "    \n",
    "**I. INTRODUCTION \\& PRELIMINARY ANALYSIS**\n",
    "1. Project Purpose \n",
    "2. Loading \\& Previewing Data   \n",
    "3. Data Wrangling  \n",
    "4. Preliminary EDA \n",
    " \n",
    "**II. DATA WRANGLING**  \n",
    "1. Cleaning up data. \n",
    "2. Creating 3 separate dataframes.\n",
    "3. Creating the final 1 year CLTV Table.\n",
    "\n",
    "**III. EXPLORATORY DATA ANALYSIS**     \n",
    "1. Loading an Previewing the New Table  \n",
    "2. Exploring relationships of variables on Post First Week Spend \n",
    "\n",
    "**IV. PREPROCESSING AND MODELLING**\n",
    "1. Linear Models\n",
    "2. Classification Models\n"
   ]
  },
  {
   "cell_type": "markdown",
   "id": "6384f601",
   "metadata": {},
   "source": [
    "## Part 3: PreProcessing and Modelling"
   ]
  },
  {
   "cell_type": "markdown",
   "id": "aaa66348",
   "metadata": {},
   "source": [
    "### Loading our Packages and DataFrame"
   ]
  },
  {
   "cell_type": "code",
   "execution_count": 1,
   "id": "6a7f23f4",
   "metadata": {},
   "outputs": [],
   "source": [
    "## We start by importing the packages we will use.\n",
    "\n",
    "import pandas as pd\n",
    "import numpy as np\n",
    "import matplotlib.pyplot as plt\n",
    "import seaborn as sns\n",
    "\n",
    "import statsmodels.api as sm\n",
    "from statsmodels.graphics.api import abline_plot \n",
    "\n",
    "from sklearn.preprocessing import StandardScaler, LabelEncoder\n",
    "from sklearn.model_selection import train_test_split, GridSearchCV, RandomizedSearchCV\n",
    "from sklearn.linear_model import LinearRegression, LogisticRegression\n",
    "from sklearn.tree import DecisionTreeRegressor, DecisionTreeClassifier, plot_tree, export_graphviz\n",
    "from sklearn.ensemble import RandomForestClassifier,RandomForestRegressor\n",
    "\n",
    "from sklearn.metrics import precision_recall_curve, roc_curve, auc, confusion_matrix, accuracy_score, precision_score\n",
    "from sklearn.metrics import mean_squared_error as mse, r2_score, mean_absolute_error as mae, f1_score, fbeta_score \n",
    "from sklearn.metrics import plot_confusion_matrix,classification_report, balanced_accuracy_score, recall_score\n",
    "\n",
    "from io import StringIO \n",
    "from IPython.display import Image  \n",
    "import pydotplus\n",
    "import graphviz\n",
    "\n",
    "import warnings\n",
    "warnings.filterwarnings('ignore')\n",
    "\n",
    "%matplotlib inline\n",
    "pd.set_option('display.max_columns', None)"
   ]
  },
  {
   "cell_type": "code",
   "execution_count": 2,
   "id": "c202604d",
   "metadata": {
    "scrolled": true
   },
   "outputs": [
    {
     "data": {
      "text/html": [
       "<div>\n",
       "<style scoped>\n",
       "    .dataframe tbody tr th:only-of-type {\n",
       "        vertical-align: middle;\n",
       "    }\n",
       "\n",
       "    .dataframe tbody tr th {\n",
       "        vertical-align: top;\n",
       "    }\n",
       "\n",
       "    .dataframe thead th {\n",
       "        text-align: right;\n",
       "    }\n",
       "</style>\n",
       "<table border=\"1\" class=\"dataframe\">\n",
       "  <thead>\n",
       "    <tr style=\"text-align: right;\">\n",
       "      <th></th>\n",
       "      <th>CustomerID</th>\n",
       "      <th>pfw_spent</th>\n",
       "      <th>fw_nb_orders</th>\n",
       "      <th>fw_nb_items</th>\n",
       "      <th>fw_total_spent</th>\n",
       "      <th>fw_used_coupon</th>\n",
       "      <th>first_order_month</th>\n",
       "      <th>fw_purchased_accessory</th>\n",
       "      <th>first_item_size</th>\n",
       "      <th>accepts_marketing</th>\n",
       "      <th>wealthy_zip</th>\n",
       "      <th>region</th>\n",
       "      <th>first_item_price_range</th>\n",
       "    </tr>\n",
       "  </thead>\n",
       "  <tbody>\n",
       "    <tr>\n",
       "      <th>0</th>\n",
       "      <td>Anonymous13455</td>\n",
       "      <td>1257.80</td>\n",
       "      <td>1</td>\n",
       "      <td>1</td>\n",
       "      <td>50.0</td>\n",
       "      <td>0</td>\n",
       "      <td>6</td>\n",
       "      <td>0</td>\n",
       "      <td>M</td>\n",
       "      <td>0</td>\n",
       "      <td>0</td>\n",
       "      <td>MW</td>\n",
       "      <td>high</td>\n",
       "    </tr>\n",
       "    <tr>\n",
       "      <th>1</th>\n",
       "      <td>Anonymous2142</td>\n",
       "      <td>436.15</td>\n",
       "      <td>1</td>\n",
       "      <td>1</td>\n",
       "      <td>48.0</td>\n",
       "      <td>0</td>\n",
       "      <td>5</td>\n",
       "      <td>0</td>\n",
       "      <td>L</td>\n",
       "      <td>0</td>\n",
       "      <td>0</td>\n",
       "      <td>NE</td>\n",
       "      <td>high</td>\n",
       "    </tr>\n",
       "    <tr>\n",
       "      <th>2</th>\n",
       "      <td>Anonymous4843</td>\n",
       "      <td>1052.75</td>\n",
       "      <td>2</td>\n",
       "      <td>2</td>\n",
       "      <td>96.0</td>\n",
       "      <td>0</td>\n",
       "      <td>10</td>\n",
       "      <td>0</td>\n",
       "      <td>S</td>\n",
       "      <td>1</td>\n",
       "      <td>0</td>\n",
       "      <td>W</td>\n",
       "      <td>high</td>\n",
       "    </tr>\n",
       "    <tr>\n",
       "      <th>3</th>\n",
       "      <td>Anonymous11225</td>\n",
       "      <td>728.10</td>\n",
       "      <td>1</td>\n",
       "      <td>1</td>\n",
       "      <td>16.0</td>\n",
       "      <td>0</td>\n",
       "      <td>1</td>\n",
       "      <td>1</td>\n",
       "      <td>No size</td>\n",
       "      <td>0</td>\n",
       "      <td>0</td>\n",
       "      <td>MW</td>\n",
       "      <td>low</td>\n",
       "    </tr>\n",
       "    <tr>\n",
       "      <th>4</th>\n",
       "      <td>Anonymous540</td>\n",
       "      <td>1114.75</td>\n",
       "      <td>1</td>\n",
       "      <td>1</td>\n",
       "      <td>50.0</td>\n",
       "      <td>0</td>\n",
       "      <td>1</td>\n",
       "      <td>0</td>\n",
       "      <td>XS</td>\n",
       "      <td>0</td>\n",
       "      <td>0</td>\n",
       "      <td>W</td>\n",
       "      <td>high</td>\n",
       "    </tr>\n",
       "  </tbody>\n",
       "</table>\n",
       "</div>"
      ],
      "text/plain": [
       "       CustomerID  pfw_spent  fw_nb_orders  fw_nb_items  fw_total_spent  \\\n",
       "0  Anonymous13455    1257.80             1            1            50.0   \n",
       "1   Anonymous2142     436.15             1            1            48.0   \n",
       "2   Anonymous4843    1052.75             2            2            96.0   \n",
       "3  Anonymous11225     728.10             1            1            16.0   \n",
       "4    Anonymous540    1114.75             1            1            50.0   \n",
       "\n",
       "   fw_used_coupon  first_order_month  fw_purchased_accessory first_item_size  \\\n",
       "0               0                  6                       0               M   \n",
       "1               0                  5                       0               L   \n",
       "2               0                 10                       0               S   \n",
       "3               0                  1                       1         No size   \n",
       "4               0                  1                       0              XS   \n",
       "\n",
       "   accepts_marketing  wealthy_zip region first_item_price_range  \n",
       "0                  0            0     MW                   high  \n",
       "1                  0            0     NE                   high  \n",
       "2                  1            0      W                   high  \n",
       "3                  0            0     MW                    low  \n",
       "4                  0            0      W                   high  "
      ]
     },
     "execution_count": 2,
     "metadata": {},
     "output_type": "execute_result"
    }
   ],
   "source": [
    "## We Load and preview our customer_cltv dataframe from the previouse chapter \n",
    "customer_cltv = pd.read_csv('.\\..\\..\\..\\Datasets\\cleaned_data.csv',index_col=0)\n",
    "customer_cltv.head()"
   ]
  },
  {
   "cell_type": "markdown",
   "id": "435d1ad2",
   "metadata": {},
   "source": [
    "## Preprocessing: "
   ]
  },
  {
   "cell_type": "code",
   "execution_count": 3,
   "id": "e0a20e7b",
   "metadata": {},
   "outputs": [],
   "source": [
    "## Drop some error rows (no spending on the first week)\n",
    "customer_cltv = customer_cltv[customer_cltv.loc[:,'fw_total_spent'] > 0] \n",
    "\n",
    "## Drop all non-repeat customers\n",
    "#customer_cltv_drop = customer_cltv_drop[customer_cltv.loc[:,'pfw_spent'] > 0]"
   ]
  },
  {
   "cell_type": "markdown",
   "id": "b65fc573",
   "metadata": {},
   "source": [
    "<br> **Drop variables that we found to be heavily correlated with other or irrelevant through the previous step of EDA**\n",
    "- **fw_nb_items** is highly correlated with fw_total_spent (c=0.94)\n",
    "- **fw_nb_orders** is very unbalanced (~ 95% customers only made 1 order the first week)\n",
    "- **region** was found to be insignificant based on several steps of statistical analysis\n",
    "- **fw_purchased_accessory** is logically redundant with first_item_size\n"
   ]
  },
  {
   "cell_type": "code",
   "execution_count": 4,
   "id": "32167cc4",
   "metadata": {},
   "outputs": [],
   "source": [
    "customer_cltv.drop(columns=['fw_nb_items', 'region', 'fw_nb_orders', 'fw_purchased_accessory'], inplace = True)"
   ]
  },
  {
   "cell_type": "markdown",
   "id": "7b2f21c5",
   "metadata": {},
   "source": [
    "<br> **Label Encoding, where we modify variables based on findings from EDA**\n",
    "- **first_order_month** can be modified to be 2 categories: February-June vs rest of the year\n",
    "- **first_item size** can be modified to be 2 categories: Large Size and Smaller Sizes"
   ]
  },
  {
   "cell_type": "code",
   "execution_count": 5,
   "id": "6f8983ab",
   "metadata": {},
   "outputs": [
    {
     "data": {
      "text/html": [
       "<div>\n",
       "<style scoped>\n",
       "    .dataframe tbody tr th:only-of-type {\n",
       "        vertical-align: middle;\n",
       "    }\n",
       "\n",
       "    .dataframe tbody tr th {\n",
       "        vertical-align: top;\n",
       "    }\n",
       "\n",
       "    .dataframe thead th {\n",
       "        text-align: right;\n",
       "    }\n",
       "</style>\n",
       "<table border=\"1\" class=\"dataframe\">\n",
       "  <thead>\n",
       "    <tr style=\"text-align: right;\">\n",
       "      <th></th>\n",
       "      <th>CustomerID</th>\n",
       "      <th>pfw_spent</th>\n",
       "      <th>fw_total_spent</th>\n",
       "      <th>fw_used_coupon</th>\n",
       "      <th>accepts_marketing</th>\n",
       "      <th>wealthy_zip</th>\n",
       "      <th>first_item_price_range</th>\n",
       "      <th>first_order_feb_june</th>\n",
       "      <th>large_size</th>\n",
       "    </tr>\n",
       "  </thead>\n",
       "  <tbody>\n",
       "    <tr>\n",
       "      <th>0</th>\n",
       "      <td>Anonymous13455</td>\n",
       "      <td>1257.80</td>\n",
       "      <td>50.0</td>\n",
       "      <td>0</td>\n",
       "      <td>0</td>\n",
       "      <td>0</td>\n",
       "      <td>high</td>\n",
       "      <td>1</td>\n",
       "      <td>0</td>\n",
       "    </tr>\n",
       "    <tr>\n",
       "      <th>1</th>\n",
       "      <td>Anonymous2142</td>\n",
       "      <td>436.15</td>\n",
       "      <td>48.0</td>\n",
       "      <td>0</td>\n",
       "      <td>0</td>\n",
       "      <td>0</td>\n",
       "      <td>high</td>\n",
       "      <td>1</td>\n",
       "      <td>1</td>\n",
       "    </tr>\n",
       "    <tr>\n",
       "      <th>2</th>\n",
       "      <td>Anonymous4843</td>\n",
       "      <td>1052.75</td>\n",
       "      <td>96.0</td>\n",
       "      <td>0</td>\n",
       "      <td>1</td>\n",
       "      <td>0</td>\n",
       "      <td>high</td>\n",
       "      <td>0</td>\n",
       "      <td>0</td>\n",
       "    </tr>\n",
       "    <tr>\n",
       "      <th>3</th>\n",
       "      <td>Anonymous11225</td>\n",
       "      <td>728.10</td>\n",
       "      <td>16.0</td>\n",
       "      <td>0</td>\n",
       "      <td>0</td>\n",
       "      <td>0</td>\n",
       "      <td>low</td>\n",
       "      <td>0</td>\n",
       "      <td>0</td>\n",
       "    </tr>\n",
       "    <tr>\n",
       "      <th>4</th>\n",
       "      <td>Anonymous540</td>\n",
       "      <td>1114.75</td>\n",
       "      <td>50.0</td>\n",
       "      <td>0</td>\n",
       "      <td>0</td>\n",
       "      <td>0</td>\n",
       "      <td>high</td>\n",
       "      <td>0</td>\n",
       "      <td>0</td>\n",
       "    </tr>\n",
       "  </tbody>\n",
       "</table>\n",
       "</div>"
      ],
      "text/plain": [
       "       CustomerID  pfw_spent  fw_total_spent  fw_used_coupon  \\\n",
       "0  Anonymous13455    1257.80            50.0               0   \n",
       "1   Anonymous2142     436.15            48.0               0   \n",
       "2   Anonymous4843    1052.75            96.0               0   \n",
       "3  Anonymous11225     728.10            16.0               0   \n",
       "4    Anonymous540    1114.75            50.0               0   \n",
       "\n",
       "   accepts_marketing  wealthy_zip first_item_price_range  \\\n",
       "0                  0            0                   high   \n",
       "1                  0            0                   high   \n",
       "2                  1            0                   high   \n",
       "3                  0            0                    low   \n",
       "4                  0            0                   high   \n",
       "\n",
       "   first_order_feb_june  large_size  \n",
       "0                     1           0  \n",
       "1                     1           1  \n",
       "2                     0           0  \n",
       "3                     0           0  \n",
       "4                     0           0  "
      ]
     },
     "execution_count": 5,
     "metadata": {},
     "output_type": "execute_result"
    }
   ],
   "source": [
    "## First Item Month \n",
    "customer_cltv['first_order_feb_june'] = customer_cltv['first_order_month'].apply(lambda x: x in [2, 3, 4, 5, 6])\n",
    "customer_cltv['first_order_feb_june'].replace({True:1,False:0}, inplace = True)\n",
    "customer_cltv.drop(columns=['first_order_month'], inplace = True)\n",
    "\n",
    "## First Item Size: \n",
    "customer_cltv['large_size'] = customer_cltv['first_item_size'].apply(lambda x: x in ['XL','L'])\n",
    "customer_cltv['large_size'].replace({True:1,False:0}, inplace = True)\n",
    "customer_cltv.drop(columns=['first_item_size'], inplace = True)\n",
    "customer_cltv.head()"
   ]
  },
  {
   "cell_type": "markdown",
   "id": "95e7e35c",
   "metadata": {},
   "source": [
    "#### One-Hot Encoding: Dummy variables for our categorical variables."
   ]
  },
  {
   "cell_type": "code",
   "execution_count": 6,
   "id": "5d34d559",
   "metadata": {},
   "outputs": [
    {
     "data": {
      "text/html": [
       "<div>\n",
       "<style scoped>\n",
       "    .dataframe tbody tr th:only-of-type {\n",
       "        vertical-align: middle;\n",
       "    }\n",
       "\n",
       "    .dataframe tbody tr th {\n",
       "        vertical-align: top;\n",
       "    }\n",
       "\n",
       "    .dataframe thead th {\n",
       "        text-align: right;\n",
       "    }\n",
       "</style>\n",
       "<table border=\"1\" class=\"dataframe\">\n",
       "  <thead>\n",
       "    <tr style=\"text-align: right;\">\n",
       "      <th></th>\n",
       "      <th>CustomerID</th>\n",
       "      <th>pfw_spent</th>\n",
       "      <th>fw_total_spent</th>\n",
       "      <th>fw_used_coupon</th>\n",
       "      <th>accepts_marketing</th>\n",
       "      <th>wealthy_zip</th>\n",
       "      <th>first_order_feb_june</th>\n",
       "      <th>large_size</th>\n",
       "      <th>first_item_price_range_low</th>\n",
       "      <th>first_item_price_range_medium</th>\n",
       "    </tr>\n",
       "  </thead>\n",
       "  <tbody>\n",
       "    <tr>\n",
       "      <th>0</th>\n",
       "      <td>Anonymous13455</td>\n",
       "      <td>1257.80</td>\n",
       "      <td>50.0</td>\n",
       "      <td>0</td>\n",
       "      <td>0</td>\n",
       "      <td>0</td>\n",
       "      <td>1</td>\n",
       "      <td>0</td>\n",
       "      <td>0</td>\n",
       "      <td>0</td>\n",
       "    </tr>\n",
       "    <tr>\n",
       "      <th>1</th>\n",
       "      <td>Anonymous2142</td>\n",
       "      <td>436.15</td>\n",
       "      <td>48.0</td>\n",
       "      <td>0</td>\n",
       "      <td>0</td>\n",
       "      <td>0</td>\n",
       "      <td>1</td>\n",
       "      <td>1</td>\n",
       "      <td>0</td>\n",
       "      <td>0</td>\n",
       "    </tr>\n",
       "    <tr>\n",
       "      <th>2</th>\n",
       "      <td>Anonymous4843</td>\n",
       "      <td>1052.75</td>\n",
       "      <td>96.0</td>\n",
       "      <td>0</td>\n",
       "      <td>1</td>\n",
       "      <td>0</td>\n",
       "      <td>0</td>\n",
       "      <td>0</td>\n",
       "      <td>0</td>\n",
       "      <td>0</td>\n",
       "    </tr>\n",
       "    <tr>\n",
       "      <th>3</th>\n",
       "      <td>Anonymous11225</td>\n",
       "      <td>728.10</td>\n",
       "      <td>16.0</td>\n",
       "      <td>0</td>\n",
       "      <td>0</td>\n",
       "      <td>0</td>\n",
       "      <td>0</td>\n",
       "      <td>0</td>\n",
       "      <td>1</td>\n",
       "      <td>0</td>\n",
       "    </tr>\n",
       "    <tr>\n",
       "      <th>4</th>\n",
       "      <td>Anonymous540</td>\n",
       "      <td>1114.75</td>\n",
       "      <td>50.0</td>\n",
       "      <td>0</td>\n",
       "      <td>0</td>\n",
       "      <td>0</td>\n",
       "      <td>0</td>\n",
       "      <td>0</td>\n",
       "      <td>0</td>\n",
       "      <td>0</td>\n",
       "    </tr>\n",
       "  </tbody>\n",
       "</table>\n",
       "</div>"
      ],
      "text/plain": [
       "       CustomerID  pfw_spent  fw_total_spent  fw_used_coupon  \\\n",
       "0  Anonymous13455    1257.80            50.0               0   \n",
       "1   Anonymous2142     436.15            48.0               0   \n",
       "2   Anonymous4843    1052.75            96.0               0   \n",
       "3  Anonymous11225     728.10            16.0               0   \n",
       "4    Anonymous540    1114.75            50.0               0   \n",
       "\n",
       "   accepts_marketing  wealthy_zip  first_order_feb_june  large_size  \\\n",
       "0                  0            0                     1           0   \n",
       "1                  0            0                     1           1   \n",
       "2                  1            0                     0           0   \n",
       "3                  0            0                     0           0   \n",
       "4                  0            0                     0           0   \n",
       "\n",
       "   first_item_price_range_low  first_item_price_range_medium  \n",
       "0                           0                              0  \n",
       "1                           0                              0  \n",
       "2                           0                              0  \n",
       "3                           1                              0  \n",
       "4                           0                              0  "
      ]
     },
     "execution_count": 6,
     "metadata": {},
     "output_type": "execute_result"
    }
   ],
   "source": [
    "## We create dummy variables for prize range of items. \n",
    "categorical_cols = ['first_item_price_range']\n",
    "dummies_encoded = pd.get_dummies(customer_cltv[categorical_cols].astype(str),drop_first=True)\n",
    "customer_cltv = pd.concat([customer_cltv,dummies_encoded], axis =1)\n",
    "customer_cltv.drop(columns=['first_item_price_range'],inplace = True)\n",
    "customer_cltv.head()"
   ]
  },
  {
   "cell_type": "code",
   "execution_count": 7,
   "id": "7a849434",
   "metadata": {},
   "outputs": [
    {
     "name": "stdout",
     "output_type": "stream",
     "text": [
      "(10590, 8) (10590,)\n"
     ]
    }
   ],
   "source": [
    "## We get our feature variables and target variables\n",
    "X = customer_cltv.drop(columns=['CustomerID','pfw_spent'])\n",
    "y = customer_cltv['pfw_spent']\n",
    "print(X.shape, y.shape)"
   ]
  },
  {
   "cell_type": "markdown",
   "id": "10774f5a",
   "metadata": {},
   "source": [
    "#### Scaling: Scale fw_total_spent which has higher magnitude relative to other feature variables."
   ]
  },
  {
   "cell_type": "code",
   "execution_count": 8,
   "id": "64a03fd9",
   "metadata": {},
   "outputs": [
    {
     "data": {
      "text/html": [
       "<div>\n",
       "<style scoped>\n",
       "    .dataframe tbody tr th:only-of-type {\n",
       "        vertical-align: middle;\n",
       "    }\n",
       "\n",
       "    .dataframe tbody tr th {\n",
       "        vertical-align: top;\n",
       "    }\n",
       "\n",
       "    .dataframe thead th {\n",
       "        text-align: right;\n",
       "    }\n",
       "</style>\n",
       "<table border=\"1\" class=\"dataframe\">\n",
       "  <thead>\n",
       "    <tr style=\"text-align: right;\">\n",
       "      <th></th>\n",
       "      <th>fw_total_spent</th>\n",
       "      <th>fw_used_coupon</th>\n",
       "      <th>accepts_marketing</th>\n",
       "      <th>wealthy_zip</th>\n",
       "      <th>first_order_feb_june</th>\n",
       "      <th>large_size</th>\n",
       "      <th>first_item_price_range_low</th>\n",
       "      <th>first_item_price_range_medium</th>\n",
       "    </tr>\n",
       "  </thead>\n",
       "  <tbody>\n",
       "    <tr>\n",
       "      <th>0</th>\n",
       "      <td>-0.347324</td>\n",
       "      <td>0</td>\n",
       "      <td>0</td>\n",
       "      <td>0</td>\n",
       "      <td>1</td>\n",
       "      <td>0</td>\n",
       "      <td>0</td>\n",
       "      <td>0</td>\n",
       "    </tr>\n",
       "    <tr>\n",
       "      <th>1</th>\n",
       "      <td>-0.389530</td>\n",
       "      <td>0</td>\n",
       "      <td>0</td>\n",
       "      <td>0</td>\n",
       "      <td>1</td>\n",
       "      <td>1</td>\n",
       "      <td>0</td>\n",
       "      <td>0</td>\n",
       "    </tr>\n",
       "    <tr>\n",
       "      <th>2</th>\n",
       "      <td>0.623424</td>\n",
       "      <td>0</td>\n",
       "      <td>1</td>\n",
       "      <td>0</td>\n",
       "      <td>0</td>\n",
       "      <td>0</td>\n",
       "      <td>0</td>\n",
       "      <td>0</td>\n",
       "    </tr>\n",
       "    <tr>\n",
       "      <th>3</th>\n",
       "      <td>-1.064833</td>\n",
       "      <td>0</td>\n",
       "      <td>0</td>\n",
       "      <td>0</td>\n",
       "      <td>0</td>\n",
       "      <td>0</td>\n",
       "      <td>1</td>\n",
       "      <td>0</td>\n",
       "    </tr>\n",
       "    <tr>\n",
       "      <th>4</th>\n",
       "      <td>-0.347324</td>\n",
       "      <td>0</td>\n",
       "      <td>0</td>\n",
       "      <td>0</td>\n",
       "      <td>0</td>\n",
       "      <td>0</td>\n",
       "      <td>0</td>\n",
       "      <td>0</td>\n",
       "    </tr>\n",
       "  </tbody>\n",
       "</table>\n",
       "</div>"
      ],
      "text/plain": [
       "   fw_total_spent  fw_used_coupon  accepts_marketing  wealthy_zip  \\\n",
       "0       -0.347324               0                  0            0   \n",
       "1       -0.389530               0                  0            0   \n",
       "2        0.623424               0                  1            0   \n",
       "3       -1.064833               0                  0            0   \n",
       "4       -0.347324               0                  0            0   \n",
       "\n",
       "   first_order_feb_june  large_size  first_item_price_range_low  \\\n",
       "0                     1           0                           0   \n",
       "1                     1           1                           0   \n",
       "2                     0           0                           0   \n",
       "3                     0           0                           1   \n",
       "4                     0           0                           0   \n",
       "\n",
       "   first_item_price_range_medium  \n",
       "0                              0  \n",
       "1                              0  \n",
       "2                              0  \n",
       "3                              0  \n",
       "4                              0  "
      ]
     },
     "execution_count": 8,
     "metadata": {},
     "output_type": "execute_result"
    }
   ],
   "source": [
    "## We use a scaler to scale the feature variables which are not categorical: \n",
    "cols_to_scale = ['fw_total_spent']\n",
    "scaler = StandardScaler()\n",
    "scaler.fit(X[cols_to_scale])\n",
    "\n",
    "X_scaled = scaler.transform(X[cols_to_scale])\n",
    "for ind, col in enumerate(cols_to_scale):\n",
    "    X[col] = X_scaled[:,ind]\n",
    "X.head()"
   ]
  },
  {
   "cell_type": "code",
   "execution_count": 9,
   "id": "15a4612b",
   "metadata": {},
   "outputs": [
    {
     "name": "stdout",
     "output_type": "stream",
     "text": [
      "(7942, 8) (2648, 8) (7942,) (2648,)\n"
     ]
    }
   ],
   "source": [
    "## We split our data into training and test sets\n",
    "X_train, X_test, y_train, y_test = train_test_split(X, y, test_size=0.25, random_state=42)\n",
    "print(X_train.shape, X_test.shape, y_train.shape, y_test.shape)"
   ]
  },
  {
   "cell_type": "markdown",
   "id": "5bbfaebd",
   "metadata": {},
   "source": [
    "## Multiple Linear Regression"
   ]
  },
  {
   "cell_type": "code",
   "execution_count": 10,
   "id": "6688fffc",
   "metadata": {},
   "outputs": [
    {
     "name": "stdout",
     "output_type": "stream",
     "text": [
      "R-squared on training data:  0.04679100921030399\n"
     ]
    }
   ],
   "source": [
    "## We instantiate the linear Regression model and fit to the training data. \n",
    "rModel = LinearRegression()\n",
    "rModel.fit(X_train, y_train)\n",
    "\n",
    "## We save our predictions and look at the R2 on our training data. \n",
    "y_pred_lin = rModel.predict(X_test)\n",
    "print(\"R-squared on training data: \", rModel.score(X_train,y_train))"
   ]
  },
  {
   "cell_type": "code",
   "execution_count": 11,
   "id": "c9173873",
   "metadata": {
    "scrolled": false
   },
   "outputs": [
    {
     "data": {
      "image/png": "[encoded data removed]",
      "text/plain": [
       "<Figure size 1008x504 with 1 Axes>"
      ]
     },
     "metadata": {
      "needs_background": "light"
     },
     "output_type": "display_data"
    }
   ],
   "source": [
    "## We visualize the actual values vs the predicted values. \n",
    "plt.figure(figsize=(14,7))\n",
    "plt.scatter(y_test, y_pred_lin)\n",
    "plt.plot([x for x in range(0,300)],[x for x in range(0,300)], color='r', linestyle ='--', \n",
    "         label = 'Points on this line are accurately predicted.')\n",
    "plt.xlabel('Actual values')\n",
    "plt.ylabel('Predicted values')\n",
    "plt.title('Multiple Linear Regression Model Actuals vs Predictions', pad =25, fontsize = 20)\n",
    "plt.xlim(0,300)\n",
    "plt.legend()\n",
    "plt.show()"
   ]
  },
  {
   "cell_type": "code",
   "execution_count": 12,
   "id": "5adca047",
   "metadata": {},
   "outputs": [
    {
     "name": "stdout",
     "output_type": "stream",
     "text": [
      "Mean PFWS: 36.28\n",
      "R Squared - Multiple Regression: 0.038\n",
      "MSE: 10788.042\n",
      "RMSE: 103.866\n",
      "MAE: 53.264\n"
     ]
    }
   ],
   "source": [
    "## Let's print out some metrics: \n",
    "print('Mean PFWS: ' + str(round(customer_cltv.pfw_spent.mean(),2)))\n",
    "print('R Squared - Multiple Regression: ' + str(round(r2_score(y_test,y_pred_lin),3)))\n",
    "print('MSE: '+ str(round(mse(y_test,y_pred_lin),3)))\n",
    "print('RMSE: ' +str(round(mse(y_test, y_pred_lin, squared =False),3)))\n",
    "print('MAE: '+ str(round(mae(y_test,y_pred_lin),3)))"
   ]
  },
  {
   "cell_type": "code",
   "execution_count": 13,
   "id": "abfd75cb",
   "metadata": {},
   "outputs": [
    {
     "data": {
      "text/plain": [
       "{'copy_X': True,\n",
       " 'fit_intercept': True,\n",
       " 'n_jobs': None,\n",
       " 'normalize': 'deprecated',\n",
       " 'positive': False}"
      ]
     },
     "execution_count": 13,
     "metadata": {},
     "output_type": "execute_result"
    }
   ],
   "source": [
    "## Let's get the best parameters for the Linear Regression model. \n",
    "rModel.get_params()"
   ]
  },
  {
   "cell_type": "code",
   "execution_count": 14,
   "id": "97bfcef0",
   "metadata": {},
   "outputs": [
    {
     "data": {
      "text/plain": [
       "GridSearchCV(cv=10, estimator=LinearRegression(), n_jobs=-1,\n",
       "             param_grid={'copy_X': [True, False],\n",
       "                         'fit_intercept': [True, False], 'n_jobs': [-1],\n",
       "                         'positive': [True, False]})"
      ]
     },
     "execution_count": 14,
     "metadata": {},
     "output_type": "execute_result"
    }
   ],
   "source": [
    "## We use GridSearchCV to find the best parameters:\n",
    "copy_X = [True,False]\n",
    "fit_intercept = [True,False]\n",
    "positive = [True, False]\n",
    "\n",
    "lr_parameter_grid = {'copy_X':copy_X  ,\n",
    "                     'fit_intercept': fit_intercept,\n",
    "                     'n_jobs': [-1],\n",
    "                     'positive': positive}\n",
    "\n",
    "lr_GS = GridSearchCV(estimator = rModel,\n",
    "                              param_grid = lr_parameter_grid, cv =10, n_jobs =-1)\n",
    "\n",
    "lr_GS.fit(X_train, y_train)"
   ]
  },
  {
   "cell_type": "code",
   "execution_count": 15,
   "id": "4aeb6ad9",
   "metadata": {},
   "outputs": [
    {
     "name": "stdout",
     "output_type": "stream",
     "text": [
      "Best Parameters: {'copy_X': True, 'fit_intercept': True, 'n_jobs': -1, 'positive': True}\n",
      "Best Estimator: LinearRegression(n_jobs=-1, positive=True)\n",
      "Best Score: 0.043300139970698495\n",
      "\n",
      "\n"
     ]
    }
   ],
   "source": [
    "## We look at the best parameters \n",
    "print('Best Parameters: ' + str(lr_GS.best_params_))\n",
    "print('Best Estimator: ' + str(lr_GS.best_estimator_))\n",
    "print('Best Score: ' + str(lr_GS.best_score_))\n",
    "print(\"\\n\")\n",
    "#print('Cross Validation Results: ' + str(lr_GS.cv_results_))"
   ]
  },
  {
   "cell_type": "code",
   "execution_count": 16,
   "id": "73014e3a",
   "metadata": {},
   "outputs": [
    {
     "name": "stdout",
     "output_type": "stream",
     "text": [
      "R-squared on training data:  0.046140004581595284\n",
      "R-squared on testing data:  0.03635953334782893\n"
     ]
    }
   ],
   "source": [
    "## We instantiate a new multiple linear regression with the gridsearchcv results. \n",
    "rModel2 = LinearRegression(copy_X= True, fit_intercept= True, n_jobs= -1, positive= True)\n",
    "rModel2.fit(X_train, y_train)\n",
    "\n",
    "## We make prediction\n",
    "y_pred_lin2 = rModel2.predict(X_test)\n",
    "print(\"R-squared on training data: \", rModel2.score(X_train,y_train))\n",
    "print(\"R-squared on testing data: \", rModel2.score(X_test,y_test))"
   ]
  },
  {
   "cell_type": "markdown",
   "id": "d5e472a3",
   "metadata": {},
   "source": [
    "The multiple linear model does not do a good job at predicting LTV. Let's see if the Random Forest Regressor can perform better. "
   ]
  },
  {
   "cell_type": "markdown",
   "id": "85b7029d",
   "metadata": {},
   "source": [
    "## Random Forest Regressor"
   ]
  },
  {
   "cell_type": "code",
   "execution_count": 17,
   "id": "c09685d2",
   "metadata": {},
   "outputs": [
    {
     "data": {
      "image/png": "[encoded data removed]",
      "text/plain": [
       "<Figure size 1008x576 with 1 Axes>"
      ]
     },
     "metadata": {
      "needs_background": "light"
     },
     "output_type": "display_data"
    }
   ],
   "source": [
    "## Prior to making the Random Forest Regressor, let's see how MSE evolves with tree depth (most import parameter): \n",
    "\n",
    "max_depths = range(1,21)\n",
    "training_error = []\n",
    "for max_depth in max_depths:\n",
    "    model_1 = RandomForestRegressor(max_depth = max_depth)\n",
    "    model_1.fit(X,y)\n",
    "    training_error.append(mse(y_train,model_1.predict(X_train)))\n",
    "\n",
    "## We append the MSEs for each max_depth tested for the testing test.\n",
    "testing_error=[]\n",
    "for max_depth in max_depths:\n",
    "    model_2 = RandomForestRegressor(max_depth = max_depth)\n",
    "    model_2.fit(X_train,y_train)\n",
    "    testing_error.append(mse(y_test,model_2.predict(X_test)))\n",
    "\n",
    "## Since random_state is not always active, we may get a different result each time. \n",
    "## Thus, we store the testing error in errors, create an index, and start the index at 1 since we will use this to return\n",
    "## the x for the MSE (y intercept) which is the lowest for the testing error. \n",
    "\n",
    "errors = list(enumerate(testing_error,1))\n",
    "\n",
    "## We plot the figures. \n",
    "plt.figure(figsize=((14,8)))\n",
    "plt.plot(max_depths,training_error, c ='b', label='Training Error')\n",
    "plt.plot(max_depths,testing_error, c ='r',label='Testing Error')\n",
    "plt.title(\"As Tree Depth increases, both MSE's decreases but testing's increases after depth \" + \n",
    "          str(min(errors, key = lambda t: t[1])[0]), fontsize=20, pad=20)\n",
    "\n",
    "## The axvline changes for each refesh, this code plots a line through the minimum MSE for the testing error.\n",
    "plt.axvline(x=min(errors, key = lambda t: t[1])[0],c='g',marker='3',linestyle='--')\n",
    "plt.annotate('Optimal Depth = ' + str(min(errors, key = lambda t: t[1])[0]),\n",
    "             xy=(min(errors, key = lambda t: t[1])[0] + 0.75,14000))\n",
    "\n",
    "## We label the axes and make our graph nice. \n",
    "plt.xlabel('Tree Depth')\n",
    "plt.ylabel('MSE')\n",
    "plt.xticks(range(0,21))\n",
    "plt.xlim(1,20)\n",
    "plt.legend()\n",
    "plt.show()"
   ]
  },
  {
   "cell_type": "code",
   "execution_count": 18,
   "id": "865a12af",
   "metadata": {},
   "outputs": [],
   "source": [
    "## We instantiate a Random Forest Regressor and fit it to the training and testing data. We make predictions for y.\n",
    "rfg = RandomForestRegressor(max_depth =4 , random_state = 42)\n",
    "rfg.fit(X_train,y_train)\n",
    "y_pred = rfg.predict(X_test)"
   ]
  },
  {
   "cell_type": "code",
   "execution_count": 19,
   "id": "3a3147bf",
   "metadata": {},
   "outputs": [
    {
     "name": "stdout",
     "output_type": "stream",
     "text": [
      "R squared for random forest regressor, on training data:  0.0725820842286119\n",
      "R squared for random forest regressor, on test data:  0.028958023534503385\n"
     ]
    }
   ],
   "source": [
    "## We print out our metrics. \n",
    "print(\"R squared for random forest regressor, on training data: \", rfg.score(X_train, y_train))\n",
    "print(\"R squared for random forest regressor, on test data: \", rfg.score(X_test, y_test))"
   ]
  },
  {
   "cell_type": "code",
   "execution_count": 20,
   "id": "4b95e105",
   "metadata": {},
   "outputs": [
    {
     "data": {
      "text/plain": [
       "GridSearchCV(cv=3,\n",
       "             estimator=RandomForestRegressor(max_depth=4, random_state=42),\n",
       "             n_jobs=-1,\n",
       "             param_grid={'bootstrap': [True, False],\n",
       "                         'max_depth': [2, 4, 6, 8, 10],\n",
       "                         'max_features': ['auto', 'sqrt'],\n",
       "                         'min_samples_leaf': [1, 2, 4],\n",
       "                         'min_samples_split': [2, 5, 10],\n",
       "                         'n_estimators': [10, 30, 50, 100]},\n",
       "             scoring='neg_mean_squared_error')"
      ]
     },
     "execution_count": 20,
     "metadata": {},
     "output_type": "execute_result"
    }
   ],
   "source": [
    "## We perform hyperparameter tuning with GridSearchCV where we seek to optimize the RF model. \n",
    "\n",
    "## We take different values for all these parameters. \n",
    "n_estimators = [10,30,50,100]\n",
    "max_features = ['auto', 'sqrt']\n",
    "max_depth = [2,4,6,8,10]\n",
    "min_samples_split = [2, 5, 10]\n",
    "min_samples_leaf = [1, 2, 4]\n",
    "bootstrap = [True, False]\n",
    "\n",
    "## We create a grid which we will be passing in GridSearchCV\n",
    "rf_grid = {'n_estimators': n_estimators,\n",
    "               'max_features': max_features,\n",
    "               'max_depth': max_depth,\n",
    "               'min_samples_split': min_samples_split,\n",
    "               'min_samples_leaf': min_samples_leaf,\n",
    "               'bootstrap': bootstrap}\n",
    "\n",
    "rf_GS = GridSearchCV(estimator = rfg,\n",
    "                              param_grid = rf_grid, cv =3, n_jobs =-1, scoring ='neg_mean_squared_error')\n",
    "\n",
    "rf_GS.fit(X_train, y_train)"
   ]
  },
  {
   "cell_type": "code",
   "execution_count": 21,
   "id": "327b41e8",
   "metadata": {},
   "outputs": [
    {
     "data": {
      "text/plain": [
       "{'bootstrap': True,\n",
       " 'max_depth': 6,\n",
       " 'max_features': 'sqrt',\n",
       " 'min_samples_leaf': 4,\n",
       " 'min_samples_split': 2,\n",
       " 'n_estimators': 30}"
      ]
     },
     "execution_count": 21,
     "metadata": {},
     "output_type": "execute_result"
    }
   ],
   "source": [
    "## We get the best parameters. \n",
    "rf_GS.best_params_"
   ]
  },
  {
   "cell_type": "code",
   "execution_count": 22,
   "id": "173a233d",
   "metadata": {},
   "outputs": [],
   "source": [
    "## We re-instantiate the regressor but with the best params obtained. \n",
    "rfg_best = RandomForestRegressor(bootstrap = True, max_depth =6 , max_features = 'sqrt', min_samples_leaf =4,\n",
    "                            min_samples_split = 2, n_estimators = 30, random_state = 42)\n",
    "rfg_best.fit(X_train,y_train)\n",
    "y_pred_rf_best = rfg_best.predict(X_test)"
   ]
  },
  {
   "cell_type": "code",
   "execution_count": 23,
   "id": "43553c86",
   "metadata": {},
   "outputs": [
    {
     "data": {
      "image/png": "[encoded data removed]",
      "text/plain": [
       "<Figure size 1008x504 with 1 Axes>"
      ]
     },
     "metadata": {
      "needs_background": "light"
     },
     "output_type": "display_data"
    }
   ],
   "source": [
    "## We visualize the predictions. \n",
    "plt.figure(figsize=(14,7))\n",
    "plt.scatter(y_test, y_pred_rf_best)\n",
    "plt.xlabel('Actual values')\n",
    "plt.ylabel('Predicted values')\n",
    "plt.plot([x for x in range(0,300)],[x for x in range(0,300)], color='r', linestyle='--',\n",
    "        label = 'Points on this line are accurately predicted.')\n",
    "plt.title('Random Forest Model Actual vs Predicted Values', pad=25, fontsize = 20)\n",
    "plt.xlim(0,300)\n",
    "plt.legend()\n",
    "plt.show()"
   ]
  },
  {
   "cell_type": "code",
   "execution_count": 24,
   "id": "ab06f426",
   "metadata": {},
   "outputs": [
    {
     "name": "stdout",
     "output_type": "stream",
     "text": [
      "Mean PFWS: 36.28\n",
      "R Squared - Multiple Regression: 0.03\n",
      "MSE: 10889.258\n",
      "RMSE: 104.352\n",
      "MAE: 53.52\n",
      "\n",
      "\n"
     ]
    }
   ],
   "source": [
    "print('Mean PFWS: ' + str(round(customer_cltv.pfw_spent.mean(),2)))\n",
    "print('R Squared - Multiple Regression: ' + str(round(r2_score(y_test,y_pred_rf_best),2)))\n",
    "print('MSE: '+ str(round(mse(y_test,y_pred_rf_best),3)))\n",
    "print('RMSE: ' +str(round(mse(y_test, y_pred_rf_best, squared =False),3)))\n",
    "print('MAE: '+ str(round(mae(y_test,y_pred_rf_best),3)))\n",
    "print(\"\\n\")"
   ]
  },
  {
   "cell_type": "code",
   "execution_count": 25,
   "id": "cad2e8cf",
   "metadata": {},
   "outputs": [
    {
     "data": {
      "text/html": [
       "<div>\n",
       "<style scoped>\n",
       "    .dataframe tbody tr th:only-of-type {\n",
       "        vertical-align: middle;\n",
       "    }\n",
       "\n",
       "    .dataframe tbody tr th {\n",
       "        vertical-align: top;\n",
       "    }\n",
       "\n",
       "    .dataframe thead th {\n",
       "        text-align: right;\n",
       "    }\n",
       "</style>\n",
       "<table border=\"1\" class=\"dataframe\">\n",
       "  <thead>\n",
       "    <tr style=\"text-align: right;\">\n",
       "      <th></th>\n",
       "      <th>Feature Importance</th>\n",
       "    </tr>\n",
       "  </thead>\n",
       "  <tbody>\n",
       "    <tr>\n",
       "      <th>fw_total_spent</th>\n",
       "      <td>0.682090</td>\n",
       "    </tr>\n",
       "    <tr>\n",
       "      <th>first_order_feb_june</th>\n",
       "      <td>0.095002</td>\n",
       "    </tr>\n",
       "    <tr>\n",
       "      <th>large_size</th>\n",
       "      <td>0.065557</td>\n",
       "    </tr>\n",
       "    <tr>\n",
       "      <th>first_item_price_range_low</th>\n",
       "      <td>0.036283</td>\n",
       "    </tr>\n",
       "    <tr>\n",
       "      <th>fw_used_coupon</th>\n",
       "      <td>0.035045</td>\n",
       "    </tr>\n",
       "    <tr>\n",
       "      <th>accepts_marketing</th>\n",
       "      <td>0.032377</td>\n",
       "    </tr>\n",
       "    <tr>\n",
       "      <th>wealthy_zip</th>\n",
       "      <td>0.027178</td>\n",
       "    </tr>\n",
       "    <tr>\n",
       "      <th>first_item_price_range_medium</th>\n",
       "      <td>0.026468</td>\n",
       "    </tr>\n",
       "  </tbody>\n",
       "</table>\n",
       "</div>"
      ],
      "text/plain": [
       "                               Feature Importance\n",
       "fw_total_spent                           0.682090\n",
       "first_order_feb_june                     0.095002\n",
       "large_size                               0.065557\n",
       "first_item_price_range_low               0.036283\n",
       "fw_used_coupon                           0.035045\n",
       "accepts_marketing                        0.032377\n",
       "wealthy_zip                              0.027178\n",
       "first_item_price_range_medium            0.026468"
      ]
     },
     "execution_count": 25,
     "metadata": {},
     "output_type": "execute_result"
    }
   ],
   "source": [
    "## We can get the most important features\n",
    "features = pd.DataFrame(rfg_best.feature_importances_, index = X.columns, \n",
    "                        columns=['Feature Importance']).sort_values('Feature Importance',ascending=False)\n",
    "features"
   ]
  },
  {
   "cell_type": "code",
   "execution_count": 26,
   "id": "79c01979",
   "metadata": {},
   "outputs": [
    {
     "data": {
      "image/png": "[encoded data removed]",
      "text/plain": [
       "<Figure size 720x360 with 1 Axes>"
      ]
     },
     "metadata": {
      "needs_background": "light"
     },
     "output_type": "display_data"
    }
   ],
   "source": [
    "## We can visualize the feature importance: \n",
    "plt.figure(figsize=(10,5))\n",
    "sns.color_palette(\"magma\", as_cmap=True)\n",
    "sns.barplot(y = features.index, x = features['Feature Importance'],palette='magma')\n",
    "plt.title('Feature importance in the Random Forest Model', pad = 20, fontsize = 15)\n",
    "plt.show()"
   ]
  },
  {
   "cell_type": "code",
   "execution_count": 27,
   "id": "0046f713",
   "metadata": {},
   "outputs": [
    {
     "name": "stdout",
     "output_type": "stream",
     "text": [
      "LinearRegression(n_jobs=-1, positive=True) Performance: \n",
      "R Squared : 0.036\n",
      "MSE: 10802.872\n",
      "RMSE: 103.937\n",
      "MAE: 53.367\n",
      "Average Errors: 53.367018222661535\n",
      "\n",
      "\n",
      "RandomForestRegressor(max_depth=6, max_features='sqrt', min_samples_leaf=4,\n",
      "                      n_estimators=30, random_state=42) Performance: \n",
      "R Squared : 0.029\n",
      "MSE: 10889.258\n",
      "RMSE: 104.352\n",
      "MAE: 53.52\n",
      "Average Errors: 53.51966558599653\n",
      "\n",
      "\n",
      "MLR Improvement on RF: 0.4%\n"
     ]
    }
   ],
   "source": [
    "## We can evaluate our two models. \n",
    "def evaluate_model(model):\n",
    "    model.fit(X_train,y_train)\n",
    "    y_pred = model.predict(X_test)\n",
    "    errors = abs(np.array(y_test) - y_pred)\n",
    "    r2 = round(r2_score(y_test,y_pred),3)\n",
    "    MSE = round(mse(y_test,y_pred),3)\n",
    "    RMSE = round(mse(y_test, y_pred, squared =False),3)\n",
    "    MAE = round(mae(y_test, y_pred),3)\n",
    "    print('{} Performance: '.format(model))\n",
    "    print('R Squared : ' + str(r2))\n",
    "    print('MSE: '+ str(MSE))\n",
    "    print('RMSE: ' +str(RMSE))\n",
    "    print('MAE: ' +str(MAE))\n",
    "    print(('Average Errors: ' + str(np.mean(errors))))\n",
    "    print(\"\\n\")\n",
    "    return RMSE\n",
    "\n",
    "Reg_evaluation = evaluate_model(rModel2)\n",
    "RF_Evaluation = evaluate_model(rfg_best)\n",
    "print(str(\"MLR Improvement on RF: \" + str(round(((RF_Evaluation- Reg_evaluation) / Reg_evaluation)*100,2))) + \"%\")"
   ]
  },
  {
   "cell_type": "code",
   "execution_count": null,
   "id": "d154ca32",
   "metadata": {},
   "outputs": [],
   "source": []
  }
 ],
 "metadata": {
  "kernelspec": {
   "display_name": "Python 3 (ipykernel)",
   "language": "python",
   "name": "python3"
  },
  "language_info": {
   "codemirror_mode": {
    "name": "ipython",
    "version": 3
   },
   "file_extension": ".py",
   "mimetype": "text/x-python",
   "name": "python",
   "nbconvert_exporter": "python",
   "pygments_lexer": "ipython3",
   "version": "3.9.10"
  }
 },
 "nbformat": 4,
 "nbformat_minor": 5
}
